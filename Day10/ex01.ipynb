{
 "cells": [
  {
   "cell_type": "markdown",
   "metadata": {},
   "source": [
    "# 상속\n",
    "- 한번 정의한 클래스를 기반으로 하여 새로운 클래스를 만들 수 있는 상속\n",
    "- 기존 클래스가 가지고 있는 기능과 데이터를 그대로 물려받아 새로운 클래스 생성이 가능\n",
    "- 기존 클래스의 기능을 재사용하고, 새로운 기능을 추가하여 더욱 다양한 객체 생성이 가능\n",
    "\n",
    "# 상속에서의 두 가지 주요 역할\n",
    "- 기능과 데이터를 물려주는 '부모' 역할\n",
    "- 기능과 데이터를 물려받는 '자식' 역할\n",
    "- 상속해 주는 클래스는 부모 클래스, 슈퍼 클래스, 기반 클래스 등으로 부름\n",
    "- 상속을 받는 클래스는 자식 클래스, 서브 클래스, 파생 클래스 등으로 부름\n",
    "- 상속 이라는 개념을 통해 부모 클래스의 특징과 기능들이 자식 클래스에게 물려받아짐\n",
    "- 자식 클래스는 어떤 부모 클래스의 기능과 속성을 상속 받을지 스스로 선택해야 함\n",
    "\n",
    "# 상속 관계의 기본 정의\n",
    "class 부모 클래스명:\n",
    "  ...\n",
    "class 자식 클래스명(부모 클래스명):\n",
    "  ...\n",
    "\n",
    "- 상속 관계를 정의하기 위해서는 클래스를 선언할 때 자식 클래스 이름 뒤에 소괄호 작성 후 괄호 안에 부모 클래스명을 작성 "
   ]
  },
  {
   "cell_type": "code",
   "execution_count": 7,
   "metadata": {},
   "outputs": [
    {
     "name": "stdout",
     "output_type": "stream",
     "text": [
      "안녕하세요\n",
      "안녕하세요\n",
      "안녕히가세요\n"
     ]
    }
   ],
   "source": [
    "class Parent:\n",
    "  def hello(self):\n",
    "    print(\"안녕하세요\")\n",
    "    \n",
    "\n",
    "class Child(Parent):\n",
    "  def bye(self):\n",
    "    print(\"안녕히가세요\")\n",
    "    \n",
    "parent = Parent()\n",
    "parent.hello()\n",
    "\n",
    "child = Child()\n",
    "child.hello() # 부모 클래스가 가진 메서드를 상속을 통해 자동으로 물려받아서 사용\n",
    "child.bye()\n",
    "\n",
    "# 상속을 통해 자식 클래스는 부모 클래스가 가진 모든 속성과 메서드를 자동으로 물려받음"
   ]
  },
  {
   "cell_type": "markdown",
   "metadata": {},
   "source": [
    "# super()\n",
    "- super() 키워드는 부모 클래스의 메서드나 생성자를 호출하는 데 사용\n",
    "- 자식 클래스는 부모 클래스의 생성자를 자동으로 상속받지 않으며, 자식 클래스에서 부모 클래스의 생성자를 호출하려면 super().__init__()를 사용해서 호출해야 함\n",
    "- 자식 클래스 객체가 생성되기 위해서는 부모 클래스 객체가 먼저 생성 및 초기화 되어야 하므로, 자식 클래스의 생성자에서 부모 클래스의 생성자를 먼저 호출해야 함\n",
    "- 만약 부모 클래스의 생성자가 기본 생성자(매개변수를 받지 않는 생성자)라면, 자식 클래스에서 명시적으로 호출하지 않아도 부모 클래스의 기본 생성자가 자동으로 호출됨\n",
    "- 하지만 부모 클래스가 기본 생성자가 아닌 다른 생성자(매개변수를 받는 생성자)를 가지고 있다면, 자식 클래스에서 해당 생성자를 명시적으로 호출해야 하며, 필요한 인자를 전달해야 함\n",
    "- 자식 클래스의 생성자에서 super().__init__()를 사용하여 부모 클래스의 생성자를 먼저 호출한 후, 자식 클래스에서 필요한 추가 데이터를 초기화할 수 있음\n",
    "- 이를 통해 자식 클래스는 부모 클래스의 기능을 활용하면서도 추가적인 데이터를 가질 수 있으며, 부모 클래스의 기능을 확장하거나 변경할 수 있음"
   ]
  },
  {
   "cell_type": "markdown",
   "metadata": {},
   "source": [
    "# super()로 부모 생성자 호출\n",
    "class 자식 클래스(부모 클래스):\n",
    "  def __init__(self, A, B):\n",
    "    super().__init__(A):\n",
    "    self.B = B\n",
    "\n",
    "# A : 부모 클래스의 생성자를 호출할 때 필요한 변수\n",
    "# B : 자식 클래스가 추가로 가질 변수"
   ]
  },
  {
   "cell_type": "code",
   "execution_count": 9,
   "metadata": {},
   "outputs": [
    {
     "name": "stdout",
     "output_type": "stream",
     "text": [
      "빨강 차가 달립니다.\n",
      "딩동\n"
     ]
    }
   ],
   "source": [
    "class Car:\n",
    "  def __init__(self, color):\n",
    "    self.color = color\n",
    "    \n",
    "  def drive(self):\n",
    "    print(self.color, \"차가 달립니다.\")\n",
    "    \n",
    "class Bus(Car):\n",
    "  def __init__(self, color, bell_sound):\n",
    "    super().__init__(color) # 부모 클래스 생성자 호출\n",
    "    self.bell_sound = bell_sound\n",
    "    \n",
    "  def press_bell(self):\n",
    "    print(self.bell_sound)\n",
    "    \n",
    "bus = Bus(\"빨강\", \"딩동\")\n",
    "bus.drive()\n",
    "bus.press_bell()\n",
    "\n",
    "# Bus클래스는 Car 클래스를 상속받아 확장\n",
    "# 자식 클래스는 부모 클래스에서 확장하여 별도의 데이터를 가질 수 있음"
   ]
  },
  {
   "cell_type": "markdown",
   "metadata": {},
   "source": [
    "# 오버라이딩\n",
    "- 오버라이딩은 부모 클래스의 메서드를 덮어써서 자식 클래스만의 기능을 구현할 수 있는 것\n",
    "- 부모 클래스에서 정의한 메서드를 자식 클래스에서 다시 정의하여 부모 클래스의 메서드를 덮어쓰는 기법\n",
    "- 자식 클래스에서 부모 클래스의 메서드와 동일한 형태로 메서드를 선언하고, 메서드의 구현 부분만 원하는 형태로 변경\n",
    "- 이를 통해 자식 클래스는 부모 클래스의 기본 동작을 재정의하거나 확장할 수 있음"
   ]
  },
  {
   "cell_type": "code",
   "execution_count": 12,
   "metadata": {},
   "outputs": [
    {
     "name": "stdout",
     "output_type": "stream",
     "text": [
      "파랑 차가 달립니다.\n",
      "쌩쌩\n",
      "\n",
      "빨강 버스가 달립니다.\n",
      "부릉부릉\n",
      "딩동\n"
     ]
    }
   ],
   "source": [
    "class Car:\n",
    "  def __init__(self, color):\n",
    "    self.color = color\n",
    "    \n",
    "  def drive(self):\n",
    "    print(self.color, \"차가 달립니다.\")\n",
    "    print(\"쌩쌩\")\n",
    "    \n",
    "class Bus(Car):\n",
    "  def __init__(self, color, bell_sound):\n",
    "    super().__init__(color) # 부모 클래스 생성자 호출\n",
    "    self.bell_sound = bell_sound\n",
    "    \n",
    "  # 메서드 오버라이딩\n",
    "  def drive(self):\n",
    "    print(self.color, \"버스가 달립니다.\")\n",
    "    print(\"부릉부릉\")\n",
    "    \n",
    "  def press_bell(self):\n",
    "    print(self.bell_sound)\n",
    "    \n",
    "    \n",
    "car = Car(\"파랑\")\n",
    "car.drive() # 부모 클래스의 drive\n",
    "print()\n",
    "    \n",
    "bus = Bus(\"빨강\", \"딩동\")\n",
    "bus.drive() # 자식 클래스의 drive\n",
    "bus.press_bell()\n",
    "\n",
    "# drive 메서드는 자식 클래스에서 오버라이딩되어 각 클래스의 특징에 맞는 출력을 수행하도록 구현"
   ]
  },
  {
   "cell_type": "code",
   "execution_count": 18,
   "metadata": {},
   "outputs": [
    {
     "name": "stdout",
     "output_type": "stream",
     "text": [
      "동물은 소리를 냅니다.\n",
      "고양이는 야옹합니다.\n",
      "강아지는 멍멍합니다.\n"
     ]
    }
   ],
   "source": [
    "class Animal:\n",
    "    def __init__(self, name):\n",
    "        self.name = name\n",
    "\n",
    "    def sound(self):\n",
    "        print(f\"{self.name}은 소리를 냅니다.\")\n",
    "\n",
    "class Cat(Animal):\n",
    "    def __init__(self, name):\n",
    "        super().__init__(name)  # 부모 클래스 생성자 호출\n",
    "\n",
    "    def sound(self):  # 부모 클래스의 sound 메서드를 오버라이딩\n",
    "        print(f\"{self.name}는 야옹합니다.\")\n",
    "\n",
    "class Dog(Animal):\n",
    "    def __init__(self, name):\n",
    "        super().__init__(name)  # 부모 클래스 생성자 호출\n",
    "\n",
    "    def sound(self):  # 부모 클래스의 sound 메서드를 오버라이딩\n",
    "        print(f\"{self.name}는 멍멍합니다.\")\n",
    "\n",
    "# 객체 생성\n",
    "animal = Animal(\"동물\")\n",
    "cat = Cat(\"고양이\")\n",
    "dog = Dog(\"강아지\")\n",
    "\n",
    "# 메서드 호출\n",
    "animal.sound()  # 부모 클래스의 sound\n",
    "cat.sound()  # 자식 클래스의 sound\n",
    "dog.sound()  # 자식 클래스의 sound"
   ]
  }
 ],
 "metadata": {
  "kernelspec": {
   "display_name": "Python 3",
   "language": "python",
   "name": "python3"
  },
  "language_info": {
   "name": "python",
   "version": "3.13.0"
  }
 },
 "nbformat": 4,
 "nbformat_minor": 2
}
