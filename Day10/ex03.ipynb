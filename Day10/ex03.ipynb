{
 "cells": [
  {
   "cell_type": "markdown",
   "metadata": {},
   "source": [
    "# 복습\n",
    "# 사칙연산 클래스 만들기"
   ]
  },
  {
   "cell_type": "code",
   "execution_count": 1,
   "metadata": {},
   "outputs": [
    {
     "data": {
      "text/plain": [
       "__main__.FourCal"
      ]
     },
     "execution_count": 1,
     "metadata": {},
     "output_type": "execute_result"
    }
   ],
   "source": [
    "# 클래스 구조 만들기\n",
    "class FourCal:\n",
    "\tpass # 아직 아무 기능도 가지지 않음\n",
    "\n",
    "a = FourCal()\n",
    "type(a)\n",
    "# 객체 a는 FourCal 클래스의 인스턴스"
   ]
  },
  {
   "cell_type": "code",
   "execution_count": null,
   "metadata": {},
   "outputs": [],
   "source": [
    "# 객체와 인스턴스\n",
    "class Cookie:\n",
    "    pass\n",
    "\n",
    "a = Cookie()\n",
    "b = Cookie()\n",
    "\n",
    "# 클래스로 만든 객체는 인스턴스\n",
    "# a는 a = Cookie()를 통해 생성한 객체\n",
    "# a는 Cookie의 인스턴스\n",
    "# a는 Cookie의 객체 보다는 Cookie의 인스턴스라는 표현이 훨씬 잘 어울림"
   ]
  },
  {
   "cell_type": "code",
   "execution_count": 9,
   "metadata": {},
   "outputs": [
    {
     "name": "stdout",
     "output_type": "stream",
     "text": [
      "4\n",
      "2\n"
     ]
    }
   ],
   "source": [
    "# 클래스에 기능 만들기\n",
    "class FourCal:\n",
    "    def setdata(self, first, second): # 메서드 구현\n",
    "        # 파이썬 메서드의 첫 번째 매개변수 이름은 관례적으로 self를 사용\n",
    "        # 객체를 호출할 때 호출한 객체 자신이 전달되기 때문에 self라는 이름을 사용\n",
    "        self.first = first # a.first = 4 (객체 변수)\n",
    "        self.second = second # a.second = 2 (객체 변수)\n",
    "        \n",
    "a = FourCal() # 객체 생성\n",
    "a.setdata(4, 2)\n",
    "print(a.first)\n",
    "print(a.second)"
   ]
  },
  {
   "cell_type": "code",
   "execution_count": 11,
   "metadata": {},
   "outputs": [
    {
     "name": "stdout",
     "output_type": "stream",
     "text": [
      "4\n",
      "3\n",
      "4\n"
     ]
    }
   ],
   "source": [
    "# 객체 변수 알아보기\n",
    "class FourCal:\n",
    "    def setdata(self, first, second): \n",
    "        self.first = first \n",
    "        self.second = second\n",
    "        \n",
    "a = FourCal()\n",
    "b = FourCal()\n",
    "\n",
    "a.setdata(4, 2)\n",
    "print(a.first)\n",
    "\n",
    "b.setdata(3, 7)\n",
    "print(b.first)\n",
    "print(a.first)\n",
    "\n",
    "# 객체변수는 다른 객체의 객체변수에 상관 없이 독립적인 값을 유지\n"
   ]
  },
  {
   "cell_type": "code",
   "execution_count": 12,
   "metadata": {},
   "outputs": [
    {
     "data": {
      "text/plain": [
       "6"
      ]
     },
     "execution_count": 12,
     "metadata": {},
     "output_type": "execute_result"
    }
   ],
   "source": [
    "# 클래스에 더하기 기능 만들기\n",
    "class FourCal:\n",
    "    def setdata(self, first, second):\n",
    "        self.first = first\n",
    "        self.second = second\n",
    "    \n",
    "    def add(self):\n",
    "        result = self.first + self.second\n",
    "        return result\n",
    "      \n",
    "a = FourCal()\n",
    "a.setdata(4, 2)\n",
    "a.add()"
   ]
  },
  {
   "cell_type": "code",
   "execution_count": 14,
   "metadata": {},
   "outputs": [
    {
     "name": "stdout",
     "output_type": "stream",
     "text": [
      "6\n",
      "8\n",
      "2\n",
      "2.0\n",
      "\n",
      "11\n",
      "24\n",
      "-5\n",
      "0.375\n"
     ]
    }
   ],
   "source": [
    "# 클래스에 곱하기, 빼기, 나누기 기능 만들기\n",
    "class FourCal:\n",
    "    def setdata(self, first, second):\n",
    "        self.first = first\n",
    "        self.second = second\n",
    "\n",
    "    def add(self):\n",
    "        result = self.first + self.second\n",
    "        return result\n",
    "\n",
    "    def mul(self):\n",
    "        result = self.first * self.second\n",
    "        return result\n",
    "\n",
    "    def sub(self):\n",
    "        result = self.first - self.second\n",
    "        return result\n",
    "\n",
    "    def div(self):\n",
    "        result = self.first / self.second\n",
    "        return result\n",
    "      \n",
    "a = FourCal()\n",
    "b = FourCal()\n",
    "a.setdata(4, 2)\n",
    "b.setdata(3, 8)\n",
    "\n",
    "print(a.add())\n",
    "print(a.mul())\n",
    "print(a.sub())\n",
    "print(a.div())\n",
    "print()\n",
    "print(b.add())\n",
    "print(b.mul())\n",
    "print(b.sub())\n",
    "print(b.div())"
   ]
  },
  {
   "cell_type": "code",
   "execution_count": 19,
   "metadata": {},
   "outputs": [
    {
     "name": "stdout",
     "output_type": "stream",
     "text": [
      "4\n",
      "2\n",
      "6\n",
      "2.0\n"
     ]
    }
   ],
   "source": [
    "# setdata 메서드 대신 생성자 구현하기\n",
    "# FourCal 클래스의 인스턴스 a에 setdata 메서드를 수행하지 않고 add 메서드를 먼저 수행하면 오류가 발생\n",
    "# setdata 메서드를 수행해야 객체 a의 객체변수 first와 second가 생성되기 때문\n",
    "# 이렇게 객체에 first, second와 같은 초깃값을 설정해야 할 필요가 있을 때는 setdata와 같은 메서드를 호출하여 초깃값을 설정하기보다 생성자를 구현하는 것이 안전한 방법!!\n",
    "\n",
    "class FourCal:\n",
    "    # __init__() 메서드로 객체 초기화(생성자)\n",
    "    # 객체가 생성되는 시점에 자동으로 호출\n",
    "    def __init__(self, first, second):\n",
    "        self.first = first\n",
    "        self.second = second\n",
    "\n",
    "    # 덧셈\n",
    "    def add(self):\n",
    "        result = self.first + self.second\n",
    "        return result\n",
    "\n",
    "    # 곱셈\n",
    "    def mul(self):\n",
    "        result = self.first * self.second\n",
    "        return result\n",
    "\n",
    "    # 뺄셈\n",
    "    def sub(self):\n",
    "        result = self.first - self.second\n",
    "        return result\n",
    "\n",
    "    # 나눗셈\n",
    "    def div(self):\n",
    "         result = self.first / self.second\n",
    "         return result\n",
    "       \n",
    "a = FourCal(4, 2)\n",
    "print(a.first)\n",
    "print(a.second)\n",
    "\n",
    "print(a.add())\n",
    "print(a.div())"
   ]
  },
  {
   "cell_type": "code",
   "execution_count": 21,
   "metadata": {},
   "outputs": [
    {
     "name": "stdout",
     "output_type": "stream",
     "text": [
      "6\n",
      "8\n",
      "2\n",
      "2.0\n"
     ]
    }
   ],
   "source": [
    "# 상속을 통해 새로운 클래스 생성하기\n",
    "# FourCal 클래스를 상속하는 MoreFourCal 클래스 생성\n",
    "class MoreFourCal(FourCal):\n",
    "\tpass\n",
    "\n",
    "a = MoreFourCal(4, 2)\n",
    "print(a.add())\n",
    "print(a.mul())\n",
    "print(a.sub())\n",
    "print(a.div())\n",
    "# MoreFourCal 클래스는 FourCal 클래스를 상속했으므로 FourCal 클래스의 모든 기능을 사용할 수 있음\n",
    "# MoreFourCal 클래스에 생성자가 따로 정의되어 있지 않아 FourCal 클래스의 생성자를 호출하게 되므로, 객체 생성시 FourCal 클래스의 생성자에 맞추어 인자값을 넣어주어야 함!"
   ]
  },
  {
   "cell_type": "code",
   "execution_count": 23,
   "metadata": {},
   "outputs": [
    {
     "name": "stdout",
     "output_type": "stream",
     "text": [
      "16\n",
      "6\n"
     ]
    }
   ],
   "source": [
    "# 상속을 통해 새롭게 만든 클래스에 기능 추가\n",
    "class MoreFourCal(FourCal):\n",
    "    # pow 메서드 추가\n",
    "    def pow(self):\n",
    "        result = self.first ** self.second\n",
    "        return result\n",
    "      \n",
    "a = MoreFourCal(4, 2)\n",
    "\n",
    "print(a.pow())\n",
    "print(a.add())\n",
    "\n",
    "# 기존 클래스는 그대로 둔채 새로운 클래스의 기능을 확장할 수 있음"
   ]
  },
  {
   "cell_type": "code",
   "execution_count": 24,
   "metadata": {},
   "outputs": [
    {
     "data": {
      "text/plain": [
       "0"
      ]
     },
     "execution_count": 24,
     "metadata": {},
     "output_type": "execute_result"
    }
   ],
   "source": [
    "# 메서드 오버라이딩 사용\n",
    "class SafeFourCal(FourCal):\n",
    "    def div(self):\n",
    "        if self.second == 0:  # 나누는 값이 0인 경우 0을 리턴하도록 수정\n",
    "            return 0\n",
    "        else:\n",
    "            return self.first / self.second\n",
    "# FourCal 클래스에 있는 div 메서드를 자식 클래스에서 동일한 이름으로 다시 작성\n",
    "# 부모 클래스(상속한 클래스)에 있는 메서드를 동일한 이름으로 다시 만드는 것을 메서드 오버라이딩이라고 함\n",
    "# 메서드를 오버라이딩하면 부모 클래스의 메서드 대신 오버라이딩한 메서드가 호출됨\n",
    "\n",
    "a = SafeFourCal(4, 0)\n",
    "a.div() # 재정의된 메서드 호출"
   ]
  }
 ],
 "metadata": {
  "kernelspec": {
   "display_name": "Python 3",
   "language": "python",
   "name": "python3"
  },
  "language_info": {
   "codemirror_mode": {
    "name": "ipython",
    "version": 3
   },
   "file_extension": ".py",
   "mimetype": "text/x-python",
   "name": "python",
   "nbconvert_exporter": "python",
   "pygments_lexer": "ipython3",
   "version": "3.13.0"
  }
 },
 "nbformat": 4,
 "nbformat_minor": 2
}
