{
 "cells": [
  {
   "cell_type": "code",
   "execution_count": 1,
   "metadata": {},
   "outputs": [
    {
     "name": "stdout",
     "output_type": "stream",
     "text": [
      "안녕하세요, 저는 민수이고, 나이는 25입니다.\n",
      "안녕하세요, 저는 지민이고, 나이는 30입니다.\n"
     ]
    }
   ],
   "source": [
    "# 문제1. Person 클래스를 만들고, introduce 메서드를 통해 \"안녕하세요, 저는 [name]이고, 나이는 [age]입니다.\"라는 문장을 출력하세요.\n",
    "\n",
    "class Person:\n",
    "    def __init__(self, name, age):\n",
    "        self.name = name  # name 변수 초기화\n",
    "        self.age = age    # age 변수 초기화\n",
    "    \n",
    "    def introduce(self):\n",
    "        print(f\"안녕하세요, 저는 {self.name}이고, 나이는 {self.age}입니다.\")\n",
    "        # print(\"안녕하세요, 저는 \" + self.name + \"이고, 나이는 \" + str(self.age) + \"입니다.\")\n",
    "\n",
    "# 객체 생성\n",
    "person1 = Person(\"민수\", 25)\n",
    "person2 = Person(\"지민\", 30)\n",
    "\n",
    "# introduce 메서드 호출\n",
    "person1.introduce()  # 출력: 안녕하세요, 저는 민수이고, 나이는 25입니다.\n",
    "person2.introduce()  # 출력: 안녕하세요, 저는 지민이고, 나이는 30입니다."
   ]
  },
  {
   "cell_type": "code",
   "execution_count": 2,
   "metadata": {},
   "outputs": [
    {
     "name": "stdout",
     "output_type": "stream",
     "text": [
      "500\n",
      "잔고 부족\n",
      "500\n"
     ]
    }
   ],
   "source": [
    "# 문제2. BankAccount 클래스를 만들어서, 계좌의 balance(잔고)를 관리합니다. deposit(입금)과 withdraw(출금) 메서드를 작성하고, 출금 시 잔고가 부족하면 \"잔고 부족\" 메시지를 출력하세요.\n",
    "\n",
    "class BankAccount:\n",
    "    def __init__(self):\n",
    "        self.balance = 0  # 초기 잔고는 0으로 생성\n",
    "    \n",
    "    def deposit(self, amount):\n",
    "        self.balance += amount  # 입금 처리\n",
    "    \n",
    "    def withdraw(self, amount):\n",
    "        if amount > self.balance:\n",
    "            print(\"잔고 부족\")  # 잔고 부족 시 메시지 출력\n",
    "        else:\n",
    "            self.balance -= amount  # 출금 처리\n",
    "\n",
    "# 객체 생성\n",
    "account1 = BankAccount()\n",
    "account1.deposit(1000)\n",
    "account1.withdraw(500)\n",
    "print(account1.balance)  # 출력: 500\n",
    "\n",
    "account1.withdraw(600)  # 출력: 잔고 부족\n",
    "print(account1.balance)  # 출력: 500"
   ]
  },
  {
   "cell_type": "code",
   "execution_count": 3,
   "metadata": {},
   "outputs": [
    {
     "name": "stdout",
     "output_type": "stream",
     "text": [
      "민수은 합격입니다.\n",
      "지민은 불합격입니다.\n"
     ]
    }
   ],
   "source": [
    "# 문제3. Student 클래스를 만들어, 학생의 이름과 점수를 관리합니다. is_pass 메서드를 만들어, 점수가 60점 이상이면 \"합격\", 60점 미만이면 \"불합격\"을 출력하세요.\n",
    "\n",
    "class Student:\n",
    "    def __init__(self, name, score):\n",
    "        self.name = name   # 변수 name 초기화\n",
    "        self.score = score # 변수 score 초기화\n",
    "    \n",
    "    def is_pass(self):\n",
    "        if self.score >= 60:\n",
    "            print(self.name + \"은 합격입니다.\")  # 합격 출력\n",
    "        else:\n",
    "            print(self.name + \"은 불합격입니다.\")  # 불합격 출력\n",
    "\n",
    "# 객체 생성\n",
    "student1 = Student(\"민수\", 75)\n",
    "student2 = Student(\"지민\", 50)\n",
    "\n",
    "# 합격 여부 확인\n",
    "student1.is_pass()  # 출력: 민수은 합격입니다.\n",
    "student2.is_pass()  # 출력: 지민은 불합격입니다."
   ]
  },
  {
   "cell_type": "code",
   "execution_count": 4,
   "metadata": {},
   "outputs": [
    {
     "name": "stdout",
     "output_type": "stream",
     "text": [
      "책 제목: 파이썬 기초, 저자: 홍길동\n",
      "책 제목: 파이썬 심화, 저자: 김철수\n"
     ]
    }
   ],
   "source": [
    "# 문제4. Book 클래스를 만들고, 이 클래스는 title과 author라는 두 개의 속성을 가지도록 합니다. book_info라는 메서드를 추가하여 \"책 제목: [title], 저자: [author]\"를 출력하세요.\n",
    "\n",
    "class Book:\n",
    "    def __init__(self, title, author):\n",
    "        self.title = title  # 변수 title 초기화\n",
    "        self.author = author  # 변수 author 초기화\n",
    "    \n",
    "    def book_info(self):\n",
    "        print(\"책 제목: \" + self.title + \", 저자: \" + self.author)\n",
    "\n",
    "# 객체 생성\n",
    "book1 = Book(\"파이썬 기초\", \"홍길동\")\n",
    "book2 = Book(\"파이썬 심화\", \"김철수\")\n",
    "\n",
    "# book_info 메서드 호출\n",
    "book1.book_info()  # 출력: 책 제목: 파이썬 기초, 저자: 홍길동\n",
    "book2.book_info()  # 출력: 책 제목: 파이썬 심화, 저자: 김철수"
   ]
  },
  {
   "cell_type": "code",
   "execution_count": 5,
   "metadata": {},
   "outputs": [
    {
     "name": "stdout",
     "output_type": "stream",
     "text": [
      "멍멍!\n",
      "멍멍!\n",
      "저는 해피이고, 나이는 3살입니다.\n",
      "저는 초코이고, 나이는 5살입니다.\n"
     ]
    }
   ],
   "source": [
    "# 문제5. Dog 클래스를 만들고, 이 클래스는 name과 age라는 두 개의 속성을 가집니다.\n",
    "# bark라는 메서드를 추가하여 \"멍멍!\"을 출력하는 기능을 구현합니다.\n",
    "# introduce라는 메서드를 추가하여 \"저는 [name]이고, 나이는 [age]살입니다.\"라는 문장을 출력하세요.\n",
    "\n",
    "class Dog:\n",
    "    def __init__(self, name, age):\n",
    "        self.name = name \n",
    "        self.age = age   \n",
    "    \n",
    "    def bark(self):\n",
    "        print(\"멍멍!\")  # 멍멍 출력\n",
    "    \n",
    "    def introduce(self):\n",
    "        print(\"저는 \" + self.name + \"이고, 나이는 \" + str(self.age) + \"살입니다.\")\n",
    "\n",
    "# 객체 생성\n",
    "dog1 = Dog(\"해피\", 3)\n",
    "dog2 = Dog(\"초코\", 5)\n",
    "\n",
    "# bark 메서드 호출\n",
    "dog1.bark() \n",
    "dog2.bark() \n",
    "\n",
    "# introduce 메서드 호출\n",
    "dog1.introduce()  # 출력: 저는 해피이고, 나이는 3살입니다.\n",
    "dog2.introduce()  # 출력: 저는 초코이고, 나이는 5살입니다."
   ]
  }
 ],
 "metadata": {
  "kernelspec": {
   "display_name": "Python 3",
   "language": "python",
   "name": "python3"
  },
  "language_info": {
   "codemirror_mode": {
    "name": "ipython",
    "version": 3
   },
   "file_extension": ".py",
   "mimetype": "text/x-python",
   "name": "python",
   "nbconvert_exporter": "python",
   "pygments_lexer": "ipython3",
   "version": "3.13.0"
  }
 },
 "nbformat": 4,
 "nbformat_minor": 2
}
