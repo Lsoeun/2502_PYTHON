{
 "cells": [
  {
   "cell_type": "code",
   "execution_count": 48,
   "metadata": {},
   "outputs": [
    {
     "name": "stdout",
     "output_type": "stream",
     "text": [
      "이름: 홍길동, 나이: 20\n"
     ]
    }
   ],
   "source": [
    "# 문제 1: 변수와 자료형\n",
    "# 이름: 홍길동, 나이: 20\n",
    "\n",
    "name = \"홍길동\"  # 이름 변수에 홍길동을 저장\n",
    "age = 20  # 나이 변수에 20을 저장\n",
    "\n",
    "print(f\"이름: {name}, 나이: {age}\")\n",
    "\n",
    "# 동일한 결과를 출력하는 다른 형식들\n",
    "# print(\"이름:\", name, \", 나이:\", age)\n",
    "# print(\"이름: \" + name + \", 나이: \" + str(age))"
   ]
  },
  {
   "cell_type": "code",
   "execution_count": 49,
   "metadata": {},
   "outputs": [
    {
     "name": "stdout",
     "output_type": "stream",
     "text": [
      "7은 홀수입니다.\n"
     ]
    }
   ],
   "source": [
    "# 문제 2: 조건문\n",
    "\n",
    "# 사용자로부터 숫자 입력 받기\n",
    "num = int(input(\"숫자를 입력하세요: \"))  # 입력값을 정수로 변환\n",
    "\n",
    "# 짝수와 홀수 판별\n",
    "if num % 2 == 0:\n",
    "    print(f\"{num}은 짝수입니다.\")\n",
    "    # print(str(num) + \"은 짝수입니다.\")\n",
    "else:\n",
    "    print(f\"{num}은 홀수입니다.\")\n",
    "    # print(str(num) + \"은 홀수입니다.\")\n"
   ]
  },
  {
   "cell_type": "code",
   "execution_count": 50,
   "metadata": {},
   "outputs": [
    {
     "name": "stdout",
     "output_type": "stream",
     "text": [
      "1부터 10까지의 합은 55입니다.\n"
     ]
    }
   ],
   "source": [
    "# 문제 3: 반복문\n",
    "\n",
    "total = 0  # 합계를 저장할 변수 초기화\n",
    "\n",
    "# 1부터 10까지 반복\n",
    "for i in range(1, 11):  # range(1, 11)로 1부터 10까지 반복\n",
    "    total += i  # 각 숫자를 total에 더하기\n",
    "\n",
    "print(f\"1부터 10까지의 합은 {total}입니다.\")\n",
    "\n",
    "# 동일한 결과를 출력하는 다른 형식들\n",
    "# print(\"1부터 10까지의 합은\", total, \"입니다.\")\n",
    "# print(\"1부터 10까지의 합은 \" + str(total) + \"입니다.\")"
   ]
  },
  {
   "cell_type": "code",
   "execution_count": 51,
   "metadata": {},
   "outputs": [
    {
     "name": "stdout",
     "output_type": "stream",
     "text": [
      "첫 번째 문자: P, 마지막 문자: g\n",
      "2번째부터 5번째 문자: ytho\n"
     ]
    }
   ],
   "source": [
    "# 문제 4: 문자열 인덱싱과 슬라이싱\n",
    "\n",
    "text = \"Python Programming\"\n",
    "\n",
    "# 첫 번째 문자와 마지막 문자 출력\n",
    "first_char = text[0]  # 첫 번째 문자\n",
    "last_char = text[-1]  # 마지막 문자\n",
    "\n",
    "# 2번째부터 5번째 문자까지 슬라이싱\n",
    "slice_text = text[1:5]  # 슬라이싱\n",
    "\n",
    "print(f\"첫 번째 문자: {first_char}, 마지막 문자: {last_char}\")\n",
    "print(f\"2번째부터 5번째 문자: {slice_text}\")\n",
    "\n",
    "# 동일한 결과를 출력하는 다른 형식들\n",
    "# print(\"첫 번째 문자: \" + first_char + \", 마지막 문자: \" + last_char)\n",
    "# print(\"2번째부터 5번째 문자: \" + slice_text)"
   ]
  },
  {
   "cell_type": "code",
   "execution_count": 52,
   "metadata": {},
   "outputs": [
    {
     "name": "stdout",
     "output_type": "stream",
     "text": [
      "리스트에서 가장 큰 값은 5입니다.\n"
     ]
    }
   ],
   "source": [
    "# 문제 5: 리스트\n",
    "\n",
    "numbers = [3, 1, 4, 1, 5]  # 숫자 리스트\n",
    "\n",
    "# 리스트에서 가장 큰 값 찾기\n",
    "max_value = max(numbers)\n",
    "\n",
    "print(f\"리스트에서 가장 큰 값은 {max_value}입니다.\")\n",
    "\n",
    "# 동일한 결과를 출력하는 다른 형식들\n",
    "# print(\"리스트에서 가장 큰 값은\", max_value, \"입니다.\")\n",
    "# print(\"리스트에서 가장 큰 값은 \" + str(max_value) + \"입니다.\")"
   ]
  },
  {
   "cell_type": "code",
   "execution_count": 53,
   "metadata": {},
   "outputs": [
    {
     "name": "stdout",
     "output_type": "stream",
     "text": [
      "첫 번째 숫자: 1, 마지막 숫자: 6\n"
     ]
    }
   ],
   "source": [
    "# 문제 6: 튜플\n",
    "\n",
    "numbers = (1, 2, 3, 4, 5, 6)\n",
    "\n",
    "# 첫 번째 숫자와 마지막 숫자 출력\n",
    "first_num = numbers[0]\n",
    "last_num = numbers[-1]\n",
    "\n",
    "print(f\"첫 번째 숫자: {first_num}, 마지막 숫자: {last_num}\")\n",
    "\n",
    "# 동일한 결과를 출력하는 다른 형식들\n",
    "# print(\"첫 번째 숫자:\", first_num, \", 마지막 숫자:\", last_num)\n",
    "# print(\"첫 번째 숫자: \" + str(first_num) + \", 마지막 숫자: \" + str(last_num))"
   ]
  },
  {
   "cell_type": "code",
   "execution_count": 54,
   "metadata": {},
   "outputs": [
    {
     "name": "stdout",
     "output_type": "stream",
     "text": [
      "홍길동의 점수: 85\n",
      "이영희의 점수: 90\n"
     ]
    }
   ],
   "source": [
    "# 문제 7: 딕셔너리\n",
    "\n",
    "students = {'홍길동': 85, '김철수': 70, '이영희': 90}  # 학생 이름과 점수\n",
    "\n",
    "# 딕셔너리의 키와 값 반복\n",
    "for name, score in students.items():\n",
    "    if score >= 80:\n",
    "        print(f\"{name}의 점수: {score}\")\n",
    "       # print(name + \"의 점수:\", score)"
   ]
  },
  {
   "cell_type": "code",
   "execution_count": 55,
   "metadata": {},
   "outputs": [
    {
     "name": "stdout",
     "output_type": "stream",
     "text": [
      "합: 15, 차: 5\n"
     ]
    }
   ],
   "source": [
    "# 문제 8: 함수\n",
    "\n",
    "def calculate(a, b):\n",
    "    sum_result = a + b  # 합\n",
    "    diff_result = a - b  # 차\n",
    "    return sum_result, diff_result  \n",
    "  # 합과 차를 튜플로 반환\n",
    "\n",
    "result1, result2 = calculate(10, 5)  # 함수 호출 후 결과 저장\n",
    "\n",
    "print(f\"합: {result1}, 차: {result2}\")\n",
    "\n",
    "# 동일한 결과를 출력하는 다른 형식들\n",
    "# print(\"합:\", result1, \", 차:\", result2)\n",
    "# print(\"합: \" + str(result1) + \", \" + \"차: \" + str(result2))"
   ]
  },
  {
   "cell_type": "code",
   "execution_count": 59,
   "metadata": {},
   "outputs": [
    {
     "name": "stdout",
     "output_type": "stream",
     "text": [
      "제곱 값들: [1, 4, 9, 16]\n"
     ]
    }
   ],
   "source": [
    "# 문제 9: 람다 함수\n",
    "\n",
    "numbers = [1, 2, 3, 4]\n",
    "\n",
    "# lambda와 map을 사용하여 제곱 값 계산\n",
    "squares = list(map(lambda x: x**2, numbers))\n",
    "\n",
    "# 제곱 값들 출력\n",
    "print(f\"제곱 값들: {squares}\")\n",
    "# print(\"제곱 값들:\", squares)\n"
   ]
  },
  {
   "cell_type": "code",
   "execution_count": 60,
   "metadata": {},
   "outputs": [
    {
     "name": "stdout",
     "output_type": "stream",
     "text": [
      "5보다 큰 값들: [7, 9]\n"
     ]
    }
   ],
   "source": [
    "# 문제 10: 내장 함수\n",
    "\n",
    "numbers = [4, 1, 7, 1, 3, 9, 7, 2, 4, 5]\n",
    "\n",
    "# 중복 제거 후 5보다 큰 값만 필터링하고 오름차순 정렬\n",
    "unique_numbers = set(numbers)  # 중복 제거\n",
    "filtered_numbers = filter(lambda x: x > 5, unique_numbers)  # 5보다 큰 값 필터링\n",
    "sorted_numbers = sorted(filtered_numbers)  # 오름차순 정렬\n",
    "\n",
    "# 결과 출력\n",
    "print(f\"5보다 큰 값들: {sorted_numbers}\")\n",
    "# print(\"5보다 큰 값들:\", sorted_numbers)"
   ]
  },
  {
   "cell_type": "code",
   "execution_count": 61,
   "metadata": {},
   "outputs": [
    {
     "name": "stdout",
     "output_type": "stream",
     "text": [
      "학생 이름: 홍길동, 학년: 3\n"
     ]
    }
   ],
   "source": [
    "# 문제 11: 클래스와 객체\n",
    "\n",
    "class Student:\n",
    "    def __init__(self, name, grade):\n",
    "        self.name = name\n",
    "        self.grade = grade\n",
    "\n",
    "    def display(self):\n",
    "        print(f\"학생 이름: {self.name}, 학년: {self.grade}\")\n",
    "        # print(\"학생 이름:\", self.name, \", 학년:\", self.grade)\n",
    "\n",
    "\n",
    "# 객체 생성\n",
    "student = Student(\"홍길동\", 3)\n",
    "student.display()"
   ]
  },
  {
   "cell_type": "code",
   "execution_count": 32,
   "metadata": {},
   "outputs": [
    {
     "name": "stdout",
     "output_type": "stream",
     "text": [
      "멍멍!\n"
     ]
    }
   ],
   "source": [
    "# 문제 12: 상속과 오버라이딩\n",
    "\n",
    "class Animal:\n",
    "    def speak(self):\n",
    "        print(\"동물이 소리를 냅니다.\")\n",
    "\n",
    "class Dog(Animal):\n",
    "    def speak(self):\n",
    "        print(\"멍멍!\")\n",
    "\n",
    "# 객체 생성\n",
    "dog = Dog()\n",
    "dog.speak()  # 개의 짖는 소리 출력"
   ]
  }
 ],
 "metadata": {
  "kernelspec": {
   "display_name": "Python 3",
   "language": "python",
   "name": "python3"
  },
  "language_info": {
   "codemirror_mode": {
    "name": "ipython",
    "version": 3
   },
   "file_extension": ".py",
   "mimetype": "text/x-python",
   "name": "python",
   "nbconvert_exporter": "python",
   "pygments_lexer": "ipython3",
   "version": "3.13.0"
  }
 },
 "nbformat": 4,
 "nbformat_minor": 2
}
