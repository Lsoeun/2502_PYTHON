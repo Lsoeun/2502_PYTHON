{
 "cells": [
  {
   "cell_type": "markdown",
   "metadata": {},
   "source": [
    "# 셀레니움으로 자동 검색하기\n",
    "<input id=\"query\" name=\"query\" type=\"search\" title=\"검색어를 입력해 주세요.\" placeholder=\"검색어를 입력해 주세요.\" maxlength=\"255\" autocomplete=\"off\" class=\"search_input\" data-atcmp-element=\"\">\n",
    "\n",
    "# 검색창 찾기\n",
    "- id : 특정 태그를 지시하기 위해 사용하는 속성, 페이지 내에서 유일한 속성\n",
    "- 자동 검색 시에는 조작하고 싶은 입력창이나 버튼의 id값을 알아내는 것이 중요\n",
    "- id 태그 불러와 작업 수행하는 법 : 드라이버.find_element(By.ID, \"아이디명\")\n",
    "- query = driver.find_element(By.ID, \"query\")\n",
    "\n",
    "# 검색창에서 자동으로 작업 수행하기\n",
    "- send_keys(키 입력값) : 키보드를 통한 키 입력\n",
    "- click() : 마우스를 통한 클릭\n",
    "- query.send_keys(\"파이썬\") -> 검색창에 \"파이썬\" 입력\n",
    "- query.send_leys(Keys.RETURN) -> Enter 키 입력 (검색 실행)"
   ]
  },
  {
   "cell_type": "code",
   "execution_count": 2,
   "metadata": {},
   "outputs": [],
   "source": [
    "# 네이버에서 파이썬 검색하기\n",
    "from selenium import webdriver\n",
    "\n",
    "# send_keys, find_element 사용을 위한 모듈 import\n",
    "from selenium.webdriver.common.keys import Keys\n",
    "from selenium.webdriver.common.by import By\n",
    "\n",
    "# 페이지 로딩을 기다리는데에 사용할 time 모듈 import\n",
    "import time\n",
    "\n",
    "# 네이버 메인 페이지 열기 위한 주소\n",
    "url = 'https://www.naver.com/'\n",
    "# 크롬드라이버 실행\n",
    "driver = webdriver.Chrome()\n",
    "#크롬 드라이버에 url 주소 넣고 실행\n",
    "driver.get(url)\n",
    "time.sleep(3)\n",
    "\n",
    "# 검색창 찾기\n",
    "query = driver.find_element(By.ID, \"query\")\n",
    "\n",
    "# 검색창에 검색어 입력\n",
    "query.send_keys(\"파이썬\")\n",
    "\n",
    "# 검색창에 엔터 입력\n",
    "query.send_keys(Keys.RETURN)\n",
    "time.sleep(1)"
   ]
  }
 ],
 "metadata": {
  "kernelspec": {
   "display_name": "Python 3",
   "language": "python",
   "name": "python3"
  },
  "language_info": {
   "codemirror_mode": {
    "name": "ipython",
    "version": 3
   },
   "file_extension": ".py",
   "mimetype": "text/x-python",
   "name": "python",
   "nbconvert_exporter": "python",
   "pygments_lexer": "ipython3",
   "version": "3.13.0"
  }
 },
 "nbformat": 4,
 "nbformat_minor": 2
}
