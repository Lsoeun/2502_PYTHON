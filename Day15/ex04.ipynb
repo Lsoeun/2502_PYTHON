{
 "cells": [
  {
   "cell_type": "code",
   "execution_count": 1,
   "metadata": {},
   "outputs": [],
   "source": [
    "# step1. selenium 패키지와 time 모듈 import\n",
    "from selenium import webdriver\n",
    "from selenium.webdriver.common.keys import Keys\n",
    "from selenium.webdriver.common.by import By\n",
    "import time\n",
    "\n",
    "# step2. 검색할 키워드 입력\n",
    "query = input('검색할 키워드를 입력하세요: ')\n",
    "\n",
    "# step3. 크롬드라이버로 원하는 url로 접속\n",
    "url = 'https://www.naver.com/'\n",
    "driver = webdriver.Chrome()\n",
    "driver.get(url)\n",
    "time.sleep(3)\n",
    "\n",
    "# step4. 검색창에 키워드 입력 후 엔터\n",
    "search_box = driver.find_element(By.ID, \"query\")\n",
    "search_box.send_keys(query)\n",
    "search_box.send_keys(Keys.RETURN)\n",
    "time.sleep(2)\n",
    "\n",
    "# step5. 첫번째 탭 클릭 (CSS_SELECTOR 사용)\n",
    "driver.find_element(By.CSS_SELECTOR, '#lnb > div.lnb_group > div > div.lnb_nav_area._nav_area_root > div > div.api_flicking_wrap._conveyer_root > div:nth-child(1)').click()\n",
    "time.sleep(2)"
   ]
  },
  {
   "cell_type": "code",
   "execution_count": 2,
   "metadata": {},
   "outputs": [
    {
     "name": "stdout",
     "output_type": "stream",
     "text": [
      "블로그 상위노출 어디에서 할까?!\n",
      "네이버 블로그 홍보 현명한 업체 선택\n",
      "블로그광고대행 업체 성공하려면\n",
      "네이버 블로그 홍보 진중한 업체 선택\n",
      "브랜드 블로그 마케팅 업체 체크 사항\n",
      "블로그로 갑니다.\n",
      "블로그 대행사 활용하려면?\n",
      "한달 생활비 10만원대로 줄이는 블로그 사용법\n",
      "블로그 상위 노출 떠오르는 마케팅 방법\n",
      "네이버 블로그 홍보 업체 정착했어요\n",
      "블로그알바사기 피해자 대처방법은\n",
      "네이버 블로그 홍보 업체 확실한 선택\n",
      "블로그상단노출 상위 노출 목표한다면\n",
      "블로그상위노출 업체 분석해본다면\n",
      "1일 N포 효과 - 블로그에 활력을 만든다\n",
      "블로그광고 실행사 대행사 차이가 무엇일까?\n",
      "브랜드 블로그관리대행 업체 효과적으로\n",
      "블로그 상위노출 대행사 잘 고르는 방법\n",
      "브랜드 블로그 대행, 글쓰기가 어렵다면?\n",
      "블로그 방문자 늘리기 방법을 찾는다면\n",
      "그냥 블로그 잡담\n",
      "강팰로그 블로그 스터디 강의 5기 모집\n",
      "한국 블로그 마케팅 소비자 신뢰를 얻는 방법\n",
      "네이버 블로그 홍보 업체의 중요성\n",
      "내가 블로그에 글을 쓰는 이유\n",
      "AI 블로그 글쓰기 유의점 및 꿀팁!!\n",
      "블로그 누락 확인 사이트 해결 이유 냥\n",
      "네이버 블로그 꾸미기 팁\n",
      "학원 블로그 마케팅 신뢰를 얻는 성공전략\n",
      "2가지 종류의 블로그 글쓰기 방법\n"
     ]
    }
   ],
   "source": [
    "#step6. 제목 텍스트 추출\n",
    "\n",
    "titles = driver.find_elements(By.CLASS_NAME, \"title_link\")\n",
    "\n",
    "for i in titles:\n",
    "    title = i.text\n",
    "    print(title)"
   ]
  },
  {
   "cell_type": "code",
   "execution_count": 3,
   "metadata": {},
   "outputs": [
    {
     "name": "stdout",
     "output_type": "stream",
     "text": [
      "https://blog.naver.com/gds2019/223724989090\n",
      "https://blog.naver.com/goagency1/223713858081\n",
      "https://blog.naver.com/startac0469/223700300246\n",
      "https://blog.naver.com/fksl1124/223718603365\n",
      "https://blog.naver.com/ataractia/223709692879\n",
      "https://post.naver.com/viewer/postView.naver?volumeNo=43135665&memberNo=2380229&vType=VERTICAL\n",
      "https://blog.naver.com/2ym1101/223714408927\n",
      "https://post.naver.com/viewer/postView.naver?volumeNo=41370913&memberNo=2966116&vType=VERTICAL\n",
      "https://blog.naver.com/jinjurew/223691420889\n",
      "https://blog.naver.com/sikui11/223691140796\n",
      "https://blog.naver.com/minimal2441/223724430185\n",
      "https://blog.naver.com/ksangel72/223713740124\n",
      "https://blog.naver.com/dodadda2/223716125230\n",
      "https://blog.naver.com/jerry699/223712541999\n",
      "https://blog.naver.com/jklovelike/223724602145\n",
      "https://blog.naver.com/sinhw0720/223718605950\n",
      "https://blog.naver.com/hohoya63/223712572002\n",
      "https://blog.naver.com/repeat__me/223692552066\n",
      "https://blog.naver.com/doctorcom82/223716646760\n",
      "https://blog.naver.com/tough643/223724574911\n",
      "https://blog.naver.com/sonyloves/223717933167\n",
      "https://blog.naver.com/parangsae71/223707487478\n",
      "https://blog.naver.com/agqakrtibt/223712545331\n",
      "https://blog.naver.com/havna12/223720105801\n",
      "https://blog.naver.com/lucia9550/223722736501\n",
      "https://blog.naver.com/jan0408/223719312975\n",
      "https://blog.naver.com/cutebear_blog/223723311097\n",
      "https://blog.naver.com/reading_witch40/223722764577\n",
      "https://blog.naver.com/myth731/223709627267\n",
      "https://blog.naver.com/haruki/223722614346\n"
     ]
    }
   ],
   "source": [
    "#step7.제목 하이퍼링크 추출\n",
    "\n",
    "for i in titles:\n",
    "    href = i.get_attribute('href')\n",
    "    print(href)"
   ]
  }
 ],
 "metadata": {
  "kernelspec": {
   "display_name": "Python 3",
   "language": "python",
   "name": "python3"
  },
  "language_info": {
   "codemirror_mode": {
    "name": "ipython",
    "version": 3
   },
   "file_extension": ".py",
   "mimetype": "text/x-python",
   "name": "python",
   "nbconvert_exporter": "python",
   "pygments_lexer": "ipython3",
   "version": "3.13.0"
  }
 },
 "nbformat": 4,
 "nbformat_minor": 2
}
