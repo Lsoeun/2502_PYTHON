{
 "cells": [
  {
   "cell_type": "markdown",
   "metadata": {},
   "source": [
    "# 셀레니움으로 뉴스 제목 추출하기\n",
    "<a href=\"https://en.yna.co.kr/view/AEN20250114003100315?input=2106m\" class=\"news_tit\" target=\"_blank\" onclick=\"return goOtherCR(this, 'a=nws*a.tit&amp;r=1&amp;i=880000D8_000000000000000015157794&amp;g=001.0015157794&amp;u='+urlencode(this.href));\" title=\"BTS becomes first K-pop group to reach 2 bln Spotify streams with 'Dynamite'\">BTS becomes first <mark>K</mark>-<mark>pop</mark> group to reach 2 bln Spotify streams with 'Dynami...</a>\n",
    "\n",
    "- id 속성이 없으므로 class 속성 활용\n",
    "- class 속성: 태그를 지시하기 위해 사용하는 속성으로, id는 모든 태그가 고유한 반면 class는 여러 태그가 같은 class 이름을 사용할 수 있음\n",
    "- 드라이버.find_elements(By.CLASS_NAME, \"클래스명\")\n",
    "- query = driver.find_elements(By.CLASS_NAME, \"news_tit\")"
   ]
  },
  {
   "cell_type": "code",
   "execution_count": 1,
   "metadata": {},
   "outputs": [
    {
     "name": "stdout",
     "output_type": "stream",
     "text": [
      "BTS becomes first K-pop group to reach 2 bln Spotify streams with 'Dynami...\n",
      "원호, 멕시코 'K팝 마스터즈' 공연 비하인드 오픈\n",
      "방탄소년단 '다이너마이트', 스포티파이 20억 스밍…\"K팝 그룹 단일곡 최...\n",
      "'JYP 신예' 킥플립, 글로벌이 주목하는 'K팝 루키' 새 얼굴\n"
     ]
    }
   ],
   "source": [
    "# 네이버 뉴스에서 kpop 관련 뉴스 추출하기\n",
    "from selenium import webdriver\n",
    "\n",
    "# send_keys, find_element를 사용하기 위한 모듈 import\n",
    "from selenium.webdriver.common.keys import Keys\n",
    "from selenium.webdriver.common.by import By\n",
    "import time\n",
    "\n",
    "# 네이버 메인 페이지 열기 위한 주소\n",
    "url = 'https://www.naver.com/'\n",
    "# 크롬드라이버 실행\n",
    "driver = webdriver.Chrome()\n",
    "#크롬 드라이버에 url 주소 넣고 실행\n",
    "driver.get(url)\n",
    "time.sleep(3)\n",
    "\n",
    "# 검색창 찾기\n",
    "query = driver.find_element(By.ID, \"query\")\n",
    "\n",
    "# 검색창에 검색어 입력\n",
    "query.send_keys(\"kpop\")\n",
    "\n",
    "# 검색창에 엔터 입력\n",
    "query.send_keys(Keys.RETURN)\n",
    "time.sleep(1)\n",
    "\n",
    "# 뉴스 타이틀 찾기\n",
    "news_tit = driver.find_elements(By.CLASS_NAME, \"news_tit\")\n",
    "\n",
    "# 뉴스 타이틀 모두 출력\n",
    "for title in news_tit:\n",
    "  print(title.text) # 태그 안에서 글자 추출"
   ]
  }
 ],
 "metadata": {
  "kernelspec": {
   "display_name": "Python 3",
   "language": "python",
   "name": "python3"
  },
  "language_info": {
   "codemirror_mode": {
    "name": "ipython",
    "version": 3
   },
   "file_extension": ".py",
   "mimetype": "text/x-python",
   "name": "python",
   "nbconvert_exporter": "python",
   "pygments_lexer": "ipython3",
   "version": "3.13.0"
  }
 },
 "nbformat": 4,
 "nbformat_minor": 2
}
