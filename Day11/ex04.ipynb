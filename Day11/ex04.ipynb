{
 "cells": [
  {
   "cell_type": "markdown",
   "metadata": {},
   "source": [
    "# 예외 회피하기\n",
    "- 특정 예외가 발생할 경우 그냥 통과시켜야 하는 경우도 발생\n",
    "- 이는 예외를 처리할 때 문제 자체를 무시하고 프로그램 흐름을 계속 진행하게 하기 위한 것\n",
    "- 이 방식은 주로 예외가 발생해도 프로그램의 동작에 큰 영향을 미치지 않거나, 예외가 발생한 상황이 예측 가능한 범위 내에서 처리되어야 할 때 사용\n",
    "\n",
    "# 예외를 회피하는 이유\n",
    "- 예외가 예상 가능한 상황일 때: 특정 예외가 예상되는 상황에서 그것을 처리하는 것이 중요하지 않거나, 예외가 발생해도 프로그램에 큰 영향을 미치지 않는 경우(파일이 없을 수 있지만 그 파일이 없어도 계속 진행해야 하는 상황일 때 등)\n",
    "- 예외가 간단한 경고성일 때: 예외가 발생하더라도 큰 문제를 일으키지 않고, 단지 경고성 메시지를 제공하는 정도로만 처리할 때\n",
    "- 다른 코드가 예외를 처리할 수 있을 때: 예외가 발생했을 때 해당 예외를 처리할 필요가 없고, 다른 부분에서 처리할 수 있는 경우\n",
    "- 성능 최적화를 위해"
   ]
  },
  {
   "cell_type": "code",
   "execution_count": 1,
   "metadata": {},
   "outputs": [],
   "source": [
    "try:\n",
    "    f = open(\"없는파일\", 'r')\n",
    "except FileNotFoundError:\n",
    "    pass"
   ]
  },
  {
   "cell_type": "markdown",
   "metadata": {},
   "source": [
    "# 예외 일부러(강제로) 발생 시키기\n",
    "- 프로그래밍을 하다 보면 종종 예외 상황을 일부러 발생시켜야 할 경우도 발생\n",
    "- 파이썬은 raise 구문을 사용해 예외를 강제로 발생시킬 수 있음\n",
    "\n",
    "# 예외를 의도적으로 발생시키는 이유\n",
    "- 유효성 검사: 사용자가 잘못된 입력을 했을 때 이를 강제로 예외로 처리하여 적절한 메시지를 사용자에게 전달하고, 프로그램 흐름을 제어\n",
    "- 특정 조건에 대한 경고: 프로그램에서 특정 조건을 만족하지 않으면 예외를 발생시켜 경고를 제공하거나 처리를 중단하는 방식으로 사용"
   ]
  },
  {
   "cell_type": "code",
   "execution_count": 2,
   "metadata": {},
   "outputs": [
    {
     "name": "stdout",
     "output_type": "stream",
     "text": [
      "당신은 -100 살 이군요!\n"
     ]
    }
   ],
   "source": [
    "age = int(input(\"나이를 입력하세요: \"))\n",
    "print(\"당신은\", age, \"살 이군요!\")\n",
    "\n",
    "# -100살 1000살 등은 존재할 수 없는 나이기 때문에 예외가 발생해야 함\n",
    "# 하지만 파이썬은 이를 예외로 인식하지 않고 정상적으로 동작함\n",
    "# 이러한 문제를 해결하기 위해 강제로 예외를 발생시키는 기능을 제공\n",
    "# raise 구문을 사용해 예외를 강제로 발생"
   ]
  },
  {
   "cell_type": "markdown",
   "metadata": {},
   "source": [
    "# raise 예외 클래스(예외 메세지)\n",
    "- raise 구문을 사용하면 파이썬이 알지 못하는 예외도 처리할 수 있음"
   ]
  },
  {
   "cell_type": "code",
   "execution_count": null,
   "metadata": {},
   "outputs": [
    {
     "name": "stdout",
     "output_type": "stream",
     "text": [
      "나이는 0세 이상 150 미만으로 입력해 주세요.\n",
      "나이 프로그램을 종료합니다.\n"
     ]
    }
   ],
   "source": [
    "# 입력 값에 대한 유효성 검사\n",
    "\n",
    "try:\n",
    "  age = int(input(\"나이를 입력하세요: \"))  # 나이 입력받기\n",
    "  # 입력값이 0보다 작거나 150보다 크면\n",
    "  if age < 0 or age > 150:\n",
    "    # 예외를 발생\n",
    "    raise Exception(\"나이는 0세 이상 150 미만으로 입력해 주세요.\") # 모든 예외 클래스의 가장 최상위 클래스인 Exception 사용\n",
    "except Exception as e: \n",
    "  # e 변수에 우리가 작성한 \"나이는~\" 메세지가 대입\n",
    "  print(e)\n",
    "else: # try블록이 정상 실행되었을 때 실행될 구문\n",
    "  print(\"당신은\", age, \"살 이군요!\")\n",
    "finally: # 프로그램이 종료되면 종료 메세지 출력\n",
    "  print(\"나이 프로그램을 종료합니다.\")\n",
    "  \n",
    "# raise 구문에서 적절한 예외 클래스를 고르지 못하여, 모든 예외 클래스의 가장 최상위 클래스인 Exception 사용\n",
    "# Exception 클래스는 모든 예외의 상위 클래스이기 때문에, Exception 예외를 발생시키면 모든 예외를 처리할 수 있음 "
   ]
  },
  {
   "cell_type": "code",
   "execution_count": 1,
   "metadata": {},
   "outputs": [],
   "source": [
    "# 특정 조건에 대한 경고\n",
    "# Bird 클래스를 상속받는 자식 클래스는 반드시 fly라는 함수를 구현하도록 만들고 싶은 경우(강제로 그렇게 하고 싶은 경우)\n",
    "\n",
    "class Bird:\n",
    "    def fly(self):\n",
    "        raise NotImplementedError()  # Bird 클래스를 상속받는 자식 클래스는 반드시 fly 함수의 내용을 구현\n",
    "        # NotImplementedError는 파이썬에 이미 정의되어 있는 오류로, 꼭 작성해야 하는 부분이 구현되지 않았을 경우 일부러 예외를 발생 시키기 위해 사용"
   ]
  },
  {
   "cell_type": "code",
   "execution_count": null,
   "metadata": {},
   "outputs": [],
   "source": [
    "class Eagle(Bird):\n",
    "    pass\n",
    "\n",
    "eagle = Eagle()\n",
    "eagle.fly()  # 예외 발생"
   ]
  },
  {
   "cell_type": "code",
   "execution_count": 3,
   "metadata": {},
   "outputs": [
    {
     "name": "stdout",
     "output_type": "stream",
     "text": [
      "very fast\n"
     ]
    }
   ],
   "source": [
    "class Eagle(Bird):\n",
    "    def fly(self):  # 메서드 오버라이딩\n",
    "        print(\"very fast\")\n",
    "\n",
    "eagle = Eagle()\n",
    "eagle.fly()"
   ]
  }
 ],
 "metadata": {
  "kernelspec": {
   "display_name": "Python 3",
   "language": "python",
   "name": "python3"
  },
  "language_info": {
   "codemirror_mode": {
    "name": "ipython",
    "version": 3
   },
   "file_extension": ".py",
   "mimetype": "text/x-python",
   "name": "python",
   "nbconvert_exporter": "python",
   "pygments_lexer": "ipython3",
   "version": "3.13.0"
  }
 },
 "nbformat": 4,
 "nbformat_minor": 2
}
