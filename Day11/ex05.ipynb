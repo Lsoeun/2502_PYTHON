{
 "cells": [
  {
   "cell_type": "markdown",
   "metadata": {},
   "source": [
    "# 사용자 정의 예외\n",
    "- 예외의 의미를 명확하게 전달하기 위해 개발자가 직접 예외 클래스를 만들어 사용할 수 있음\n",
    "- 또는, 프로그램을 수행하다가 특수한 경우에만 예외 처리를 하려고 사용자 정의 예외를 만들어서 사용\n",
    "- 사용자 정의 예외는 Exception 클래스를 상속하여 만들 수 있음"
   ]
  },
  {
   "cell_type": "code",
   "execution_count": 10,
   "metadata": {},
   "outputs": [],
   "source": [
    "class 예외_클래스명(Exception): # Exception 클래스 상속\n",
    "  def __init__(self): # 생성자 정의\n",
    "    super().__init__(\"예외 메세지\") # 생성자에서 예외 메세지를 생성하여 Exception 클래스의 생성자로 전달\n",
    "    \n",
    "# Exception 클래스의 생성자에 예외 메세지를 전달하여 예외 발생 시 해당 메세지를 출력하는 역할을 함"
   ]
  },
  {
   "cell_type": "code",
   "execution_count": 11,
   "metadata": {},
   "outputs": [],
   "source": [
    "class AgeError(Exception): # Exception 클래스 상속\n",
    "  def __init__(self): # 생성자 정의\n",
    "    super().__init__(\"사람의 나이는 0 이상 150 미만으로 입력해 주세요!\")"
   ]
  },
  {
   "cell_type": "code",
   "execution_count": 12,
   "metadata": {},
   "outputs": [
    {
     "name": "stdout",
     "output_type": "stream",
     "text": [
      "당신은 50 살 이군요!\n",
      "나이 프로그램을 종료합니다.\n"
     ]
    }
   ],
   "source": [
    "try:\n",
    "  age = int(input(\"나이를 입력하세요: \"))  # 나이 입력받기\n",
    "  # 입력값이 0보다 작거나 150보다 크면\n",
    "  if age < 0 or age > 150:\n",
    "    # 예외를 발생\n",
    "    raise AgeError()\n",
    "except AgeError as e: \n",
    "  print(e)\n",
    "else:\n",
    "  print(\"당신은\", age, \"살 이군요!\")\n",
    "finally: \n",
    "  print(\"나이 프로그램을 종료합니다.\")\n",
    "  \n",
    "# 최상위 클래스인 Exception을 사용할 때는 예외 메세지를 매개변수에 직접 입력하였으나, 이제는 직접 만든 AgeError 클래스를 사용하여 예외를 처리하고, class AgeError에 정의한 메세지가 출력됨"
   ]
  },
  {
   "cell_type": "code",
   "execution_count": 5,
   "metadata": {},
   "outputs": [],
   "source": [
    "# 이름을 입력받았을 때 숫자가 포함된 경우 발생하는 예외 클래스\n",
    "\n",
    "class NameError(Exception): # Exception 클래스 상속\n",
    "  def __init__(self): # 생성자 정의\n",
    "    super().__init__(\"사람의 이름에는 숫자가 들어갈 수 없습니다.\")"
   ]
  },
  {
   "cell_type": "code",
   "execution_count": 7,
   "metadata": {},
   "outputs": [
    {
     "name": "stdout",
     "output_type": "stream",
     "text": [
      "사람의 이름에는 숫자가 들어갈 수 없습니다.\n",
      "프로그램을 종료합니다.\n"
     ]
    }
   ],
   "source": [
    "# 문자열에 숫자가 포함되어 있는지 확인하는 함수 생성\n",
    "# isdigit() -> 문자열의 모든 글자가 숫자가 아닌지 판단해주는 내장 함수. 문자열의 모든 글자가 숫자이면 True를 반환\n",
    "\n",
    "def is_digit(str):\n",
    "  for temp in name:\n",
    "    if temp.isdigit():\n",
    "      return True\n",
    "  return False\n",
    "\n",
    "try:\n",
    "  name = input(\"이름을 입력하세요: \")\n",
    "  # 입력값에 숫자가 있는지 확인\n",
    "  if is_digit(name):\n",
    "    raise NameError()\n",
    "except NameError as e:\n",
    "  print(e)\n",
    "else:\n",
    "  print(name, \"님, 안녕하세요!\")\n",
    "finally:\n",
    "  print(\"프로그램을 종료합니다.\")"
   ]
  },
  {
   "cell_type": "code",
   "execution_count": 3,
   "metadata": {},
   "outputs": [],
   "source": [
    "class MyError(Exception):\n",
    "    def __init__(self):\n",
    "        super().__init__(\"허용되지 않는 별명입니다.\")"
   ]
  },
  {
   "cell_type": "code",
   "execution_count": 9,
   "metadata": {},
   "outputs": [
    {
     "name": "stdout",
     "output_type": "stream",
     "text": [
      "좋은별명\n",
      "허용되지 않는 별명입니다.\n"
     ]
    }
   ],
   "source": [
    "# 별명 출력 함수\n",
    "def say_nick(nick):\n",
    "    if nick == '메롱':\n",
    "        raise MyError()\n",
    "    print(nick)\n",
    "\n",
    "try:\n",
    "    say_nick(\"좋은별명\")\n",
    "    say_nick(\"메롱\")\n",
    "except MyError as e:\n",
    "    print(e)"
   ]
  }
 ],
 "metadata": {
  "kernelspec": {
   "display_name": "Python 3",
   "language": "python",
   "name": "python3"
  },
  "language_info": {
   "codemirror_mode": {
    "name": "ipython",
    "version": 3
   },
   "file_extension": ".py",
   "mimetype": "text/x-python",
   "name": "python",
   "nbconvert_exporter": "python",
   "pygments_lexer": "ipython3",
   "version": "3.13.0"
  }
 },
 "nbformat": 4,
 "nbformat_minor": 2
}
