{
 "cells": [
  {
   "cell_type": "markdown",
   "metadata": {},
   "source": [
    "# 오류와 예외\n",
    "- 프로그램을 사용하다보면 예기치 못한 상황이 발생할 수 있음\n",
    "- 잘못된 값 입력 또는 인터넷 연결이 끊기는 경우, 버그 발생, 시스템 문제 발생 등\n",
    "- 이러한 상황이 발생했을 때 어떻게 처리할 것인지 고민하고 대비책을 마련하는 것이 중요!\n",
    "\n",
    "# 오류\n",
    "- 프로그램이 실행될 수 없게 만드는 문제\n",
    "- 문법적 또는 시스템적인 문제에서 발생\n",
    "- 코드로 해결할 수 없으며 대부분 프로그램이 실행되지 않거나 중단됨\n",
    "- 직접적인 코드 수정이 필요함(코드 작성 방식 자체를 수정)\n",
    "\n",
    "# 예외\n",
    "- 프로그램이 실행되는 중에 발생하는 문제\n",
    "- 프로그램을 실행하는 도중에 예상치 못한 상황이 발생하여 정상적으로 실행을 완료할 수 없는 경우\n",
    "- 사용자의 입력에 따라 발생 또는 프로그램의 문제로 인해 발생\n",
    "- 예상할 수 없는 상황에서 발생하지만, 예외를 처리하거나 무시할 수 있는 기회를 제공\n",
    "- 코드 내에서 try, except 블록을 사용하여 처리 가능\n",
    "- 예외 처리를 통해 예외가 발생하더라도 비정상 종료하지 않고 정상적으로 프로그램을 계속 실행할 수 있음"
   ]
  },
  {
   "cell_type": "code",
   "execution_count": null,
   "metadata": {},
   "outputs": [],
   "source": [
    "# 예외 발생 코드\n",
    "# 존재하지 않는 파일을 읽으려고 시도\n",
    "\n",
    "f = open('없는파일', 'r')"
   ]
  },
  {
   "cell_type": "code",
   "execution_count": null,
   "metadata": {},
   "outputs": [],
   "source": [
    "# 예외 발생 코드\n",
    "# 0으로 다른 숫자를 나누려고 시도\n",
    "\n",
    "print(4 / 0)"
   ]
  },
  {
   "cell_type": "code",
   "execution_count": null,
   "metadata": {},
   "outputs": [],
   "source": [
    "# 예외 발생 코드\n",
    "# 존재하지 않는 인덱스 값을 가져오려고 시도\n",
    "\n",
    "a = [1, 2, 3]\n",
    "print(a[3]) "
   ]
  },
  {
   "cell_type": "code",
   "execution_count": null,
   "metadata": {},
   "outputs": [],
   "source": [
    "# 사용자 입력 기반 나눗셈\n",
    "# 예상치 못한 입력 값으로 인해 예외가 발생할 수 있음(0으로 나누는 경우)\n",
    "\n",
    "num1 = int(input(\"첫 번째 정수를 입력하세요: \"))\n",
    "num2 = int(input(\"두 번째 정수를 입력하세요: \"))\n",
    "print(\"num1 나누기 num2의 결과는\", num1 / num2, \"입니다.\")"
   ]
  },
  {
   "cell_type": "code",
   "execution_count": null,
   "metadata": {},
   "outputs": [],
   "source": [
    "# 사용자가 0을 입력할 상황을 미리 예측하여 예외 상황을 방지\n",
    "\n",
    "num1 = int(input(\"첫 번째 정수를 입력하세요: \"))\n",
    "num2 = int(input(\"두 번째 정수를 입력하세요: \"))\n",
    "\n",
    "if num2 == 0: # num2가 0인지 확인\n",
    "  print(\"0으로 나눌 수 없습니다.\") # 만약 num2가 0이라면, \"0으로 나눌 수 없습니다\" 문자열을 출력\n",
    "else:\n",
    "  print(\"num1 나누기 num2의 결과는\", num1 / num2, \"입니다.\")\n",
    "  \n",
    "# 하지만 정수가 아닌 문자를 입력해버리면 또 예외가 발생\n",
    "# 이처럼 개발자가 프로그램 실행 중 발생할 수 있는 모든 문제를 하나하나 다 예측하는 것은 어려움\n",
    "# 이런 상황에서 파이썬 프로그램에서 발생할 가능성이 있는 다양한 예외를 처리할 수 있는 예외 처리 클래스를 사용하여 도움을 받을 수 있음"
   ]
  }
 ],
 "metadata": {
  "kernelspec": {
   "display_name": "Python 3",
   "language": "python",
   "name": "python3"
  },
  "language_info": {
   "codemirror_mode": {
    "name": "ipython",
    "version": 3
   },
   "file_extension": ".py",
   "mimetype": "text/x-python",
   "name": "python",
   "nbconvert_exporter": "python",
   "pygments_lexer": "ipython3",
   "version": "3.13.0"
  }
 },
 "nbformat": 4,
 "nbformat_minor": 2
}
