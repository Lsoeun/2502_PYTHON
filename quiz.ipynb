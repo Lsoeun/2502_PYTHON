{
 "cells": [
  {
   "cell_type": "code",
   "execution_count": 1,
   "metadata": {},
   "outputs": [
    {
     "name": "stdout",
     "output_type": "stream",
     "text": [
      "합: 150\n",
      "평균: 30.0\n"
     ]
    }
   ],
   "source": [
    "# 리스트의 합과 평균 구하기\n",
    "numbers = [10, 20, 30, 40, 50]\n",
    "\n",
    "total = sum(numbers)  # 리스트의 합\n",
    "average = total / len(numbers)  # 리스트의 평균\n",
    "\n",
    "print(\"합:\", total)\n",
    "print(\"평균:\", average)"
   ]
  },
  {
   "cell_type": "code",
   "execution_count": 2,
   "metadata": {},
   "outputs": [
    {
     "name": "stdout",
     "output_type": "stream",
     "text": [
      "최댓값: 8\n",
      "최솟값: 1\n"
     ]
    }
   ],
   "source": [
    "# 리스트에서 최댓값, 최솟값 찾기\n",
    "a_list = [3, 8, 1, 5, 2]\n",
    "\n",
    "print(\"최댓값:\", max(a_list))\n",
    "print(\"최솟값:\", min(a_list))"
   ]
  },
  {
   "cell_type": "code",
   "execution_count": 3,
   "metadata": {},
   "outputs": [
    {
     "name": "stdout",
     "output_type": "stream",
     "text": [
      "변경 후 튜플: (100, 2, 3, 4, 5)\n"
     ]
    }
   ],
   "source": [
    "# 튜플과 리스트 변환\n",
    "data = (1, 2, 3, 4, 5)\n",
    "\n",
    "# 튜플을 리스트로 변환\n",
    "data_list = list(data)\n",
    "\n",
    "# 첫 번째 요소 변경\n",
    "data_list[0] = 100\n",
    "\n",
    "# 다시 튜플로 변환\n",
    "data = tuple(data_list)\n",
    "\n",
    "print(\"변경 후 튜플:\", data)"
   ]
  },
  {
   "cell_type": "code",
   "execution_count": 5,
   "metadata": {},
   "outputs": [
    {
     "name": "stdout",
     "output_type": "stream",
     "text": [
      "(1, 2, 3, 4, 5, 6)\n"
     ]
    }
   ],
   "source": [
    "# 두 개의 튜플 합치기\n",
    "tuple1 = (1, 2, 3)\n",
    "tuple2 = (4, 5, 6)\n",
    "\n",
    "# 튜플 합치기\n",
    "tuple3 = tuple1 + tuple2\n",
    "\n",
    "print(tuple3)"
   ]
  },
  {
   "cell_type": "code",
   "execution_count": 6,
   "metadata": {},
   "outputs": [
    {
     "name": "stdout",
     "output_type": "stream",
     "text": [
      "{'Name': 'Alice', 'Math': 95, 'English': 85, 'Science': 90}\n"
     ]
    }
   ],
   "source": [
    "# 딕셔너리 값 업데이트\n",
    "student = {'Name': 'Alice', 'Math': 80, 'English': 85}\n",
    "\n",
    "# \"Math\" 점수 변경\n",
    "student['Math'] = 95\n",
    "\n",
    "# \"Science\" 과목 추가\n",
    "student['Science'] = 90\n",
    "\n",
    "print(student)"
   ]
  }
 ],
 "metadata": {
  "kernelspec": {
   "display_name": "Python 3",
   "language": "python",
   "name": "python3"
  },
  "language_info": {
   "codemirror_mode": {
    "name": "ipython",
    "version": 3
   },
   "file_extension": ".py",
   "mimetype": "text/x-python",
   "name": "python",
   "nbconvert_exporter": "python",
   "pygments_lexer": "ipython3",
   "version": "3.13.0"
  }
 },
 "nbformat": 4,
 "nbformat_minor": 2
}
