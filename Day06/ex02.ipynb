{
 "cells": [
  {
   "cell_type": "markdown",
   "metadata": {},
   "source": [
    "# 입력값과 리턴값에 따른 함수의 형태\n",
    "- 입력값이 있고 리턴값이 있는 함수\n",
    "- 입력값이 있고 리턴값이 없는 함수\n",
    "- 입력값이 없고 리턴값이 있는 함수\n",
    "- 입력값이 없고 리턴값이 없는 함수"
   ]
  },
  {
   "cell_type": "code",
   "execution_count": 1,
   "metadata": {},
   "outputs": [
    {
     "name": "stdout",
     "output_type": "stream",
     "text": [
      "7\n"
     ]
    }
   ],
   "source": [
    "# 입력값이 있고 리턴값이 있는 함수\n",
    "def add(a, b):\n",
    "    result = a + b\n",
    "    return result\n",
    "  \n",
    "a = add(3, 4)\n",
    "print(a)"
   ]
  },
  {
   "cell_type": "code",
   "execution_count": 2,
   "metadata": {},
   "outputs": [
    {
     "name": "stdout",
     "output_type": "stream",
     "text": [
      "3 와 4 의 합은 7 입니다.\n"
     ]
    }
   ],
   "source": [
    "# 입력값이 있고 리턴값이 없는 함수\n",
    "def add(a, b):\n",
    "  print(a, \"와\", b,\"의 합은\", (a+b), \"입니다.\")\n",
    "  \n",
    "add(3, 4)"
   ]
  },
  {
   "cell_type": "code",
   "execution_count": 4,
   "metadata": {},
   "outputs": [
    {
     "name": "stdout",
     "output_type": "stream",
     "text": [
      "Hi\n"
     ]
    }
   ],
   "source": [
    "# 입력값이 없고 리턴값이 있는 함수\n",
    "def say():\n",
    "\treturn 'Hi'\n",
    "\n",
    "a = say()\n",
    "print(a)"
   ]
  },
  {
   "cell_type": "code",
   "execution_count": 3,
   "metadata": {},
   "outputs": [
    {
     "name": "stdout",
     "output_type": "stream",
     "text": [
      "Hi\n"
     ]
    }
   ],
   "source": [
    "# 입력값이 없고 리턴값이 없는 함수\n",
    "def say():\n",
    "  print('Hi')\n",
    "  \n",
    "say()"
   ]
  },
  {
   "cell_type": "markdown",
   "metadata": {},
   "source": [
    "# 매개변수 지정하여 호출하기\n",
    "- 함수를 호출할 때 매개변수를 지정하여 호출도 가능"
   ]
  },
  {
   "cell_type": "code",
   "execution_count": null,
   "metadata": {},
   "outputs": [
    {
     "name": "stdout",
     "output_type": "stream",
     "text": [
      "4\n",
      "-2\n"
     ]
    }
   ],
   "source": [
    "def sub(a, b):\n",
    "  return a - b\n",
    "\n",
    "result = sub(a=7, b=3)  # a에 7, b에 3을 전달\n",
    "print(result)\n",
    "\n",
    "# 순서 상관 없이 전달도 가능\n",
    "result = sub(b=5, a=3)  # b에 5, a에 3을 전달\n",
    "print(result)"
   ]
  },
  {
   "cell_type": "markdown",
   "metadata": {},
   "source": [
    "# 매개변수에 초깃값을 미리 설정하기\n",
    "- 초깃값을 설정하고 싶은 매개변수는 항상 가장 뒤쪽에 놓아야 함"
   ]
  },
  {
   "cell_type": "code",
   "execution_count": 16,
   "metadata": {},
   "outputs": [
    {
     "name": "stdout",
     "output_type": "stream",
     "text": [
      "나의 이름은 박응용 입니다.\n",
      "나이는 27살입니다.\n",
      "남자입니다.\n",
      "나의 이름은 박응용 입니다.\n",
      "나이는 27살입니다.\n",
      "남자입니다.\n",
      "나의 이름은 박응선 입니다.\n",
      "나이는 27살입니다.\n",
      "여자입니다.\n"
     ]
    }
   ],
   "source": [
    "def myself(name, age, man=True):\n",
    "    print(\"나의 이름은 %s 입니다.\" % name)\n",
    "    print(\"나이는 %d살입니다.\" % age)\n",
    "    if man:\n",
    "        print(\"남자입니다.\")\n",
    "    else:\n",
    "        print(\"여자입니다.\")\n",
    "        \n",
    "myself(\"박응용\", 27)\n",
    "myself(\"박응용\", 27, True)\n",
    "myself(\"박응선\", 27, False)\n",
    "\n",
    "# 매개변수로 (name, age, man=True)는 되지만, (name, man=True, age)는 불가\n",
    "# 초기화하고 싶은 매개변수는 항상 가장 뒤쪽에 놓아야 함"
   ]
  },
  {
   "cell_type": "markdown",
   "metadata": {},
   "source": [
    "# 여러 개의 입력값을 받는 함수 만들기\n",
    "def 함수이름(*매개변수):\n",
    "  수행할_문장"
   ]
  },
  {
   "cell_type": "code",
   "execution_count": 7,
   "metadata": {},
   "outputs": [
    {
     "name": "stdout",
     "output_type": "stream",
     "text": [
      "6\n",
      "55\n"
     ]
    }
   ],
   "source": [
    "def add_many(*args):\n",
    "    result = 0\n",
    "    for i in args:\n",
    "        result = result + i  # *args에 입력받은 모든 값을 더함\n",
    "    return result\n",
    "  \n",
    "result = add_many(1,2,3)\n",
    "print(result)\n",
    "\n",
    "result2 = add_many(1,2,3,4,5,6,7,8,9,10)\n",
    "print(result2)\n",
    "  \n",
    "# *args처럼 매개변수 이름 앞에 *을 붙이면 입력값을 전부 모아 튜플로 만들어줌\n",
    "# 여기에서 *args는 임의로 정한 변수 이름"
   ]
  },
  {
   "cell_type": "markdown",
   "metadata": {},
   "source": [
    "# 함수의 리턴 값은 언제나 하나!\n",
    "- 하나의 함수에 return을 두개 쓰는 것은 불가\n",
    "- 함수는 return 문을 만나는 순간, 리턴값을 돌려 준 다음 함수를 종료하고 빠져나가기 때문"
   ]
  },
  {
   "cell_type": "code",
   "execution_count": 13,
   "metadata": {},
   "outputs": [
    {
     "name": "stdout",
     "output_type": "stream",
     "text": [
      "(7, 12)\n",
      "7\n",
      "12\n",
      "5\n"
     ]
    }
   ],
   "source": [
    "def add_mul(a, b):\n",
    "  return a + b, a * b  # 두 값을 더한 결과와 곱한 결과를 반환\n",
    "\n",
    "result = add_mul(3,4)\n",
    "print(result)\n",
    "# 함수의 리턴값 a+b와 a*b는 튜플값 하나인 (a+b, a*b)로 리턴됨\n",
    "\n",
    "result1, result2 = add_mul(3, 4) # 하나의 튜플 값을 2개의 값으로 분리하여 받는 방법 \n",
    "print(result1)\n",
    "print(result2)\n",
    "\n",
    "# 하나의 함수에 return을 두개 쓰는 것은 불가\n",
    "def add_mul2(a,b):\n",
    "  return a+b\n",
    "  return a*b\n",
    "\n",
    "result = add_mul2(2, 3)\n",
    "print(result)"
   ]
  },
  {
   "cell_type": "markdown",
   "metadata": {},
   "source": [
    "# 함수 return의 두 가지 쓰임새\n",
    "- 1. 값 반환\n",
    "- 2. 함수 종료"
   ]
  },
  {
   "cell_type": "code",
   "execution_count": null,
   "metadata": {},
   "outputs": [],
   "source": [
    "# 1. 값 반환\n",
    "# return 키워드는 함수에서 호출한 곳으로 값을 돌려주는 데 사용\n",
    "# 반환된 값은 변수에 저장하거나 다른 연산에서 사용할 수 있음\n",
    "\n",
    "def add(a, b):\n",
    "    return a + b  # 두 값을 더한 결과를 반환\n",
    "\n",
    "result = add(3, 4)  # add 함수가 7을 반환하고, result에 저장됨\n",
    "print(result)"
   ]
  },
  {
   "cell_type": "code",
   "execution_count": null,
   "metadata": {},
   "outputs": [],
   "source": [
    "# 2. 함수 종료\n",
    "# return 키워드는 함수를 즉시 종료하는 역할도 함\n",
    "# return이 실행되면 함수의 나머지 부분은 건너뛰고 즉시 종료\n",
    "\n",
    "def check(number):\n",
    "    if number % 2 == 0:\n",
    "        return \"Even\"  # 짝수일 경우 \"Even\"을 반환하고 함수가 종료\n",
    "    return \"Odd\"  # 짝수가 아닌 경우 \"Odd\"를 반환하고 함수가 종료\n",
    "\n",
    "print(check(4))\n",
    "print(check(5))"
   ]
  },
  {
   "cell_type": "code",
   "execution_count": 20,
   "metadata": {},
   "outputs": [
    {
     "name": "stdout",
     "output_type": "stream",
     "text": [
      "30\n",
      "5\n",
      "2\n",
      "10\n"
     ]
    }
   ],
   "source": [
    "# 두 숫자의 합 계산하기\n",
    "def add(a, b):\n",
    "  return a + b\n",
    "print(add(10, 20))\n",
    "\n",
    "# 두 숫자의 차 계산하기\n",
    "def subtract(a, b):\n",
    "  return a - b\n",
    "print(subtract(10, 5))\n",
    "\n",
    "# 두 숫자의 몫 계산하기\n",
    "def divide(a, b):\n",
    "  return a // b\n",
    "print(divide(10, 5))\n",
    "\n",
    "# 두 숫자 중 더 큰 값 반환하기\n",
    "def max(a, b):\n",
    "  return a if a > b else b\n",
    "print(max(10, 5))"
   ]
  }
 ],
 "metadata": {
  "kernelspec": {
   "display_name": "Python 3",
   "language": "python",
   "name": "python3"
  },
  "language_info": {
   "codemirror_mode": {
    "name": "ipython",
    "version": 3
   },
   "file_extension": ".py",
   "mimetype": "text/x-python",
   "name": "python",
   "nbconvert_exporter": "python",
   "pygments_lexer": "ipython3",
   "version": "3.13.0"
  }
 },
 "nbformat": 4,
 "nbformat_minor": 2
}
