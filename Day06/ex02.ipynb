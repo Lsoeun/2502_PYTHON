{
 "cells": [
  {
   "cell_type": "markdown",
   "metadata": {},
   "source": [
    "## 입력값과 리턴값에 따른 함수의 형태\n",
    "- 입력값이 있고 리턴값도 있는 함수\n",
    "- 입력값이 있고 리턴값이 없는 함수\n",
    "- 입력값이 없고 리턴값은 있는 함수\n",
    "- 입력값이 없고 리턴값도 없는 함수"
   ]
  },
  {
   "cell_type": "code",
   "execution_count": 1,
   "metadata": {},
   "outputs": [
    {
     "name": "stdout",
     "output_type": "stream",
     "text": [
      "7\n"
     ]
    }
   ],
   "source": [
    "# 입력값이 있고 리턴값도 있는 함수\n",
    "def add(a, b):\n",
    "  result = a + b\n",
    "  return result\n",
    "\n",
    "a = add(3, 4)\n",
    "print(a)"
   ]
  },
  {
   "cell_type": "code",
   "execution_count": 2,
   "metadata": {},
   "outputs": [
    {
     "name": "stdout",
     "output_type": "stream",
     "text": [
      "4 와 6 의 합은 10 입니다.\n"
     ]
    }
   ],
   "source": [
    "# 입력값이 있고 리턴값이 없는 함수\n",
    "def add(a, b):\n",
    "  print(a, \"와\", b,\"의 합은\", (a + b), \"입니다.\")\n",
    "  \n",
    "add(4, 6)"
   ]
  },
  {
   "cell_type": "code",
   "execution_count": 11,
   "metadata": {},
   "outputs": [
    {
     "name": "stdout",
     "output_type": "stream",
     "text": [
      "Hi\n",
      "Hi\n",
      "Hi\n"
     ]
    }
   ],
   "source": [
    "# 입력값이 없고 리턴값이 있는 함수\n",
    "def say():\n",
    "  return \"Hi\"\n",
    "\n",
    "print(say())\n",
    "print(say())\n",
    "print(say())"
   ]
  },
  {
   "cell_type": "code",
   "execution_count": 10,
   "metadata": {},
   "outputs": [
    {
     "name": "stdout",
     "output_type": "stream",
     "text": [
      "Hi\n",
      "Hi\n",
      "Hi\n"
     ]
    }
   ],
   "source": [
    "# 입력값이 없고 리턴값도 없는 함수\n",
    "def say():\n",
    "  print(\"Hi\")\n",
    "  \n",
    "say()\n",
    "say()\n",
    "say()"
   ]
  },
  {
   "cell_type": "markdown",
   "metadata": {},
   "source": [
    "## 매개변수 지정하여 호출하기\n",
    "- 함수를 호출할 때 매개변수를 지정하여 호출도 가능"
   ]
  },
  {
   "cell_type": "code",
   "execution_count": null,
   "metadata": {},
   "outputs": [
    {
     "name": "stdout",
     "output_type": "stream",
     "text": [
      "4\n",
      "-2\n"
     ]
    }
   ],
   "source": [
    "def sub(a, b):\n",
    "  return a - b\n",
    "\n",
    "result = sub(a=7, b=3) # a에 7이 전달, b에 3이 전달\n",
    "print(result)\n",
    "\n",
    "# 순서 상관 없이 전달도 가능\n",
    "result = sub(b=5, a=3)\n",
    "print(result)"
   ]
  },
  {
   "cell_type": "markdown",
   "metadata": {},
   "source": [
    "## 매개변수에 초깃값을 미리 설정하기\n",
    "- 초깃값을 설정하고 싶은 매개변수는 항상 가장 뒤쪽에 놓아야 함!!"
   ]
  },
  {
   "cell_type": "code",
   "execution_count": null,
   "metadata": {},
   "outputs": [
    {
     "name": "stdout",
     "output_type": "stream",
     "text": [
      "나의 이름은 박응용 입니다.\n",
      "나이는 27살 입니다.\n",
      "남자입니다.\n",
      "나의 이름은 박응용 입니다.\n",
      "나이는 40살 입니다.\n",
      "남자입니다.\n",
      "나의 이름은 박응선 입니다.\n",
      "나이는 20살 입니다.\n",
      "여자입니다.\n"
     ]
    }
   ],
   "source": [
    "def myself(name, age, man=True):\n",
    "  print(\"나의 이름은 %s 입니다.\" %name)\n",
    "  print(\"나이는 %d살 입니다.\" %age)\n",
    "  if man:\n",
    "    print(\"남자입니다.\")\n",
    "  else:\n",
    "    print(\"여자입니다.\")\n",
    "    \n",
    "myself(\"박응용\", 27)\n",
    "myself(\"박응용\", 40, True)\n",
    "myself(\"박응선\", 20, False)\n",
    "\n",
    "# 매개변수로 (name, age, man=True)는 되지만, (name, man=Ture, age)는 불가\n",
    "# 초기화 하고 싶은 매개변수는 항상 가장 뒤쪽에 놓아야 함!"
   ]
  },
  {
   "cell_type": "code",
   "execution_count": null,
   "metadata": {},
   "outputs": [],
   "source": [
    "def myself(name, age = 30, man=True):\n",
    "  print(\"나의 이름은 %s 입니다.\" %name)\n",
    "  print(\"나이는 %d살 입니다.\" %age)\n",
    "  if man:\n",
    "    print(\"남자입니다.\")\n",
    "  else:\n",
    "    print(\"여자입니다.\")\n",
    "    \n",
    "myself(\"이이름\")\n",
    "myself(\"김이름\", False) # 값이 잘못 들어감\n",
    "myself(\"박이름\", 20, False)"
   ]
  },
  {
   "cell_type": "markdown",
   "metadata": {},
   "source": [
    "## 여러 개의 입력 값을 받는 함수 만들기\n",
    "- 입력값으로 몇개의 값이 들어올지 모르는 경우\n",
    "- def 함수이름(*매개변수):"
   ]
  },
  {
   "cell_type": "code",
   "execution_count": null,
   "metadata": {},
   "outputs": [
    {
     "name": "stdout",
     "output_type": "stream",
     "text": [
      "6\n",
      "15\n",
      "55\n"
     ]
    }
   ],
   "source": [
    "def add_many(*args):\n",
    "  result = 0\n",
    "  for i in args:\n",
    "    result = result + i # *args에 입력 받은 모든 값을 더함\n",
    "  return result\n",
    "\n",
    "result2 = add_many(1, 2, 3)\n",
    "print(result2)\n",
    "\n",
    "result3 = add_many(1, 2, 3, 4, 5)\n",
    "print(result3)\n",
    "\n",
    "result4 = add_many(1, 2, 3, 4, 5, 6, 7, 8, 9, 10)\n",
    "print(result4)\n",
    "\n",
    "# *args처럼 매개변수 이름 앞에 *를 붙이면 입력값을 전부 모아 튜플로 만들어줌\n",
    "# 여기에서 *args는 임의로 정한 변수 이름. 변경도 가능"
   ]
  },
  {
   "cell_type": "markdown",
   "metadata": {},
   "source": [
    "## 함수의 리턴 값은 언제나 하나!\n",
    "- 하나의 함수에 return을 두개 쓰는것은 불가!!\n",
    "- 함수는 return을 만나는 순간, 리턴 값을 돌려준 다음 함수를 종료하고 빠져나가기 때문"
   ]
  },
  {
   "cell_type": "code",
   "execution_count": null,
   "metadata": {},
   "outputs": [],
   "source": [
    "def add_mul(a, b):\n",
    "  return a + b, a * b # 두 값을 더한 결과와 곱한 결과를 반환\n",
    "\n",
    "print(add_mul(3, 4))\n",
    "# 함수의 리턴값 a + b와 a * b는 튜플값 하나인 (a+b, a*b)리턴됨\n",
    "\n",
    "result1, result2 = add_mul(5, 10) # 하나의 튜플 값을 2개의 값으로 분리하여 받는 방법\n",
    "print(result1)\n",
    "print(result2)\n",
    "\n",
    "# 하나의 함수에 return을 두개 쓰는건 불가!!\n",
    "def add(a, b):\n",
    "  return a + b\n",
    "  return a * b\n",
    "\n",
    "result3 = add(2, 3)\n",
    "print(result3)"
   ]
  },
  {
   "cell_type": "markdown",
   "metadata": {},
   "source": [
    "## 함수 return의 두가지 쓰임새\n",
    "1. 값 반환\n",
    "2. 함수 종료"
   ]
  },
  {
   "cell_type": "code",
   "execution_count": 27,
   "metadata": {},
   "outputs": [
    {
     "data": {
      "text/plain": [
       "7"
      ]
     },
     "execution_count": 27,
     "metadata": {},
     "output_type": "execute_result"
    }
   ],
   "source": [
    "# 1. 값 반환\n",
    "# return 키워드는 함수에서 호출한 곳으로 값을 돌려주는데 사용\n",
    "# 반환된 값은 변수에 저장하거나 다른 연산에 사용할 수 있음\n",
    "\n",
    "def add(a, b):\n",
    "  return a + b # 두 값을 더한 결과를 반환\n",
    "\n",
    "add(3, 4)"
   ]
  },
  {
   "cell_type": "code",
   "execution_count": 30,
   "metadata": {},
   "outputs": [
    {
     "data": {
      "text/plain": [
       "'odd'"
      ]
     },
     "execution_count": 30,
     "metadata": {},
     "output_type": "execute_result"
    }
   ],
   "source": [
    "# 2. 함수 종료\n",
    "# return 키워드는 함수를 즉시 종료하는 역할도 함\n",
    "# 함수에서 return을 만나면(return이 실행되면) 함수의 나머지 부분은 건너 뛰고 즉시 종료!\n",
    "\n",
    "def check(number):\n",
    "  if number % 2 == 0:\n",
    "    return\n",
    "  return \"odd\" # 짝수가 아닌 경우 \"odd\"를 반환하고 함수가 종료\n",
    "\n",
    "check(4)\n",
    "check(5)"
   ]
  },
  {
   "cell_type": "code",
   "execution_count": null,
   "metadata": {},
   "outputs": [],
   "source": [
    "# 두 숫자의 합을 반환하는 함수\n",
    "def add(a, b):\n",
    "  return a + b\n",
    "\n",
    "# 두 숫자의 차를 반환하는 함수\n",
    "def sub(a, b):\n",
    "  return a - b\n",
    "\n",
    "# 두 숫자의 몫을 반환하는 함수\n",
    "def divide(a, b):\n",
    "  return a // b\n",
    "\n",
    "# 두 숫자 중 더 큰 값을 반환하는 함수(조건부 표현식, 또는 조건문)\n",
    "def max(a, b):\n",
    "  return a if a > b else b"
   ]
  }
 ],
 "metadata": {
  "kernelspec": {
   "display_name": "Python 3",
   "language": "python",
   "name": "python3"
  },
  "language_info": {
   "codemirror_mode": {
    "name": "ipython",
    "version": 3
   },
   "file_extension": ".py",
   "mimetype": "text/x-python",
   "name": "python",
   "nbconvert_exporter": "python",
   "pygments_lexer": "ipython3",
   "version": "3.13.0"
  }
 },
 "nbformat": 4,
 "nbformat_minor": 2
}
