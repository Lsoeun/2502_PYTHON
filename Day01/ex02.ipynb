{
 "cells": [
  {
   "cell_type": "code",
   "execution_count": null,
   "metadata": {},
   "outputs": [
    {
     "name": "stdout",
     "output_type": "stream",
     "text": [
      "[1, 2, 3]\n"
     ]
    }
   ],
   "source": [
    "# 변수 선언 값 할당(대입) + 초기화(변수를 만들고 처음 값을 대입)\n",
    "a = [1, 2, 3]\n",
    "\n",
    "# 변수의 데이터 확인\n",
    "print(a) # 변수 이름을 통해 변수 a의 값을 출력"
   ]
  },
  {
   "cell_type": "code",
   "execution_count": 3,
   "metadata": {},
   "outputs": [
    {
     "name": "stdout",
     "output_type": "stream",
     "text": [
      "1\n",
      "python\n",
      "[1, 2, 3, 4, 5]\n"
     ]
    }
   ],
   "source": [
    "# 변수에 값 대입하고 출력하기\n",
    "a = 1\n",
    "b = \"python\"\n",
    "c = [1, 2, 3, 4, 5]\n",
    "\n",
    "print(a)\n",
    "print(b)\n",
    "print(c)"
   ]
  },
  {
   "cell_type": "code",
   "execution_count": 4,
   "metadata": {},
   "outputs": [
    {
     "name": "stdout",
     "output_type": "stream",
     "text": [
      "python\n",
      "python\n"
     ]
    }
   ],
   "source": [
    "# 여러개의 변수에 같은 값 대입하기\n",
    "a = b = \"python\"\n",
    "print(a)\n",
    "print(b)"
   ]
  },
  {
   "cell_type": "code",
   "execution_count": null,
   "metadata": {},
   "outputs": [
    {
     "name": "stdout",
     "output_type": "stream",
     "text": [
      "5\n",
      "3\n"
     ]
    }
   ],
   "source": [
    "# 변수에 들어있는 값 바꾸기\n",
    "a = 3\n",
    "b = 5\n",
    "\n",
    "a, b = b, a # 변수에 들어있는 값을 서로 교체\n",
    "\n",
    "print(a)\n",
    "print(b)"
   ]
  },
  {
   "cell_type": "code",
   "execution_count": 6,
   "metadata": {},
   "outputs": [
    {
     "name": "stdout",
     "output_type": "stream",
     "text": [
      "3\n"
     ]
    }
   ],
   "source": [
    "# 좋아하는 숫자를 출력하기\n",
    "# 변수를 하나 만들어서 변수에 내가 좋아하는 숫자를 대입하고\n",
    "# 변수에 들어있는 값을 출력\n",
    "\n",
    "num = 3 # num 변수에 3을 저장\n",
    "print(num) # 변수에 저장했던 숫자 출력"
   ]
  },
  {
   "cell_type": "code",
   "execution_count": 3,
   "metadata": {},
   "outputs": [
    {
     "name": "stdout",
     "output_type": "stream",
     "text": [
      "Alice\n",
      "25\n",
      "서울 특별시\n",
      "False\n",
      "168.5\n"
     ]
    }
   ],
   "source": [
    "# 개인정보 출력하기\n",
    "name = \"Alice\"\n",
    "age = 25\n",
    "address = \"서울 특별시\"\n",
    "married = False\n",
    "height = 168.5\n",
    "\n",
    "print(name)\n",
    "print(age)\n",
    "print(address)\n",
    "print(married)\n",
    "print(height)"
   ]
  },
  {
   "cell_type": "code",
   "execution_count": null,
   "metadata": {},
   "outputs": [],
   "source": []
  }
 ],
 "metadata": {
  "kernelspec": {
   "display_name": "Python 3",
   "language": "python",
   "name": "python3"
  },
  "language_info": {
   "codemirror_mode": {
    "name": "ipython",
    "version": 3
   },
   "file_extension": ".py",
   "mimetype": "text/x-python",
   "name": "python",
   "nbconvert_exporter": "python",
   "pygments_lexer": "ipython3",
   "version": "3.13.2"
  }
 },
 "nbformat": 4,
 "nbformat_minor": 2
}
