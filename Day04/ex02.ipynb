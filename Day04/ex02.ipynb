{
 "cells": [
  {
   "cell_type": "markdown",
   "metadata": {},
   "source": [
    "## 리스트 관련 함수\n",
    "- 리스트 마지막에 요소 추가하기 -> append()\n",
    "- 리스트 정렬 -> sort()\n",
    "- 새로운 정렬된 리스트를 반환 -> sorted()\n",
    "- 리스트 뒤집기 -> reverse()\n",
    "- 인덱스를 반환 -> index()\n",
    "- 리스트 중간에 요소 삽입 -> insert()\n",
    "- 리스트에서 특정 값을 가진 요소를 제거 -> remove()\n",
    "- 리스트 요소 끄집어 내기(특정 위치에 있는 요소 삭제) -> pop()\n",
    "- 리스에 포함된 요소 x의 갯수 세기 -> count()\n",
    "- 리스트 확장 -> extend()\n",
    "- 리스트의 길이 확인 -> len()"
   ]
  },
  {
   "cell_type": "code",
   "execution_count": null,
   "metadata": {},
   "outputs": [
    {
     "name": "stdout",
     "output_type": "stream",
     "text": [
      "[1, 2, 3, 4]\n",
      "[1, 2, 3, 4, [5, 6]]\n"
     ]
    }
   ],
   "source": [
    "# 리스트 마지막에 요소 추가하기 -> append()\n",
    "# 리스트명.append(요소)\n",
    "# 리스트의 맨 마지막에만 요소를 하나 추가할 수 있다는 제약이 있음\n",
    "\n",
    "a = [1, 2, 3]\n",
    "a.append(4)\n",
    "print(a)\n",
    "\n",
    "a.append([5, 6])\n",
    "print(a)"
   ]
  },
  {
   "cell_type": "code",
   "execution_count": 5,
   "metadata": {},
   "outputs": [
    {
     "name": "stdout",
     "output_type": "stream",
     "text": [
      "[0, 1, 2, 3, 4, 6]\n",
      "['A', 'D', 'a', 'b', 'f']\n",
      "[9, 7, 3, 2, 1]\n"
     ]
    }
   ],
   "source": [
    "# 리스트 정렬 -> sort()\n",
    "# 리스트를 자동으로 정렬해서 다시 저장(기본 오름차순 정렬)\n",
    "# 원본 리스트가 변경\n",
    "# 원본 리스트가 변경되어 버린다는 점을 주의!\n",
    "# 리스트명.sort()\n",
    "a = [1, 6, 2, 0, 4, 3]\n",
    "a.sort()\n",
    "print(a)\n",
    "\n",
    "a = ['a', 'f', 'b', 'A', 'D']\n",
    "a.sort()\n",
    "print(a)\n",
    "\n",
    "# 내림차순 정렬\n",
    "# sort() 메서드 내부에 인자로 reverse=True로 설정\n",
    "# 리스트명.sort(reverse=True)\n",
    "c = [3, 9, 1, 7, 2]\n",
    "c.sort(reverse=True) # 내림차순 정렬\n",
    "print(c)"
   ]
  },
  {
   "cell_type": "code",
   "execution_count": null,
   "metadata": {},
   "outputs": [
    {
     "name": "stdout",
     "output_type": "stream",
     "text": [
      "[5, 2, 4, 1, 3]\n",
      "[5, 4, 3, 2, 1]\n"
     ]
    }
   ],
   "source": [
    "# 원본 리스트를 변경하지 않고 정렬하려면?\n",
    "# sorted() -> 정렬된 새로운 리스트를 반환\n",
    "a = [5, 2, 4, 1, 3]\n",
    "b = sorted(a, reverse=True) # 내림차순 시 reverse=True 속성 추가\n",
    "\n",
    "print(a)\n",
    "print(b)\n",
    "\n",
    "# sort() -> 원본 리스트 자체를 변경해서 정렬\n",
    "# sorted() -> 새로운 정렬된 리스트를 반환(원본은 변경하지 않음)"
   ]
  },
  {
   "cell_type": "code",
   "execution_count": 9,
   "metadata": {},
   "outputs": [
    {
     "name": "stdout",
     "output_type": "stream",
     "text": [
      "['b', 'c', 'd', 'a']\n",
      "[1, 5, 3, 7, 2]\n"
     ]
    }
   ],
   "source": [
    "# 리스트 뒤집기 -> reverse()\n",
    "# 정렬해서 뒤집는 것이 아닌 현재의 리스트를 그대로 거꾸로 뒤집기\n",
    "# 원본 리스트가 변경됨\n",
    "# 리스트명.reverse()\n",
    "a = ['a', 'd', 'c', 'b']\n",
    "a.reverse()\n",
    "print(a)\n",
    "\n",
    "b = [2, 7, 3, 5, 1]\n",
    "b.reverse()\n",
    "print(b)"
   ]
  },
  {
   "cell_type": "code",
   "execution_count": 13,
   "metadata": {},
   "outputs": [
    {
     "name": "stdout",
     "output_type": "stream",
     "text": [
      "<list_reverseiterator object at 0x000002487F8F1BD0>\n",
      "[5, 4, 3, 2, 1]\n",
      "[1, 2, 3, 4, 5]\n",
      "[5, 4, 3, 2, 1]\n"
     ]
    }
   ],
   "source": [
    "# 원본을 변경하지 않고 리스트 뒤집기\n",
    "# reversed()\n",
    "\n",
    "numbers = [1, 2, 3, 4, 5]\n",
    "reversed_numbers = reversed(numbers)\n",
    "print(reversed_numbers) # 반복 가능한 객체의 형태로 반환\n",
    "print(list(reversed_numbers))\n",
    "print(numbers) # 원본은 변경하지 않음\n",
    "\n",
    "# 슬라이싱을 활용한 리스트 뒤집기\n",
    "a = numbers[::-1]\n",
    "print(a)"
   ]
  },
  {
   "cell_type": "code",
   "execution_count": null,
   "metadata": {},
   "outputs": [],
   "source": [
    "# 인덱스 반환 -> index()\n",
    "a = ['a', 'b', 'c', 'd']\n",
    "\n",
    "print(a.index('a'))\n",
    "print(a.index('d'))\n",
    "# print(a.index('z')) # 존재하지 않는 요소의 인덱스를 찾고자 하면 오류 발생"
   ]
  },
  {
   "cell_type": "code",
   "execution_count": 19,
   "metadata": {},
   "outputs": [
    {
     "name": "stdout",
     "output_type": "stream",
     "text": [
      "[4, 1, 2, 3]\n",
      "[4, '가', 7, 8, 5, 9]\n"
     ]
    }
   ],
   "source": [
    "# 리스트의 중간에 요소를 삽입 -> insert()\n",
    "# 우리가 원하는 특정 위치에 자유롭게 요소를 삽입\n",
    "# 리스트명.insert(위치, 요소)\n",
    "# 여기서 위치는 인덱스를 의미\n",
    "a = [1, 2, 3]\n",
    "a.insert(0, 4)\n",
    "print(a)\n",
    "\n",
    "b = [7, 8, 9]\n",
    "b.insert(0, 4)\n",
    "b.insert(3, 5)\n",
    "b.insert(1, '가')\n",
    "print(b)"
   ]
  },
  {
   "cell_type": "code",
   "execution_count": 22,
   "metadata": {},
   "outputs": [
    {
     "name": "stdout",
     "output_type": "stream",
     "text": [
      "['monkey', 'cow', 'cat', 'dog']\n",
      "['monkey', 'horse', 'cow', 'cat', 'dog']\n",
      "['monkey', 'horse', 'cow', 'cat', 'dog', 'chicken']\n"
     ]
    }
   ],
   "source": [
    "# 동물 리스트 가장 뒤쪽에 'cat'과 'dog'을 삽입하고, [1]번 인덱스에 'horse'를 삽입하세요.\n",
    "animal = ['monkey', 'cow']\n",
    "\n",
    "# 'cat'과 'dog' 가장 뒤쪽에 삽입\n",
    "animal.append('cat')\n",
    "animal.append('dog')\n",
    "print(animal)\n",
    "\n",
    "# [1]번 인덱스에 'horse' 삽입\n",
    "animal.insert(1, 'horse')\n",
    "print(animal)\n",
    "\n",
    "# insert() 메서드는 존재하지 않는 인덱스에도 요소 삽입이 가능(리스트의 가장 마지막에 추가)\n",
    "animal.insert(100, 'chicken')\n",
    "print(animal)"
   ]
  },
  {
   "cell_type": "code",
   "execution_count": null,
   "metadata": {},
   "outputs": [
    {
     "name": "stdout",
     "output_type": "stream",
     "text": [
      "[1, 2, 1, 2, 3]\n"
     ]
    }
   ],
   "source": [
    "# 리스트에 특정 값을 가진 요소 제거 -> remove()\n",
    "# 리스트명.remove(요소)\n",
    "# 요소와 일치하는 값을 찾아서 제거\n",
    "a = [1, 2, 3, 1, 2, 3]\n",
    "a.remove(3) # 리스트에서 첫번째로 나오는 3을 제거\n",
    "print(a)\n",
    "\n",
    "b = [1, 2, 3, 1, 2, 3]\n",
    "b.remove(3)\n",
    "b.remove(3)\n",
    "print(b) # remove(3)을 2번 실행해야 모든 3이 제거\n",
    "\n",
    "# remove() 메서드는 리스트를 왼쪽에서 오른쪽 방향으로 순차적으로 검사하여 처음 발견되는 값과 일치하는 요소 하나만 제거\n",
    "# 동일한 값을 가진 요소가 여러개 있더라도, 처음 발견된 요소 하나만 삭제"
   ]
  },
  {
   "cell_type": "code",
   "execution_count": 27,
   "metadata": {},
   "outputs": [
    {
     "name": "stdout",
     "output_type": "stream",
     "text": [
      "3\n",
      "[1, 2]\n",
      "8\n",
      "[7, 9]\n"
     ]
    }
   ],
   "source": [
    "# 리스트의 요소 끄집어내기(특정 위치에 있는 요소 삭제 후 반환) -> pop()\n",
    "# 인덱스를 지정하여 원하는 위치의 요소를 삭제하고, 삭제된 요소를 반환\n",
    "# 인덱스를 생략하면 가장 마지막 요소를 삭제하고, 삭제된 요소를 반환\n",
    "# 리스트명.pop(인덱스)\n",
    "a = [1, 2, 3]\n",
    "print(a.pop()) # pop()은 가장 마지막 요소를 리턴하고(반환)하고 그 요소를 삭제\n",
    "print(a)\n",
    "\n",
    "b = [7, 8, 9]\n",
    "print(b.pop(1))\n",
    "print(b)"
   ]
  },
  {
   "cell_type": "code",
   "execution_count": null,
   "metadata": {},
   "outputs": [
    {
     "name": "stdout",
     "output_type": "stream",
     "text": [
      "3\n",
      "4\n",
      "0\n"
     ]
    }
   ],
   "source": [
    "# 리스트에 포함된 요소 x의 갯수 세기 -> count()\n",
    "a = ['a', 'a', 'b', 'b', 'b', 'a', 'c', 'c', 'b']\n",
    "print(a.count('a'))\n",
    "print(a.count('b'))\n",
    "print(a.count('z')) # 'z'는 없어서 0"
   ]
  },
  {
   "cell_type": "code",
   "execution_count": null,
   "metadata": {},
   "outputs": [
    {
     "name": "stdout",
     "output_type": "stream",
     "text": [
      "[1, 2, 3, 4, 5]\n",
      "[1, 2, 3, 4, 5, 6, 7]\n",
      "[1, 2, 3, 4, 5, 6, 7, 8, 6, 7]\n"
     ]
    }
   ],
   "source": [
    "# 리스트 확장 -> extend()\n",
    "# 여러 개의 요소를 동시에 리스트에 추가하는데 유용\n",
    "# 리스트와 리스트끼리 연결하여 확장\n",
    "\n",
    "a = [1, 2, 3]\n",
    "a.extend([4, 5])\n",
    "print(a)\n",
    "\n",
    "b = [6, 7] # 또 다른 리스트 생성\n",
    "a.extend(b)\n",
    "print(a)\n",
    "\n",
    "c = {6, 7, 8} # extend()로 리스트 a에 집합 자료형의 요소 추가하여 확장\n",
    "a.extend(c)\n",
    "print(a)"
   ]
  }
 ],
 "metadata": {
  "kernelspec": {
   "display_name": "Python 3",
   "language": "python",
   "name": "python3"
  },
  "language_info": {
   "codemirror_mode": {
    "name": "ipython",
    "version": 3
   },
   "file_extension": ".py",
   "mimetype": "text/x-python",
   "name": "python",
   "nbconvert_exporter": "python",
   "pygments_lexer": "ipython3",
   "version": "3.13.2"
  }
 },
 "nbformat": 4,
 "nbformat_minor": 2
}
