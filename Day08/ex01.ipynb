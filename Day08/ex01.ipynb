{
 "cells": [
  {
   "cell_type": "markdown",
   "metadata": {},
   "source": [
    "# input() 사용하기\n",
    "- input()은 사용자가 키보드로 입력한 모든 값을 문자열 형태로 반환\n",
    "- input()은 값을 문자열 형태로 반환하기 때문에, 숫자를 입력받고 싶다면 int() 함수를 사용하여 문자열을 숫자로 변환이 필요"
   ]
  },
  {
   "cell_type": "code",
   "execution_count": 1,
   "metadata": {},
   "outputs": [
    {
     "name": "stdout",
     "output_type": "stream",
     "text": [
      "안녕\n"
     ]
    }
   ],
   "source": [
    "a = input()\n",
    "print(a)"
   ]
  },
  {
   "cell_type": "code",
   "execution_count": 3,
   "metadata": {},
   "outputs": [
    {
     "name": "stdout",
     "output_type": "stream",
     "text": [
      "50\n"
     ]
    },
    {
     "data": {
      "text/plain": [
       "str"
      ]
     },
     "execution_count": 3,
     "metadata": {},
     "output_type": "execute_result"
    }
   ],
   "source": [
    "number = input(\"숫자를 입력하세요 : \")\n",
    "print(number)\n",
    "type(number)"
   ]
  },
  {
   "cell_type": "markdown",
   "metadata": {},
   "source": [
    "# 파일 읽고 쓰기\n",
    "- 파일을 통한 입출력 작업도 가능\n",
    "- 파일 입출력은 프로그램과 파일 간에 데이터를 주고 받는 과정\n",
    "- 파일에 저장된 데이터를 읽어오거나 새로운 데이터를 파일에 저장하는 등 다양한 상황에서 사용\n",
    "\n",
    "# 파일 열기\n",
    "- 파일을 열때는 open() 함수 사용\n",
    "- open(파일명, 모드)\n",
    "- open(\"test.txt\", 'r') -> \n",
    "- 파일명은 문자열로 \"파일명.확장자\"까지 작성\n",
    "- 모드는 다양한 모드가 있으나 대표적으로 세 가지 모드를 주로 사용\n",
    "- r : 읽기모드(기본값). 파일을 읽기 전용으로 열기\n",
    "- w : 쓰기모드. 파일에 새로운 내용을 쓰기. 기존 파일의 내용은 덮어씌워짐\n",
    "- a : 추가 모드. 파일에 새로운 내용을 추가하기. 기존 파일의 내용은 유지\n",
    "- 모드를 생략하면 기본적으로 'r'모드로 파일이 열림\n",
    "- 'w' 모드나 'a' 모드는 반드시 해당 모드를 명시해야 함"
   ]
  },
  {
   "cell_type": "code",
   "execution_count": 4,
   "metadata": {},
   "outputs": [],
   "source": [
    "# 파일 생성하기\n",
    "f = open(\"새파일.txt\", 'w')\n",
    "f.close() # 파일 객체를 닫아주는 역할\n",
    "# 파일을 쓰기 모드로 열면 해당 파일이 이미 존재할 경우 원래 있던 내용이 모두 사라지고 해당 파일이 존재하지 않으면 새로운 파일이 생성됨\n",
    "# 쓰기 모드로 열었던 파일을 닫지 않고 다시 사용하려고 하면 오류가 발생할 수 있기 때문에 명시적으로 닫아주는 것이 좋음"
   ]
  },
  {
   "cell_type": "code",
   "execution_count": 8,
   "metadata": {},
   "outputs": [],
   "source": [
    "# 새파일.txt 파일을 C:/korea 디렉토리에 생성하고 싶다면 다음과 같이 작성\n",
    "# 반드시 해당 경로에 디렉토리가 존재해야 함\n",
    "f = open(\"C:/korea/새파일.txt\", 'w')\n",
    "f.close()"
   ]
  },
  {
   "cell_type": "code",
   "execution_count": 9,
   "metadata": {},
   "outputs": [],
   "source": [
    "# 파일을 쓰기 모드로 열어 내용 쓰기\n",
    "f = open(\"C:/korea/새파일.txt\", 'w')\n",
    "for i in range(1, 11):\n",
    "    data = \"%d번째 줄입니다.\\n\" % i\n",
    "    f.write(data)\n",
    "f.close()"
   ]
  },
  {
   "cell_type": "code",
   "execution_count": 26,
   "metadata": {},
   "outputs": [
    {
     "data": {
      "text/plain": [
       "6"
      ]
     },
     "execution_count": 26,
     "metadata": {},
     "output_type": "execute_result"
    }
   ],
   "source": [
    "file = open(\"test.txt\", \"w\")\n",
    "file.write(\"ABCDEF\")"
   ]
  },
  {
   "cell_type": "code",
   "execution_count": 10,
   "metadata": {},
   "outputs": [
    {
     "name": "stdout",
     "output_type": "stream",
     "text": [
      "1번째 줄입니다.\n",
      "2번째 줄입니다.\n",
      "3번째 줄입니다.\n",
      "4번째 줄입니다.\n",
      "5번째 줄입니다.\n",
      "6번째 줄입니다.\n",
      "7번째 줄입니다.\n",
      "8번째 줄입니다.\n",
      "9번째 줄입니다.\n",
      "10번째 줄입니다.\n",
      "\n"
     ]
    }
   ],
   "source": [
    "# 파일 내용 읽기\n",
    "# 변수명.read() -> 파일 전체 내용 읽기\n",
    "# 변수명.readline() -> 파일 한 줄씩 읽기\n",
    "# 변수명.readlines() -> 파일의 모든 줄을 읽어 리스트로 반환하기\n",
    "\n",
    "# read() 사용하기\n",
    "# 파일 내용 전체를 읽어 문자열로 리턴\n",
    "f = open(\"C:/korea/새파일.txt\", 'r')\n",
    "data = f.read()\n",
    "print(data)\n",
    "f.close()\n",
    "\n",
    "# f.read()는 파일의 내용 전체를 문자열로 리턴\n",
    "# 따라서 위 예시의 data는 파일의 전체 내용"
   ]
  },
  {
   "cell_type": "code",
   "execution_count": 11,
   "metadata": {},
   "outputs": [
    {
     "name": "stdout",
     "output_type": "stream",
     "text": [
      "1번째 줄입니다.\n",
      "\n"
     ]
    }
   ],
   "source": [
    "# readline() 사용하기\n",
    "\n",
    "f = open(\"C:/korea/새파일.txt\", 'r')\n",
    "line = f.readline()\n",
    "print(line)\n",
    "f.close()\n",
    "\n",
    "#  ‘새파일.txt’ 파일을 읽기 모드로 연 후 readline()을 사용해서 파일의 첫 번째 줄을 읽어 출력"
   ]
  },
  {
   "cell_type": "code",
   "execution_count": 16,
   "metadata": {},
   "outputs": [
    {
     "name": "stdout",
     "output_type": "stream",
     "text": [
      "1번째 줄입니다.\n",
      "\n",
      "2번째 줄입니다.\n",
      "\n",
      "3번째 줄입니다.\n",
      "\n",
      "4번째 줄입니다.\n",
      "\n",
      "5번째 줄입니다.\n",
      "\n",
      "6번째 줄입니다.\n",
      "\n",
      "7번째 줄입니다.\n",
      "\n",
      "8번째 줄입니다.\n",
      "\n",
      "9번째 줄입니다.\n",
      "\n",
      "10번째 줄입니다.\n",
      "\n"
     ]
    }
   ],
   "source": [
    "# 모든 줄을 읽어 화면에 출력하려면?\n",
    "\n",
    "f = open(\"C:/korea/새파일.txt\", 'r')\n",
    "while True: # 무한 루프 안에서 f.readline()을 사용해 파일을 계속 한 줄씩 읽어들임\n",
    "    line = f.readline()\n",
    "    if not line: \n",
    "      break # 더 이상 읽을 줄이 없으면 break를 수행(readline()은 더 이상 읽을 줄이 없을 경우, 빈 문자열('')을 리턴)\n",
    "    print(line)\n",
    "f.close()\n",
    "\n",
    "# readline()은 파일 포인터를 한 줄씩 이동시키면서 읽기 때문에, 파일의 각 줄을 차례대로 읽어옴\n",
    "# 한 줄씩 읽어 출력할 때 줄 끝에 \\n 문자가 있으므로 빈 줄도 같이 출력"
   ]
  },
  {
   "cell_type": "code",
   "execution_count": 17,
   "metadata": {},
   "outputs": [
    {
     "name": "stdout",
     "output_type": "stream",
     "text": [
      "1번째 줄입니다.\n",
      "\n",
      "2번째 줄입니다.\n",
      "\n",
      "3번째 줄입니다.\n",
      "\n",
      "4번째 줄입니다.\n",
      "\n",
      "5번째 줄입니다.\n",
      "\n",
      "6번째 줄입니다.\n",
      "\n",
      "7번째 줄입니다.\n",
      "\n",
      "8번째 줄입니다.\n",
      "\n",
      "9번째 줄입니다.\n",
      "\n",
      "10번째 줄입니다.\n",
      "\n"
     ]
    }
   ],
   "source": [
    "# readlines() 사용하기\n",
    "# readlines 함수는 파일의 모든 줄을 읽어서 각각의 줄을 요소로 가지는 리스트를 리턴\n",
    "\n",
    "f = open(\"C:/korea/새파일.txt\", 'r')\n",
    "lines = f.readlines()\n",
    "for line in lines:\n",
    "    print(line)\n",
    "f.close()"
   ]
  },
  {
   "cell_type": "code",
   "execution_count": 18,
   "metadata": {},
   "outputs": [
    {
     "name": "stdout",
     "output_type": "stream",
     "text": [
      "1번째 줄입니다.\n",
      "2번째 줄입니다.\n",
      "3번째 줄입니다.\n",
      "4번째 줄입니다.\n",
      "5번째 줄입니다.\n",
      "6번째 줄입니다.\n",
      "7번째 줄입니다.\n",
      "8번째 줄입니다.\n",
      "9번째 줄입니다.\n",
      "10번째 줄입니다.\n"
     ]
    }
   ],
   "source": [
    "# readlines() 줄바꿈 문자 제거하고 출력하기\n",
    "\n",
    "copyf = open(\"C:/korea/새파일.txt\", 'r')\n",
    "lines = copyf.readlines()\n",
    "for line in lines:\n",
    "    line = line.strip()  # strip() 함수 사용해 줄 끝의 줄 바꿈 문자를 제거\n",
    "    print(line)\n",
    "copyf.close()"
   ]
  },
  {
   "cell_type": "code",
   "execution_count": 21,
   "metadata": {},
   "outputs": [
    {
     "name": "stdout",
     "output_type": "stream",
     "text": [
      "1번째 줄입니다.\n",
      "2번째 줄입니다.\n",
      "3번째 줄입니다.\n",
      "4번째 줄입니다.\n",
      "5번째 줄입니다.\n",
      "6번째 줄입니다.\n",
      "7번째 줄입니다.\n",
      "8번째 줄입니다.\n",
      "9번째 줄입니다.\n",
      "10번째 줄입니다.\n"
     ]
    }
   ],
   "source": [
    "# readlines() 줄바꿈 문자 제거하고 출력하기\n",
    "\n",
    "copyf = open(\"C:/korea/새파일.txt\", 'r')\n",
    "lines = copyf.readlines()\n",
    "for line in lines:\n",
    "    print(line, end = '') # end 속성 활용해 줄 바꿈 문자 제거\n",
    "copyf.close()"
   ]
  },
  {
   "cell_type": "code",
   "execution_count": 22,
   "metadata": {},
   "outputs": [
    {
     "name": "stdout",
     "output_type": "stream",
     "text": [
      "1번째 줄입니다.\n",
      "\n",
      "2번째 줄입니다.\n",
      "\n",
      "3번째 줄입니다.\n",
      "\n",
      "4번째 줄입니다.\n",
      "\n",
      "5번째 줄입니다.\n",
      "\n",
      "6번째 줄입니다.\n",
      "\n",
      "7번째 줄입니다.\n",
      "\n",
      "8번째 줄입니다.\n",
      "\n",
      "9번째 줄입니다.\n",
      "\n",
      "10번째 줄입니다.\n",
      "\n"
     ]
    }
   ],
   "source": [
    "# 파일 객체를 for문과 함께 사용하기\n",
    "# 파일 객체는 기본적으로 for문을 사용해서도 파일을 줄 단위로 읽을 수 있습니다.\n",
    "f = open(\"C:/korea/새파일.txt\", 'r')\n",
    "for line in f:\n",
    "    print(line)\n",
    "f.close()"
   ]
  },
  {
   "cell_type": "code",
   "execution_count": 23,
   "metadata": {},
   "outputs": [],
   "source": [
    "# 파일에 새로운 내용 추가하기\n",
    "# 파일을 추가모드(a)로 실행\n",
    "f = open(\"C:/korea/새파일.txt\",'a')\n",
    "for i in range(11, 20):\n",
    "    data = \"%d번째 줄입니다.\\n\" % i\n",
    "    f.write(data)\n",
    "f.close()"
   ]
  }
 ],
 "metadata": {
  "kernelspec": {
   "display_name": "Python 3",
   "language": "python",
   "name": "python3"
  },
  "language_info": {
   "codemirror_mode": {
    "name": "ipython",
    "version": 3
   },
   "file_extension": ".py",
   "mimetype": "text/x-python",
   "name": "python",
   "nbconvert_exporter": "python",
   "pygments_lexer": "ipython3",
   "version": "3.13.0"
  }
 },
 "nbformat": 4,
 "nbformat_minor": 2
}
