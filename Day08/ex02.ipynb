{
 "cells": [
  {
   "cell_type": "markdown",
   "metadata": {},
   "source": [
    "# 파일 닫기\n",
    "- 파일을 닫으면 프로그램이 사용하던 메모리를 해제하여 다른 작업에 사용할 수 있어 메모리 사용량을 감소할 수 있음\n",
    "- 파일을 닫지 않으면 프로그램 종료 시 변경된 내용이 저장되지 않을 수 있음\n",
    "- 그러므로 명시적으로 닫아주는 것이 좋음\n",
    "- 변수명.close()"
   ]
  },
  {
   "cell_type": "code",
   "execution_count": 7,
   "metadata": {},
   "outputs": [
    {
     "name": "stdout",
     "output_type": "stream",
     "text": [
      "ABCDEF\n"
     ]
    }
   ],
   "source": [
    "file = open(\"test.txt\", \"r\")\n",
    "all = file.read()\n",
    "print(all)\n",
    "file.close() # 파일 닫기"
   ]
  },
  {
   "cell_type": "code",
   "execution_count": 5,
   "metadata": {},
   "outputs": [],
   "source": [
    "# with문과 함께 사용하기\n",
    "f = open(\"test2.txt\", 'w')\n",
    "f.write(\"Life is too short, you need python\")\n",
    "f.close()\n",
    "\n",
    "# 파일을 열면(open) 항상 닫아(close) 주어야함\n",
    "# with문을 사용하면 파일을 열고 닫는 것을 자동으로 처리할 수 있음"
   ]
  },
  {
   "cell_type": "code",
   "execution_count": 6,
   "metadata": {},
   "outputs": [],
   "source": [
    "with open(\"test3.txt\", \"w\") as f: # as f는 파일을 f라는 이름으로 다루겠다는 뜻. 파일 객체를 f라는 변수로 지정\n",
    "  f.write(\"Life is too short, you need python\")\n",
    "  \n",
    "# with 문을 사용하면 with 블록(with 문에 속해 있는 문장)을 벗어나는 순간, 열린 파일 객체가 자동으로 닫히게 됨"
   ]
  }
 ],
 "metadata": {
  "kernelspec": {
   "display_name": "Python 3",
   "language": "python",
   "name": "python3"
  },
  "language_info": {
   "codemirror_mode": {
    "name": "ipython",
    "version": 3
   },
   "file_extension": ".py",
   "mimetype": "text/x-python",
   "name": "python",
   "nbconvert_exporter": "python",
   "pygments_lexer": "ipython3",
   "version": "3.13.0"
  }
 },
 "nbformat": 4,
 "nbformat_minor": 2
}
