{
 "cells": [
  {
   "cell_type": "markdown",
   "metadata": {},
   "source": [
    "# 클래스로 간단한 계산기 구현하기"
   ]
  },
  {
   "cell_type": "code",
   "execution_count": 2,
   "metadata": {},
   "outputs": [
    {
     "name": "stdout",
     "output_type": "stream",
     "text": [
      "3\n",
      "7\n"
     ]
    }
   ],
   "source": [
    "# 계산기의 더하기 기능을 구현한 파이썬 코드\n",
    "def add(result, num):  # result를 함수의 매개변수로 전달\n",
    "    result += num\n",
    "    return result\n",
    "\n",
    "result = 0 # 계산기의 초기 상태\n",
    "result = add(result, 3)  # result를 인자로 전달하고 반환값으로 갱신\n",
    "print(result)\n",
    "\n",
    "result = add(result, 4)\n",
    "print(result)\n"
   ]
  },
  {
   "cell_type": "code",
   "execution_count": 6,
   "metadata": {},
   "outputs": [
    {
     "name": "stdout",
     "output_type": "stream",
     "text": [
      "7\n",
      "10\n"
     ]
    }
   ],
   "source": [
    "# 계산기가 두개 필요한 경우\n",
    "def add1(result1, num):  # 계산기1\n",
    "    result1 += num\n",
    "    return result1\n",
    "\n",
    "def add2(result2, num):  # 계산기2\n",
    "    result2 += num\n",
    "    return result2\n",
    "\n",
    "# 계산기1과 계산기2의 초기 상태\n",
    "result1 = 0\n",
    "result2 = 0\n",
    "\n",
    "# 계산기 사용\n",
    "result1 = add1(result1, 3)\n",
    "result1 = add1(result1, 4)\n",
    "result2 = add2(result2, 3)\n",
    "result2 = add2(result2, 7)\n",
    "\n",
    "# 결과 출력\n",
    "print(result1)\n",
    "print(result2)"
   ]
  },
  {
   "cell_type": "code",
   "execution_count": 4,
   "metadata": {},
   "outputs": [
    {
     "name": "stdout",
     "output_type": "stream",
     "text": [
      "3\n",
      "7\n",
      "3\n",
      "10\n"
     ]
    }
   ],
   "source": [
    "# 클래스를 사용하여 해결\n",
    "class Calculator:\n",
    "  def __init__(self): # 생성자\n",
    "    self.result = 0\n",
    "\n",
    "  def add(self, num):\n",
    "    self.result += num\n",
    "    return self.result\n",
    "\n",
    "cal1 = Calculator()\n",
    "cal2 = Calculator()\n",
    "\n",
    "print(cal1.add(3))\n",
    "print(cal1.add(4))\n",
    "print(cal2.add(3))\n",
    "print(cal2.add(7))"
   ]
  },
  {
   "cell_type": "code",
   "execution_count": 8,
   "metadata": {},
   "outputs": [
    {
     "name": "stdout",
     "output_type": "stream",
     "text": [
      "3\n",
      "7\n",
      "5\n",
      "4\n"
     ]
    }
   ],
   "source": [
    "# 빼기 함수 추가\n",
    "class Calculator:\n",
    "  def __init__(self):\n",
    "    self.result = 0\n",
    "\n",
    "  def add(self, num):\n",
    "    self.result += num\n",
    "    return self.result\n",
    "\n",
    "  def sub(self, num):\n",
    "    self.result -= num\n",
    "    return self.result\n",
    "  \n",
    "calc = Calculator()\n",
    "\n",
    "# 더하기와 빼기 기능 사용\n",
    "print(calc.add(3))  \n",
    "print(calc.add(4))  \n",
    "print(calc.sub(2))\n",
    "print(calc.sub(1)) "
   ]
  }
 ],
 "metadata": {
  "kernelspec": {
   "display_name": "Python 3",
   "language": "python",
   "name": "python3"
  },
  "language_info": {
   "codemirror_mode": {
    "name": "ipython",
    "version": 3
   },
   "file_extension": ".py",
   "mimetype": "text/x-python",
   "name": "python",
   "nbconvert_exporter": "python",
   "pygments_lexer": "ipython3",
   "version": "3.13.0"
  }
 },
 "nbformat": 4,
 "nbformat_minor": 2
}
