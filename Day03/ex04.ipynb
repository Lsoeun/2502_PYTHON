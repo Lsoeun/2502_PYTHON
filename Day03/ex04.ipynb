{
 "cells": [
  {
   "cell_type": "markdown",
   "metadata": {},
   "source": [
    "## break와 continue\n",
    "- 조건식이 True더라도 언제든지 원할 때 강제로 while문을 빠져나갈 수 있는 키워드\n",
    "\n",
    "## break\n",
    "- while문을 강제로 종료\n",
    "- while문 내에서 break를 만나면 즉시 while문을 벗어남\n",
    "\n",
    "## continue\n",
    "- while문의 반복을 건너뛰고 맨 처음으로 돌아감(다음 반복으로 넘어감)\n",
    "- while문 내에서 continue문을 만나면, 현재 반복을 건너뛰고 다음 반복으로 이동"
   ]
  },
  {
   "cell_type": "code",
   "execution_count": 1,
   "metadata": {},
   "outputs": [
    {
     "name": "stdout",
     "output_type": "stream",
     "text": [
      "0\n",
      "1\n",
      "2\n",
      "3\n",
      "4\n"
     ]
    }
   ],
   "source": [
    "# break - while문을 종료하고 빠져나가기(조건이 거짓이 아니더라도!!)\n",
    "count = 0\n",
    "\n",
    "while count < 10:\n",
    "  print(count)\n",
    "  count += 1\n",
    "  \n",
    "  if count == 5:\n",
    "    break # if 조건이 만족되면 break가 실행\n",
    "  # break가 실행되면, while문의 코드 블록을 종료하고 빠져나감 "
   ]
  },
  {
   "cell_type": "code",
   "execution_count": null,
   "metadata": {},
   "outputs": [],
   "source": [
    "# 커피 자판기 프로그램 만들기\n",
    "# 커피가 떨어졌다면 판매를 중단하고 '판매 중지' 문구를 사용자에게 보여줌\n",
    "\n",
    "coffee = 10\n",
    "while True:\n",
    "  money = int(input(\"돈을 넣어 주세요:\"))\n",
    "  if money == 300:\n",
    "    print(\"커피를 줍니다.\")\n",
    "    coffee -= 1\n",
    "  elif money > 300:\n",
    "    print(\"거스름돈 %d를 주고 커피를 줍니다.\" % (money - 300))\n",
    "    coffee -= 1\n",
    "  else:\n",
    "    print(\"돈을 다시 돌려주고 커피를 주지 않습니다.\")\n",
    "    print(\"남은 커피의 양은 %d개 입니다.\" % coffee)\n",
    "  \n",
    "  if coffee == 0:\n",
    "    print(\"커피가 다 떨어졌습니다. 판매를 중지합니다.\")\n",
    "    break"
   ]
  },
  {
   "cell_type": "code",
   "execution_count": null,
   "metadata": {},
   "outputs": [],
   "source": [
    "# continue문 - 특정 회차만 건너 뛰기\n",
    "# 3의 배수만 건너뛰고 출력하기\n",
    "\n",
    "num = 0\n",
    "\n",
    "while num < 20:\n",
    "  num += 1\n",
    "  if num % 3 == 0: # 3의 배수인 경우\n",
    "    continue # 3의 배수인 경우 출력하지 않고 건너 뛰기\n",
    "  print(num) # 3의 배수가 아닌 경우만 출력"
   ]
  },
  {
   "cell_type": "code",
   "execution_count": 7,
   "metadata": {},
   "outputs": [
    {
     "name": "stdout",
     "output_type": "stream",
     "text": [
      "1\n",
      "3\n",
      "5\n",
      "7\n",
      "9\n"
     ]
    }
   ],
   "source": [
    "# 홀수만 출력하기\n",
    "a = 0\n",
    "\n",
    "while a < 10:\n",
    "  a += 1\n",
    "  if a % 2 == 0: # 짝수인 경우\n",
    "    continue # 짝수인 경우 다음 반복으로 건너뜀\n",
    "  print(a) # 홀수인 경우만 출력"
   ]
  },
  {
   "cell_type": "code",
   "execution_count": 14,
   "metadata": {},
   "outputs": [
    {
     "name": "stdout",
     "output_type": "stream",
     "text": [
      "1 2 짝 4 5 짝 7 8 짝 10 11 짝 13 14 짝 16 17 짝 19 20 "
     ]
    }
   ],
   "source": [
    "# 369게임 만들기\n",
    "num = 0\n",
    "\n",
    "while num < 20:\n",
    "  num += 1\n",
    "  \n",
    "  if num % 3 == 0:\n",
    "    print(\"짝\", end=\" \") # end= \" \" 옵션을 사용해서 출력 후 띄어쓰기 추가\n",
    "    continue # 반복문의 처음으로 돌아가기\n",
    "  \n",
    "  print(num, end=\" \")"
   ]
  },
  {
   "cell_type": "markdown",
   "metadata": {},
   "source": [
    "## print(num, end = \" \")\n",
    "- 보통 print(num) 으로 출력하면, 줄바꿈이 자동으로 추가되어 가로 한줄이 아니라 세로 한줄로 출력\n",
    "- 실제로 print(num) 코드는 print(num, end = \"\\n\") end 속성이 생략된 것\n",
    "- end 속성의 기본 값은 줄바꿈 \\n\n",
    "- end 속성은 값을 출력한 후 마지막을 어떤 형태로 마무리할지 결정하는 역할\n",
    "- 이것은 띄어쓰기 일수도 있고, 줄바꿈일수도 있다.\n",
    "- end = \" \" : 사이에 띄어쓰기 하나 추가해서 출력\n",
    "- end = \",\" : 사이에 쉼표 추가해서 출력\n",
    "- end = \"\" : 줄바꿈 추가하지 않고 띄어쓰기도 없이 출력\n",
    "- end = \"\\n\" : 줄바꿈 추가(생략 가능. 생략 시 줄바꿈이 기본 값)"
   ]
  }
 ],
 "metadata": {
  "kernelspec": {
   "display_name": "Python 3",
   "language": "python",
   "name": "python3"
  },
  "language_info": {
   "codemirror_mode": {
    "name": "ipython",
    "version": 3
   },
   "file_extension": ".py",
   "mimetype": "text/x-python",
   "name": "python",
   "nbconvert_exporter": "python",
   "pygments_lexer": "ipython3",
   "version": "3.13.2"
  }
 },
 "nbformat": 4,
 "nbformat_minor": 2
}
