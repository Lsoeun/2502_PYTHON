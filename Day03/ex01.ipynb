{
 "cells": [
  {
   "cell_type": "markdown",
   "metadata": {},
   "source": [
    "## if문\n",
    "- 참 아니면 거짓으로 답할 수 있는 질문은 모두 조건식으로 사용 가능\n",
    "- if문은 주어진 조건이 참일때 특정 코드를 실행"
   ]
  },
  {
   "cell_type": "markdown",
   "metadata": {},
   "source": [
    "# if문의 기본 형식\n",
    "if 조건식:\n",
    "  실행할코드"
   ]
  },
  {
   "cell_type": "markdown",
   "metadata": {},
   "source": [
    "## 파이썬은 들여쓰기가 중요한 언어!!\n",
    "- 파이썬에서 들여쓰기는 코드 블록을 구분하고 가독성을 높이는데 중요한 역할\n",
    "- 조건문의 기본 형태를 살펴 보면 콜론: 과 들여쓰기 사용\n",
    "- 콜론: 은 조건문 코드 블록의 시작을 의미\n",
    "- 들여쓰기로 묶인 여러 줄의 코드는 '코드 블록'이라고 부름\n",
    "- if문에서는 코드 블록을 명확하기 구분하기 위해 들여쓰기 사용"
   ]
  },
  {
   "cell_type": "markdown",
   "metadata": {},
   "source": [
    "if 조건식:\n",
    "  코드1\n",
    "  코드2\n",
    "  코드3\n",
    "  ..\n",
    "  \n",
    "# 조건식이 참이면 들여쓰기가 된 코드 블록이 실행\n",
    "# 위에서부터 순차적으로 실행"
   ]
  },
  {
   "cell_type": "code",
   "execution_count": 1,
   "metadata": {},
   "outputs": [
    {
     "name": "stdout",
     "output_type": "stream",
     "text": [
      "7은 1보다 큽니다.\n",
      "여기까지 if문의 코드블록\n"
     ]
    }
   ],
   "source": [
    "if 7 > 1:\n",
    "  print(\"7은 1보다 큽니다.\")\n",
    "  print(\"여기까지 if문의 코드블록\")\n",
    "  \n",
    "if 2 > 5:\n",
    "  print(\"2는 5보다 큽니다.\")"
   ]
  },
  {
   "cell_type": "code",
   "execution_count": null,
   "metadata": {},
   "outputs": [
    {
     "name": "stdout",
     "output_type": "stream",
     "text": [
      "양수\n"
     ]
    }
   ],
   "source": [
    "if True:\n",
    "  print(\"양수\")"
   ]
  },
  {
   "cell_type": "code",
   "execution_count": 3,
   "metadata": {},
   "outputs": [
    {
     "name": "stdout",
     "output_type": "stream",
     "text": [
      "20세 이상입니다.\n"
     ]
    }
   ],
   "source": [
    "age = 20\n",
    "\n",
    "if age >= 20:\n",
    "  print(\"20세 이상입니다.\")"
   ]
  },
  {
   "cell_type": "code",
   "execution_count": 4,
   "metadata": {},
   "outputs": [
    {
     "name": "stdout",
     "output_type": "stream",
     "text": [
      "택시를 탑니다.\n"
     ]
    }
   ],
   "source": [
    "money = True\n",
    "\n",
    "if money:\n",
    "  print(\"택시를 탑니다.\")"
   ]
  },
  {
   "cell_type": "code",
   "execution_count": 5,
   "metadata": {},
   "outputs": [
    {
     "name": "stdout",
     "output_type": "stream",
     "text": [
      "30대 입니다.\n"
     ]
    }
   ],
   "source": [
    "# if문이 여러개인 경우\n",
    "age = 31\n",
    "\n",
    "if age < 10:\n",
    "  print(\"어린이 입니다.\")\n",
    "  \n",
    "if 10 <= age < 20:\n",
    "  print(\"10대 입니다.\")\n",
    "  \n",
    "if 20 <= age < 30:\n",
    "  print(\"20대 입니다.\")\n",
    "  \n",
    "if 30 <= age < 40:\n",
    "  print(\"30대 입니다.\")"
   ]
  },
  {
   "cell_type": "code",
   "execution_count": 6,
   "metadata": {},
   "outputs": [
    {
     "name": "stdout",
     "output_type": "stream",
     "text": [
      "10입니다.\n"
     ]
    }
   ],
   "source": [
    "# if문에서 두 값이 일치하는지 비교하는 == 연산자도 사용 가능\n",
    "\n",
    "number = 10\n",
    "\n",
    "if number < 10:\n",
    "  print(\"10보다 작습니다.\")\n",
    "  \n",
    "if number == 10:\n",
    "  print(\"10입니다.\")"
   ]
  },
  {
   "cell_type": "markdown",
   "metadata": {},
   "source": [
    "## if-else문\n",
    "- if문은 조건식이 참일 때만 원하는 코드를 실행\n",
    "- 조건이 거짓인 경우도 고려가 필요\n",
    "- else문은 if문의 조건이 거짓일 때, 즉 False일 때 실행되는 코드를 정의\n",
    "- else문은 단독으로 사용할 수 없고 항상 if문과 함께 사용되어야 함\n",
    "\n",
    "## if-else문의 기본 형식\n",
    "\n",
    "if 조건식:\n",
    "  조건식이 참일 때 실행할 코드\n",
    "else:\n",
    "  조건식일 거짓일 때 실행할 코드\n",
    "\n",
    "- 조건식이 참이면, if의 코드 블록이 실행\n",
    "- 조건식이 거짓이면, else의 코드 블록이 실행"
   ]
  },
  {
   "cell_type": "code",
   "execution_count": 8,
   "metadata": {},
   "outputs": [
    {
     "name": "stdout",
     "output_type": "stream",
     "text": [
      "저는 바나나를 좋아합니다.\n",
      "if입니다~~\n"
     ]
    }
   ],
   "source": [
    "fruit = \"바나나\"\n",
    "\n",
    "if fruit == \"바나나\":\n",
    "  print(\"저는 바나나를 좋아합니다.\")\n",
    "  print(\"if입니다~~\")\n",
    "else:\n",
    "  print(\"저는 바나나를 싫어합니다.\")"
   ]
  },
  {
   "cell_type": "code",
   "execution_count": 9,
   "metadata": {},
   "outputs": [
    {
     "name": "stdout",
     "output_type": "stream",
     "text": [
      "20세 미만입니다.\n"
     ]
    }
   ],
   "source": [
    "age = 14\n",
    "if age >= 20:\n",
    "  print(\"20세 이상입니다.\")\n",
    "else:\n",
    "  print(\"20세 미만입니다.\")"
   ]
  },
  {
   "cell_type": "code",
   "execution_count": 10,
   "metadata": {},
   "outputs": [
    {
     "name": "stdout",
     "output_type": "stream",
     "text": [
      "홀수입니다.\n"
     ]
    }
   ],
   "source": [
    "# 홀수, 짝수를 판단하는 조건식\n",
    "# 홀수 짝수 판단할 때는 2로 나눈 나머지 가지고 판단\n",
    "\n",
    "num = 19\n",
    "\n",
    "if num % 2 == 0:\n",
    "  print(\"짝수입니다.\")\n",
    "else:\n",
    "  print(\"홀수입니다.\")"
   ]
  },
  {
   "cell_type": "code",
   "execution_count": 11,
   "metadata": {},
   "outputs": [
    {
     "name": "stdout",
     "output_type": "stream",
     "text": [
      "택시를 타라\n"
     ]
    }
   ],
   "source": [
    "# 조건문과 or\n",
    "# 돈이 3000원 이상 있거나 카드가 있다면 택시를 타고가고, 그렇지 않다면 걸어가라\n",
    "\n",
    "money = 2000\n",
    "card = True\n",
    "\n",
    "if money >= 3000 or card:\n",
    "  print(\"택시를 타라\")\n",
    "else:\n",
    "  print(\"걸어가라\")"
   ]
  },
  {
   "cell_type": "code",
   "execution_count": 12,
   "metadata": {},
   "outputs": [
    {
     "name": "stdout",
     "output_type": "stream",
     "text": [
      "True\n"
     ]
    }
   ],
   "source": [
    "print(1 in [1, 2, 3]) # [1, 2, 3]리스트 안에 1이라는 값이 있는가? 있으면 True"
   ]
  },
  {
   "cell_type": "code",
   "execution_count": 13,
   "metadata": {},
   "outputs": [
    {
     "name": "stdout",
     "output_type": "stream",
     "text": [
      "택시를 타고 가라\n"
     ]
    }
   ],
   "source": [
    "# 만약 주머니에 돈이 있으면 택시를 타고가고, 없으면 걸어가라\n",
    "\n",
    "pocket = ['paper', 'money', 'cellphone']\n",
    "\n",
    "if 'money' in pocket:\n",
    "  print(\"택시를 타고 가라\")\n",
    "else:\n",
    "  print(\"걸어가라\")"
   ]
  },
  {
   "cell_type": "markdown",
   "metadata": {},
   "source": [
    "## elif문\n",
    "- elif문은 세가지 이상의 흐름으로 프로그램을 제어 가능\n",
    "- 하나가 아닌 여러 개의 조건식을 사용할 수 있음\n",
    "\n",
    "## elif문의 기본 형식\n",
    "\n",
    "if 조건식1:\n",
    "  조건식1이 참일 때 실행할 코드\n",
    "elif 조건식2:\n",
    "  조건식2가 참일 때 실행할 코드\n",
    "elif 조건식3:\n",
    "  조건식3가 참일 때 실행할 코드\n",
    "else:\n",
    "  모든 조건이 거짓일 때 실행할 코드"
   ]
  },
  {
   "cell_type": "code",
   "execution_count": 1,
   "metadata": {},
   "outputs": [
    {
     "name": "stdout",
     "output_type": "stream",
     "text": [
      "택시를 타고 가라\n"
     ]
    }
   ],
   "source": [
    "# 주머니에 돈이 있으면 택시를 타고 가고, 주머니에 돈은 없지만 카드가 있으면 택시를 타고 가고, 돈도 없고 카드도 없으면 걸어가라 \n",
    "\n",
    "pocket = ['paper', 'cellphone']\n",
    "card = True\n",
    "\n",
    "if 'money' in pocket:\n",
    "  print(\"택시를 타고 가라\")\n",
    "else:\n",
    "  if card:\n",
    "    print(\"택시를 타고 가라\")\n",
    "  else:\n",
    "    print(\"걸어가라\")"
   ]
  },
  {
   "cell_type": "code",
   "execution_count": 2,
   "metadata": {},
   "outputs": [
    {
     "name": "stdout",
     "output_type": "stream",
     "text": [
      "택시를 타고 가라\n"
     ]
    }
   ],
   "source": [
    "pocket = ['paper', 'cellphone']\n",
    "card = True\n",
    "\n",
    "if 'money' in pocket:\n",
    "  print(\"택시를 타고 가라\")\n",
    "elif card:\n",
    "  print(\"택시를 타고 가라\")\n",
    "else:\n",
    "  print(\"걸어가라\")"
   ]
  },
  {
   "cell_type": "code",
   "execution_count": null,
   "metadata": {},
   "outputs": [
    {
     "name": "stdout",
     "output_type": "stream",
     "text": [
      "B\n"
     ]
    }
   ],
   "source": [
    "# 성적 처리 프로그램\n",
    "score = 87\n",
    "\n",
    "if score >= 90:\n",
    "  print(\"A\")\n",
    "elif score >= 80:\n",
    "  print(\"B\")\n",
    "elif score >= 70:\n",
    "  print(\"C\")\n",
    "else:\n",
    "  print(\"F\")"
   ]
  },
  {
   "cell_type": "code",
   "execution_count": 5,
   "metadata": {},
   "outputs": [
    {
     "name": "stdout",
     "output_type": "stream",
     "text": [
      "여름\n"
     ]
    }
   ],
   "source": [
    "# 계절 출력 프로그램\n",
    "month = 6\n",
    "\n",
    "if 3 <= month <= 5:\n",
    "  print(\"봄\")\n",
    "elif 6 <= month <= 8:\n",
    "  print(\"여름\")\n",
    "elif 9 <= month <= 11:\n",
    "  print(\"가을\")\n",
    "else:\n",
    "  print(\"겨울\")"
   ]
  },
  {
   "cell_type": "code",
   "execution_count": 9,
   "metadata": {},
   "outputs": [
    {
     "name": "stdout",
     "output_type": "stream",
     "text": [
      "중학생\n"
     ]
    }
   ],
   "source": [
    "# 나이 입력받아 출력하기\n",
    "age = int(input('당신의 나이는?'))\n",
    "\n",
    "if age <= 7:\n",
    "  print(\"미취학 아동\")\n",
    "elif age <= 13:\n",
    "  print(\"초등학생\")\n",
    "elif age <= 16:\n",
    "  print(\"중학생\")\n",
    "elif age <= 19:\n",
    "  print(\"고등학생\")\n",
    "else:\n",
    "  print(\"성인\")"
   ]
  },
  {
   "cell_type": "code",
   "execution_count": 12,
   "metadata": {},
   "outputs": [
    {
     "name": "stdout",
     "output_type": "stream",
     "text": [
      "회원가입을 해주세요\n"
     ]
    }
   ],
   "source": [
    "# 로그인 프로그램\n",
    "id = \"koreaaaa\"\n",
    "password = 7778\n",
    "\n",
    "if id == \"korea\" and password == 7777:\n",
    "  print(\"로그인 되었습니다.\")\n",
    "elif id == \"korea\" and password != 7777:\n",
    "  print(\"비밀번호가 틀렸습니다.\")\n",
    "else:\n",
    "  print(\"회원가입을 해주세요\")"
   ]
  }
 ],
 "metadata": {
  "kernelspec": {
   "display_name": "Python 3",
   "language": "python",
   "name": "python3"
  },
  "language_info": {
   "codemirror_mode": {
    "name": "ipython",
    "version": 3
   },
   "file_extension": ".py",
   "mimetype": "text/x-python",
   "name": "python",
   "nbconvert_exporter": "python",
   "pygments_lexer": "ipython3",
   "version": "3.13.2"
  }
 },
 "nbformat": 4,
 "nbformat_minor": 2
}
