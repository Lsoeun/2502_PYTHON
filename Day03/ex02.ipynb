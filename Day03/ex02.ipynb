{
 "cells": [
  {
   "cell_type": "markdown",
   "metadata": {
    "vscode": {
     "languageId": "plaintext"
    }
   },
   "source": [
    "# 조건부 표현식\n",
    "- 조건식이 하나인 경우 조건문을 간단히 표현할 수 있음\n",
    "- 가독성에 유리하고 한 줄로 작성할 수 있어 활용성이 좋음\n",
    "\n",
    "# 조건부 표현식의 기본 형식\n",
    "변수 = 조건문이 참인 경우의 값 if 조건문 else 조건문이 거짓인 경우의 값"
   ]
  },
  {
   "cell_type": "code",
   "execution_count": 3,
   "metadata": {},
   "outputs": [
    {
     "name": "stdout",
     "output_type": "stream",
     "text": [
      "성공\n"
     ]
    }
   ],
   "source": [
    "score = 75\n",
    "\n",
    "if score >= 60:\n",
    "    message = \"성공\"\n",
    "else:\n",
    "    message = \"실패\"\n",
    "\n",
    "print(message)"
   ]
  },
  {
   "cell_type": "code",
   "execution_count": 6,
   "metadata": {},
   "outputs": [
    {
     "name": "stdout",
     "output_type": "stream",
     "text": [
      "실패\n"
     ]
    }
   ],
   "source": [
    "score = 55\n",
    "\n",
    "message = \"성공\" if score >= 60 else \"실패\"\n",
    "\n",
    "print(message)"
   ]
  },
  {
   "cell_type": "code",
   "execution_count": 1,
   "metadata": {},
   "outputs": [
    {
     "name": "stdout",
     "output_type": "stream",
     "text": [
      "운행가능\n"
     ]
    }
   ],
   "source": [
    "# 차랑 2부제를 실시합니다.\n",
    "# 차량 번호를 입력받아 차량 번호가 짝수로 끝나면 '운행가능' 홀수로 끝나면 '운행불가'를 출력하는 프로그램을 구현하세요.\n",
    "\n",
    "# 차량 번호 입력\n",
    "car_number = input(\"차량 번호를 입력하세요: \")\n",
    "\n",
    "# 결과 출력\n",
    "print(\"운행가능\" if int(car_number) % 2 == 0 else \"운행불가\")"
   ]
  }
 ],
 "metadata": {
  "kernelspec": {
   "display_name": "Python 3",
   "language": "python",
   "name": "python3"
  },
  "language_info": {
   "codemirror_mode": {
    "name": "ipython",
    "version": 3
   },
   "file_extension": ".py",
   "mimetype": "text/x-python",
   "name": "python",
   "nbconvert_exporter": "python",
   "pygments_lexer": "ipython3",
   "version": "3.13.0"
  }
 },
 "nbformat": 4,
 "nbformat_minor": 2
}
