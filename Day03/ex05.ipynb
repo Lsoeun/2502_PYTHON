{
 "cells": [
  {
   "cell_type": "markdown",
   "metadata": {
    "vscode": {
     "languageId": "plaintext"
    }
   },
   "source": [
    "## for문의 기본 구조\n",
    "\n",
    "for 변수 in 리스트(튜플, 문자열):\n",
    "  실행할 코드1\n",
    "  실행할 코드2"
   ]
  },
  {
   "cell_type": "code",
   "execution_count": 2,
   "metadata": {},
   "outputs": [
    {
     "name": "stdout",
     "output_type": "stream",
     "text": [
      "1\n",
      "2\n",
      "3\n",
      "4\n",
      "5\n"
     ]
    }
   ],
   "source": [
    "for n in [1, 2, 3, 4, 5]:\n",
    "  print(n)"
   ]
  },
  {
   "cell_type": "code",
   "execution_count": 3,
   "metadata": {},
   "outputs": [
    {
     "name": "stdout",
     "output_type": "stream",
     "text": [
      "1\n",
      "2\n",
      "3\n",
      "4\n",
      "5\n"
     ]
    }
   ],
   "source": [
    "nums = [1, 2, 3, 4, 5]\n",
    "\n",
    "for n in nums:\n",
    "  print(n)"
   ]
  },
  {
   "cell_type": "code",
   "execution_count": 4,
   "metadata": {},
   "outputs": [
    {
     "name": "stdout",
     "output_type": "stream",
     "text": [
      "안녕하세요 제 이름은 jennie 입니다\n",
      "만나서 반갑습니다.\n",
      "안녕하세요 제 이름은 hani 입니다\n",
      "만나서 반갑습니다.\n",
      "안녕하세요 제 이름은 kelly 입니다\n",
      "만나서 반갑습니다.\n"
     ]
    }
   ],
   "source": [
    "names = [\"jennie\", \"hani\", \"kelly\"]\n",
    "\n",
    "for a in names:\n",
    "  print(\"안녕하세요 제 이름은\", a, \"입니다\")\n",
    "  print(\"만나서 반갑습니다.\")"
   ]
  },
  {
   "cell_type": "code",
   "execution_count": 6,
   "metadata": {},
   "outputs": [
    {
     "name": "stdout",
     "output_type": "stream",
     "text": [
      "3\n",
      "7\n",
      "11\n",
      "(1, 2)\n",
      "(3, 4)\n",
      "(5, 6)\n"
     ]
    }
   ],
   "source": [
    "# 튜플과 for문 활용하기\n",
    "a = [(1, 2), (3, 4), (5, 6)]\n",
    "\n",
    "for (first, last) in a:\n",
    "  print(first + last)\n",
    "  \n",
    "for n in a:\n",
    "  print(n)"
   ]
  },
  {
   "cell_type": "code",
   "execution_count": 8,
   "metadata": {},
   "outputs": [
    {
     "name": "stdout",
     "output_type": "stream",
     "text": [
      "H e l l o "
     ]
    }
   ],
   "source": [
    "# 문자열과 for문 활용하기\n",
    "for ch in 'Hello':\n",
    "  print(ch, end= \" \")"
   ]
  },
  {
   "cell_type": "code",
   "execution_count": 9,
   "metadata": {},
   "outputs": [
    {
     "name": "stdout",
     "output_type": "stream",
     "text": [
      "1번 학생은 합격입니다.\n",
      "2번 학생은 합격입니다.\n",
      "3번 학생은 합격입니다.\n",
      "4번 학생은 합격입니다.\n",
      "5번 학생은 불합격입니다.\n",
      "6번 학생은 불합격입니다.\n"
     ]
    }
   ],
   "source": [
    "# for문의 응용\n",
    "# 총 5명의 학생이 시험을 보았는데, 시험 점수가 60점 이상이면 합격이고 그렇지 않으면 불합격 입니다.\n",
    "# 합격인지 불합격인지 결과를 for문을 활용해 출력하세요.\n",
    "\n",
    "scores = [90, 80, 70, 60, 50, 40] # 학생들의 시험 점수 리스트\n",
    "number = 0 # 학생에게 붙여줄 번호\n",
    "\n",
    "for score in scores:\n",
    "  number += 1\n",
    "  if score >= 60:\n",
    "    print(\"%d번 학생은 합격입니다.\" % number)\n",
    "  else:\n",
    "    print(\"%d번 학생은 불합격입니다.\" % number)\n"
   ]
  },
  {
   "cell_type": "code",
   "execution_count": 10,
   "metadata": {},
   "outputs": [
    {
     "name": "stdout",
     "output_type": "stream",
     "text": [
      "1번 학생 축하합니다. 합격입니다.\n",
      "6번 학생 축하합니다. 합격입니다.\n"
     ]
    }
   ],
   "source": [
    "# for문과 continue문\n",
    "# for문 안의 문장을 수행하는 도중 continue문을 만나면 for문의 다음 반복으로 넘어감\n",
    "\n",
    "scores = [90, 20, 30, 40, 50, 60]\n",
    "number = 0\n",
    "\n",
    "for score in scores:\n",
    "  number += 1\n",
    "  if score < 60:\n",
    "    continue # 60점 미만인 경우에는 합격 처리를 하지 않고 다음 반복으로 넘어감\n",
    "  print(\"%d번 학생 축하합니다. 합격입니다.\" % number) "
   ]
  },
  {
   "cell_type": "code",
   "execution_count": null,
   "metadata": {},
   "outputs": [],
   "source": [
    "# for문과 함께 자주 사용되는 range() 함수\n",
    "# range() 함수는 연속된 정수 범위를 생성하는 함수(내장함수)\n",
    "# for문과 함께 사용하여 반복적인 작업을 수행하거나, 특정 범위의 값을 처리하는데 유용\n",
    "\n",
    "range(시작숫자, 종료숫자, 간격)\n",
    "# 시작 숫자는 생략 가능하며 생략하면 기본 값은 0\n",
    "# 종료 숫자는 생략 불가하며, 종료숫자는 포함되지 않음\n",
    "# 간격은 생략 가능하며, 생략하면 기본 값은 1"
   ]
  },
  {
   "cell_type": "code",
   "execution_count": 13,
   "metadata": {},
   "outputs": [
    {
     "name": "stdout",
     "output_type": "stream",
     "text": [
      "1\n",
      "2\n",
      "3\n",
      "4\n"
     ]
    }
   ],
   "source": [
    "for i in range(1, 5):\n",
    "  print(i)"
   ]
  },
  {
   "cell_type": "code",
   "execution_count": 16,
   "metadata": {},
   "outputs": [
    {
     "name": "stdout",
     "output_type": "stream",
     "text": [
      "2\n",
      "4\n",
      "6\n",
      "8\n",
      "10\n"
     ]
    }
   ],
   "source": [
    "for i in range(2, 11, 2):\n",
    "  print(i)"
   ]
  },
  {
   "cell_type": "code",
   "execution_count": 18,
   "metadata": {},
   "outputs": [
    {
     "name": "stdout",
     "output_type": "stream",
     "text": [
      "range(0, 10)\n",
      "[0, 1, 2, 3, 4, 5, 6, 7, 8, 9]\n"
     ]
    }
   ],
   "source": [
    "a = range(10)\n",
    "print(a)\n",
    "a_list = list(a)\n",
    "print(a_list)"
   ]
  },
  {
   "cell_type": "code",
   "execution_count": 19,
   "metadata": {},
   "outputs": [
    {
     "name": "stdout",
     "output_type": "stream",
     "text": [
      "55\n"
     ]
    }
   ],
   "source": [
    "# 1부터 10까지 합계 구하기\n",
    "add = 0 # 합계를 누적해서 담을 변수\n",
    "for i in range(1, 11):\n",
    "  add = add + i\n",
    "\n",
    "print(add)"
   ]
  },
  {
   "cell_type": "code",
   "execution_count": 24,
   "metadata": {},
   "outputs": [
    {
     "name": "stdout",
     "output_type": "stream",
     "text": [
      "5050\n"
     ]
    }
   ],
   "source": [
    "# 1부터 100까지 합계 구하기\n",
    "add = 0\n",
    "for i in range(1, 101):\n",
    "  add = add + i\n",
    "  \n",
    "print(add)"
   ]
  },
  {
   "cell_type": "code",
   "execution_count": 25,
   "metadata": {},
   "outputs": [
    {
     "name": "stdout",
     "output_type": "stream",
     "text": [
      "2 X 1 = 2\n",
      "2 X 2 = 4\n",
      "2 X 3 = 6\n",
      "2 X 4 = 8\n",
      "2 X 5 = 10\n",
      "2 X 6 = 12\n",
      "2 X 7 = 14\n",
      "2 X 8 = 16\n",
      "2 X 9 = 18\n",
      "3 X 1 = 3\n",
      "3 X 2 = 6\n",
      "3 X 3 = 9\n",
      "3 X 4 = 12\n",
      "3 X 5 = 15\n",
      "3 X 6 = 18\n",
      "3 X 7 = 21\n",
      "3 X 8 = 24\n",
      "3 X 9 = 27\n",
      "4 X 1 = 4\n",
      "4 X 2 = 8\n",
      "4 X 3 = 12\n",
      "4 X 4 = 16\n",
      "4 X 5 = 20\n",
      "4 X 6 = 24\n",
      "4 X 7 = 28\n",
      "4 X 8 = 32\n",
      "4 X 9 = 36\n",
      "5 X 1 = 5\n",
      "5 X 2 = 10\n",
      "5 X 3 = 15\n",
      "5 X 4 = 20\n",
      "5 X 5 = 25\n",
      "5 X 6 = 30\n",
      "5 X 7 = 35\n",
      "5 X 8 = 40\n",
      "5 X 9 = 45\n",
      "6 X 1 = 6\n",
      "6 X 2 = 12\n",
      "6 X 3 = 18\n",
      "6 X 4 = 24\n",
      "6 X 5 = 30\n",
      "6 X 6 = 36\n",
      "6 X 7 = 42\n",
      "6 X 8 = 48\n",
      "6 X 9 = 54\n",
      "7 X 1 = 7\n",
      "7 X 2 = 14\n",
      "7 X 3 = 21\n",
      "7 X 4 = 28\n",
      "7 X 5 = 35\n",
      "7 X 6 = 42\n",
      "7 X 7 = 49\n",
      "7 X 8 = 56\n",
      "7 X 9 = 63\n",
      "8 X 1 = 8\n",
      "8 X 2 = 16\n",
      "8 X 3 = 24\n",
      "8 X 4 = 32\n",
      "8 X 5 = 40\n",
      "8 X 6 = 48\n",
      "8 X 7 = 56\n",
      "8 X 8 = 64\n",
      "8 X 9 = 72\n",
      "9 X 1 = 9\n",
      "9 X 2 = 18\n",
      "9 X 3 = 27\n",
      "9 X 4 = 36\n",
      "9 X 5 = 45\n",
      "9 X 6 = 54\n",
      "9 X 7 = 63\n",
      "9 X 8 = 72\n",
      "9 X 9 = 81\n"
     ]
    }
   ],
   "source": [
    "# 중첩된 for문\n",
    "for m in range(2, 10):\n",
    "  for n in range(1, 10):\n",
    "    print(m, \"X\", n, \"=\", n * m)"
   ]
  }
 ],
 "metadata": {
  "kernelspec": {
   "display_name": "Python 3",
   "language": "python",
   "name": "python3"
  },
  "language_info": {
   "codemirror_mode": {
    "name": "ipython",
    "version": 3
   },
   "file_extension": ".py",
   "mimetype": "text/x-python",
   "name": "python",
   "nbconvert_exporter": "python",
   "pygments_lexer": "ipython3",
   "version": "3.13.2"
  }
 },
 "nbformat": 4,
 "nbformat_minor": 2
}
