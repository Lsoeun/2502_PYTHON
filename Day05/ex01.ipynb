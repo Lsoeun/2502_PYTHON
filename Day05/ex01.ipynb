{
 "cells": [
  {
   "cell_type": "markdown",
   "metadata": {},
   "source": [
    "## 튜플 자료형\n",
    "- 튜플은 리스트와 유사한 형태를 가지는 자료구조\n",
    "- 튜플도 자료형(데이터 타입)이자 자료 구조(데이터를 저장하고 관리하는 방식)\n",
    "- 튜플도 리스트와 마찬가지로 순서가 있는 데이터의 집합을 표현할 수 있음\n",
    "- 여러 개의 값을 순서대로 저장(다양한 자료형 저장 가능)\n",
    "- 하지만 튜플은 불변!!!!\n",
    "- 튜플은 한번 생성된 후에는 요소의 값을 변경하거나 삭제할 수 없음\n",
    "- 값이 수정되지 않으므로 데이터가 변하지 않아야 하는 경우에 유용하게 사용(데이터를 안전하게 저장할 수 있음)\n",
    "- 값의 추가, 삭제, 수정이 불가\n",
    "- 인덱스를 사용해 각 요소에 접근할 수 있으며, 슬라이싱 등을 통해 튜플의 요소 처리 가능\n",
    "\n",
    "## 리스트와 튜플의 차이\n",
    "- 리스트는 [], 튜플은 ()로 둘러싼다.\n",
    "- 변수명 = [1, 2, 3] # 리스트\n",
    "- 변수명 = (1, 2, 3) # 튜플\n",
    "- 리스트는 요소값의 생성, 삭제, 수정이 가능하지만, 튜플은 변경 불가!\n",
    "- 요소의 값을 바꿀 수 있냐 없냐의 차이"
   ]
  },
  {
   "cell_type": "code",
   "execution_count": null,
   "metadata": {},
   "outputs": [
    {
     "name": "stdout",
     "output_type": "stream",
     "text": [
      "<class 'int'>\n",
      "<class 'tuple'>\n"
     ]
    }
   ],
   "source": [
    "t1 = () # 소괄호만 사용하면 빈 튜플 생성 가능\n",
    "t2 = (1,) # 튜플에 요소가 하나만 있을 때는 뒤에 쉼표를 꼭 붙여야함\n",
    "t3 = (1) # 쉼표 없이 정의하면 튜플이 아님!\n",
    "print(type(t3)) # <class 'int'>\n",
    "\n",
    "t4 = (1, 2, 3)\n",
    "t5 = 1, 2, 3 # 튜플은 소괄호 없이 쉼표만 사용해도 생성됨, 소괄호 생략 가능하지만 빈 튜플을 만들 때는 반드시 소괄호를 포함!\n",
    "print(type(t5)) # <class 'tuple'>\n",
    "t6 = ('a', 'b', True, [1, 2, 3], ('ab', 'cd')) # 튜플 안에도 다양한 자료형 포함 가능"
   ]
  },
  {
   "cell_type": "code",
   "execution_count": null,
   "metadata": {},
   "outputs": [],
   "source": [
    "# 인덱스를 활용해 튜플의 요소에 접근\n",
    "names = ('kim', 'lee', 'park')\n",
    "print(names[0])\n",
    "print(names[1])\n",
    "print(names[2])\n",
    "print(names[-1])\n",
    "\n",
    "# 튜플의 슬라이싱\n",
    "t1 = (1, 2, 'a', 'b')\n",
    "print(t1[1:])\n",
    "print(t1[2:4])\n",
    "print(t1[:])"
   ]
  },
  {
   "cell_type": "code",
   "execution_count": null,
   "metadata": {},
   "outputs": [],
   "source": [
    "# 튜플의 요솟값을 지우거나 변경하려고 시도\n",
    "t1 = (1, 2, 3, 4)\n",
    "# del t1[0] # 요솟값 삭제 불가\n",
    "# t1[0] = 'a' # 요솟값 수정 불가\n",
    "# t1.append(5) # 요솟값 추가 불가\n",
    "\n",
    "# 튜플은 불변성이라는 특징을 가지고 있어서 요소를 변경, 추가, 삭제가 불가"
   ]
  },
  {
   "cell_type": "code",
   "execution_count": 12,
   "metadata": {},
   "outputs": [
    {
     "name": "stdout",
     "output_type": "stream",
     "text": [
      "(1, 2, 'a', 'b', 3, 4)\n",
      "(3, 4, 3, 4, 3, 4)\n",
      "4\n"
     ]
    }
   ],
   "source": [
    "# 튜플 더하기와 곱하기, 길이 구하기\n",
    "# 튜플 더하기(결합)\n",
    "t1 = (1, 2, 'a', 'b')\n",
    "t2 = (3, 4)\n",
    "t3 = t1 + t2\n",
    "print(t3)\n",
    "\n",
    "# 튜플 곱하기(반복하기)\n",
    "t4 = t2 * 3\n",
    "print(t4)\n",
    "\n",
    "# 튜플 길이 구하기\n",
    "print(len(t1))"
   ]
  },
  {
   "cell_type": "code",
   "execution_count": 17,
   "metadata": {},
   "outputs": [
    {
     "name": "stdout",
     "output_type": "stream",
     "text": [
      "2\n",
      "3\n",
      "0\n",
      "\n",
      "0\n",
      "2\n"
     ]
    }
   ],
   "source": [
    "# 튜플의 count() 메서드와 index() 메서드\n",
    "\n",
    "# count() 메서드\n",
    "t1 = ('a', 'a', 'b', 'b', 'b', 'c', 'c')\n",
    "print(t1.count('a'))\n",
    "print(t1.count('b'))\n",
    "print(t1.count('z')) # 찾고자 하는 값이 존재하지 않으면 0을 반환\n",
    "\n",
    "print() # 줄 띄우기 용도\n",
    "\n",
    "# index() 메서드\n",
    "t2 = ('a', 'a', 'b', 'b', 'b', 'c', 'c')\n",
    "print(t2.index('a'))\n",
    "print(t2.index('b'))\n",
    "# print(t2.index('z')) # 찾고자 하는 값이 존재하지 않으면 오류 발생"
   ]
  }
 ],
 "metadata": {
  "kernelspec": {
   "display_name": "Python 3",
   "language": "python",
   "name": "python3"
  },
  "language_info": {
   "codemirror_mode": {
    "name": "ipython",
    "version": 3
   },
   "file_extension": ".py",
   "mimetype": "text/x-python",
   "name": "python",
   "nbconvert_exporter": "python",
   "pygments_lexer": "ipython3",
   "version": "3.13.2"
  }
 },
 "nbformat": 4,
 "nbformat_minor": 2
}
