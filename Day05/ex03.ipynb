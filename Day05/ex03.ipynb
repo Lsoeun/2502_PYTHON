{
 "cells": [
  {
   "cell_type": "markdown",
   "metadata": {},
   "source": [
    "## 딕셔너리 관련 함수\n",
    "- keys() = key 리스트 만들기\n",
    "- values() = Value 리스트 만들기\n",
    "- items() = key, value 쌍을 얻기\n",
    "- clear() = key, value 쌍을 지우기\n",
    "- get() = key로 value 얻기\n",
    "- in = 해당 key가 딕셔너리 안에 있는지\n",
    "- not in = 해당 key가 딕셔너리에 없는지\n",
    "- sorted() = key값에 따라 정렬하기"
   ]
  },
  {
   "cell_type": "code",
   "execution_count": 3,
   "metadata": {},
   "outputs": [
    {
     "name": "stdout",
     "output_type": "stream",
     "text": [
      "dict_keys(['name', 'phone', 'birth'])\n",
      "['name', 'phone', 'birth']\n",
      "name\n",
      "phone\n",
      "birth\n"
     ]
    }
   ],
   "source": [
    "# key 리스트 만들기 - keys()\n",
    "# 딕셔너리의 모든 key값들을 모아 리스트와 유사한 형태로 반환\n",
    "# 딕셔너리명.keys()\n",
    "\n",
    "a = {'name':'pey', 'phone':'010-0000-1234', 'birth':'0304'}\n",
    "\n",
    "# keys() 메서드로 딕셔너리의 키들만 출력\n",
    "print(a.keys())\n",
    "print(list(a.keys()))\n",
    "\n",
    "# for문을 활용해 딕셔너리의 key들을 반복문으로 하나씩 출력\n",
    "for i in a.keys():\n",
    "  print(i)"
   ]
  },
  {
   "cell_type": "code",
   "execution_count": 5,
   "metadata": {},
   "outputs": [
    {
     "name": "stdout",
     "output_type": "stream",
     "text": [
      "dict_values(['pey', '010-0000-1234', '0304'])\n",
      "['pey', '010-0000-1234', '0304']\n"
     ]
    }
   ],
   "source": [
    "# Value 리스트 만들기\n",
    "# values() 딕셔너리의 value값만 모아서 리스트와 유사한 형태로 반환\n",
    "# 리스트명.values()\n",
    "a = {'name':'pey', 'phone':'010-0000-1234', 'birth':'0304'}\n",
    "\n",
    "print(a.values())\n",
    "print(list(a.values()))"
   ]
  },
  {
   "cell_type": "code",
   "execution_count": null,
   "metadata": {},
   "outputs": [],
   "source": [
    "# key, value 쌍 얻기 -> items()\n",
    "# 딕셔너리의 key값와 value값을 하나의 쌍으로 묶어서 반환\n",
    "# 딕셔너리명.items()\n",
    "\n",
    "a = {'name':'pey', 'phone':'010-0000-1234', 'birth':'0304'}\n",
    "\n",
    "print(a.items())\n",
    "print(list(a.items()))\n",
    "\n",
    "for i in a.items():\n",
    "  print(i) # 튜플 형태로 반환"
   ]
  },
  {
   "cell_type": "code",
   "execution_count": null,
   "metadata": {},
   "outputs": [
    {
     "name": "stdout",
     "output_type": "stream",
     "text": [
      "pey\n",
      "010-0000-1234\n",
      "None\n"
     ]
    }
   ],
   "source": [
    "# key로 value를 얻기 -> get() 함수\n",
    "# get(x) 함수는 x라는 key에 대응되는 value를 리턴\n",
    "# a.get('name')는 a['name']을 사용했을 때와 동일한 결과 값을 리턴\n",
    "\n",
    "a = {'name':'pey', 'phone':'010-0000-1234', 'birth':'0304'}\n",
    "\n",
    "print(a.get('name'))\n",
    "print(a.get('phone'))\n",
    "\n",
    "# 존재하지 않는 key값을 사용했을 경우\n",
    "print(a.get('nokey')) # None을 리턴\n",
    "# print(a['nokey']) # 존재하지 않는 key값 사용 시 오류 발생"
   ]
  },
  {
   "cell_type": "code",
   "execution_count": null,
   "metadata": {},
   "outputs": [],
   "source": [
    "# 해당 key가 딕셔너리 안에 있는지 조사하기 : in / not in\n",
    "\n",
    "a = {'name':'pey', 'phone':'010-0000-1234', 'birth':'0304'}\n",
    "\n",
    "print('name' in a) # name이 딕셔너리 a에 있는지 확인\n",
    "\n",
    "print('email' in a) # email이 딕셔너리 a에 있는지 확인\n",
    "\n",
    "print('email' not in a) # email이 딕셔너리 a에 없는지 확인"
   ]
  },
  {
   "cell_type": "code",
   "execution_count": 17,
   "metadata": {},
   "outputs": [
    {
     "name": "stdout",
     "output_type": "stream",
     "text": [
      "[('ian', 'C'), ('json', 'A'), ('kelly', 'B'), ('selly', 'D')]\n",
      "[('selly', 'D'), ('kelly', 'B'), ('json', 'A'), ('ian', 'C')]\n"
     ]
    }
   ],
   "source": [
    "# key값에 따라 정렬하기 -> sorted()\n",
    "# sorted() 함수는 딕셔너리를 새로운 리스트로 변환하여 반환\n",
    "# 리스트의 요소들은 키 값에 따라 오름차순 또는 내림차순으로 정렬\n",
    "# sorted(딕셔너리명.items())\n",
    "# sorted() 함수를 사용하여 딕셔너리를 정렬하더라도 원본 딕셔너리는 변경되지 않음!\n",
    "\n",
    "grade = {\"kelly\":\"B\", \"json\":\"A\", \"ian\":\"C\", \"selly\":\"D\"}\n",
    "\n",
    "# 오름차순 정렬\n",
    "print(sorted(grade.items()))\n",
    "\n",
    "# 내림차순 정렬\n",
    "print(sorted(grade.items(), reverse=True))"
   ]
  }
 ],
 "metadata": {
  "kernelspec": {
   "display_name": "Python 3",
   "language": "python",
   "name": "python3"
  },
  "language_info": {
   "codemirror_mode": {
    "name": "ipython",
    "version": 3
   },
   "file_extension": ".py",
   "mimetype": "text/x-python",
   "name": "python",
   "nbconvert_exporter": "python",
   "pygments_lexer": "ipython3",
   "version": "3.13.2"
  }
 },
 "nbformat": 4,
 "nbformat_minor": 2
}
