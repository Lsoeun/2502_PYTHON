{
 "cells": [
  {
   "cell_type": "markdown",
   "metadata": {},
   "source": [
    "# 표준 모듈\n",
    "- 파이썬을 설치하면 기본적으로 제공되는 모듈로\n",
    "- 특정 기능을 수행하는 코드가 포함된 파일\n",
    "- 파이썬에서 이러한 모듈들을 임포트하여 프로그램에서 쉽게 활용할 수 있음\n",
    "- 표준 모듈은 다양한 기능을 제공하며, 별도로 설치하지 않고도 파이썬 코드에서 바로 사용할 수 있음"
   ]
  },
  {
   "cell_type": "code",
   "execution_count": 1,
   "metadata": {},
   "outputs": [
    {
     "name": "stdout",
     "output_type": "stream",
     "text": [
      "c:\\Users\\SoJung\\2412_PYTHON\\Day13\n"
     ]
    }
   ],
   "source": [
    "import os\n",
    "print(os.getcwd())  # 현재 작업 디렉토리 출력"
   ]
  },
  {
   "cell_type": "code",
   "execution_count": 2,
   "metadata": {},
   "outputs": [
    {
     "name": "stdout",
     "output_type": "stream",
     "text": [
      "3.13.0 (tags/v3.13.0:60403a5, Oct  7 2024, 09:38:07) [MSC v.1941 64 bit (AMD64)]\n"
     ]
    }
   ],
   "source": [
    "import sys\n",
    "print(sys.version)  # 파이썬 버전 출력"
   ]
  },
  {
   "cell_type": "code",
   "execution_count": 15,
   "metadata": {},
   "outputs": [
    {
     "name": "stdout",
     "output_type": "stream",
     "text": [
      "4.0\n",
      "7.0\n",
      "1024.0\n"
     ]
    }
   ],
   "source": [
    "import math\n",
    "print(math.sqrt(16))  # 16의 제곱근 출력\n",
    "print(math.sqrt(49))  # 49의 제곱근 출력\n",
    "\n",
    "# 거듭 제곱 구하기\n",
    "result = math.pow(2, 10)\n",
    "print(result)"
   ]
  },
  {
   "cell_type": "code",
   "execution_count": 12,
   "metadata": {},
   "outputs": [
    {
     "name": "stdout",
     "output_type": "stream",
     "text": [
      "입력하신 원의 둘레는 628.3185307179587 입니다.\n"
     ]
    }
   ],
   "source": [
    "import math\n",
    "\n",
    "# 원의 둘레를 계산하는 함수\n",
    "def calculate_circle(radius):\n",
    "    # 원의 둘레 계산: 2 * π * 반지름\n",
    "    circumference = 2 * math.pi * radius\n",
    "    return circumference  # 계산된 원의 둘레 반환\n",
    "\n",
    "# 사용자로부터 원의 반지름 입력받기\n",
    "radius = float(input(\"원의 반지름을 입력하세요: \"))\n",
    "\n",
    "# 함수를 호출하여 원의 둘레를 계산\n",
    "circumference = calculate_circle(radius)\n",
    "\n",
    "# 계산된 원의 둘레를 출력\n",
    "print(\"입력하신 원의 둘레는\", circumference, \"입니다.\")"
   ]
  },
  {
   "cell_type": "code",
   "execution_count": 4,
   "metadata": {},
   "outputs": [
    {
     "name": "stdout",
     "output_type": "stream",
     "text": [
      "2025-01-12 21:14:48.628823\n"
     ]
    }
   ],
   "source": [
    "import datetime\n",
    "now = datetime.datetime.now()\n",
    "print(now)  # 현재 날짜와 시간 출력"
   ]
  },
  {
   "cell_type": "code",
   "execution_count": 28,
   "metadata": {},
   "outputs": [
    {
     "name": "stdout",
     "output_type": "stream",
     "text": [
      "2025-01-12 21:40:29.518474\n",
      "오늘 날짜는 2025-01-12 입니다.\n",
      "지금은 2025 년 입니다.\n",
      "2000-01-01\n",
      "12:30:40\n"
     ]
    }
   ],
   "source": [
    "import datetime\n",
    "\n",
    "# 현재 날짜 및 시간 출력\n",
    "present = datetime.datetime.now()\n",
    "print(present)\n",
    "\n",
    "# 날짜만 떼어 사용\n",
    "print(\"오늘 날짜는\", present.date(), \"입니다.\")\n",
    "\n",
    "# 년도를 떼어 사용\n",
    "print(\"지금은\", present.year, \"년 입니다.\")\n",
    "\n",
    "# 매개변수로 받은 숫자를 YYYY-mm-dd 패턴에 맞게 출력\n",
    "birthday = datetime.date(2000, 1, 1)\n",
    "print(birthday)\n",
    "\n",
    "# 매개변수로 받은 숫자를 HH:MM:SS 패턴에 맞게 출력\n",
    "lunchtime = datetime.time(12, 30, 40)\n",
    "print(lunchtime)"
   ]
  },
  {
   "cell_type": "code",
   "execution_count": 29,
   "metadata": {},
   "outputs": [
    {
     "name": "stdout",
     "output_type": "stream",
     "text": [
      "비밀번호 설정이 완료되었습니다.\n",
      "비밀번호는 90일 후 2025-04-12 에 만료됩니다.\n"
     ]
    }
   ],
   "source": [
    "# 날짜와 시간 정보를 기반으로 일수를 계산하거나 기간을 설정하는 경우에도 활용\n",
    "# datetime 모듈의 timedelta() 함수 사용\n",
    "# 다양한 단위로 날짜와 시간 간의 간격을 계산하거나 특정 날짜와 시간을 조작하는데 사용\n",
    "import datetime\n",
    "\n",
    "password = input(\"설정할 비밀번호를 입력하세요: \")\n",
    "\n",
    "# now() 메서드로 시스템의 현재 날짜와 시간 가져오기\n",
    "today = datetime.datetime.now()\n",
    "\n",
    "# 현재 날짜와 90일 후 날짜를 더하여 비밀번호 만료 예상일 계산\n",
    "password_expired_day = today + datetime.timedelta(days=90)\n",
    "\n",
    "print(\"비밀번호 설정이 완료되었습니다.\")\n",
    "print(\"비밀번호는 90일 후\", password_expired_day.date(), \"에 만료됩니다.\")"
   ]
  },
  {
   "cell_type": "code",
   "execution_count": 6,
   "metadata": {},
   "outputs": [
    {
     "name": "stdout",
     "output_type": "stream",
     "text": [
      "6\n"
     ]
    }
   ],
   "source": [
    "import random\n",
    "print(random.randint(1, 10))  # 1에서 10 사이의 랜덤 정수 출력"
   ]
  },
  {
   "cell_type": "code",
   "execution_count": 17,
   "metadata": {},
   "outputs": [
    {
     "name": "stdout",
     "output_type": "stream",
     "text": [
      "3\n",
      "9\n",
      "5\n"
     ]
    }
   ],
   "source": [
    "import random\n",
    "\n",
    "# 두 인수 사이의 정수를 임의로 생성하여 반환\n",
    "print(random.randint(1, 45)) # 1 이상 45 이하의 정수 랜덤으로 반환\n",
    "\n",
    "# 두 인수 사의 특정 조건을 가지는 정수 중 임의의 수를 반환\n",
    "print(random.randrange(10)) # 0 이상 10 미만의 정수 랜덤으로 반환\n",
    "print(random.randrange(1, 20, 2)) # 1 이상 20 미만의 정수 중 홀수를 랜덤으로 반환"
   ]
  },
  {
   "cell_type": "code",
   "execution_count": 26,
   "metadata": {},
   "outputs": [
    {
     "name": "stdout",
     "output_type": "stream",
     "text": [
      "로또 번호:  [39, 35, 8, 11, 42, 29]\n"
     ]
    }
   ],
   "source": [
    "# random.sample(시퀀스 자료형, 원하는 개수)\n",
    "# 전달되 시퀀스 자료형 중에서 지정된 개수의 요소를 임의로 반환\n",
    "# 반환 결과는 중복이 없는 리스트 자료형\n",
    "\n",
    "# sample() 함수 사용하여 로또 게임 만들기\n",
    "import random\n",
    "\n",
    "def lotto():\n",
    "  # 1부터 45 사이의 숫자 중 6개를 임의로 선택하여 리스트에 저장\n",
    "  lotto_num = random.sample(range(1, 46), 6)\n",
    "  return lotto_num\n",
    "\n",
    "lotto_numbers = lotto()\n",
    "print(\"로또 번호: \", lotto_numbers)"
   ]
  }
 ],
 "metadata": {
  "kernelspec": {
   "display_name": "Python 3",
   "language": "python",
   "name": "python3"
  },
  "language_info": {
   "codemirror_mode": {
    "name": "ipython",
    "version": 3
   },
   "file_extension": ".py",
   "mimetype": "text/x-python",
   "name": "python",
   "nbconvert_exporter": "python",
   "pygments_lexer": "ipython3",
   "version": "3.13.0"
  }
 },
 "nbformat": 4,
 "nbformat_minor": 2
}
