{
 "cells": [
  {
   "cell_type": "markdown",
   "metadata": {},
   "source": [
    "# 외부 라이브러리\n",
    "- 파이썬 설치 시 기본으로 설치되는 라이브러리는 ‘파이썬 표준 라이브러리’\n",
    "- 파이썬 표준 라이브러리는 파이썬이 기본적으로 제공하는 모듈과 패키지의 집합\n",
    "- 이 라이브러리는 파이썬을 설치하면 자동으로 함께 설치되며, 추가 설치 없이 다양한 작업을 수행할 수 있음\n",
    "- 외부 라이브러리는 파이썬 표준 라이브러리에 포함되지 않은 라이브러리로, 특정 기능을 구현하기 위해 별도로 설치해야 하는 코드 모음\n",
    "- 외부 라이브러리는 파이썬 표준 라이브러리가 아니므로, 사용하려면 pip 도구를 이용하여 설치가 필요"
   ]
  },
  {
   "cell_type": "code",
   "execution_count": 26,
   "metadata": {},
   "outputs": [
    {
     "data": {
      "text/plain": [
       "'Kelly Fitzpatrick'"
      ]
     },
     "execution_count": 26,
     "metadata": {},
     "output_type": "execute_result"
    }
   ],
   "source": [
    "from faker import Faker\n",
    "fake = Faker()\n",
    "fake.name()"
   ]
  },
  {
   "cell_type": "code",
   "execution_count": 6,
   "metadata": {},
   "outputs": [
    {
     "data": {
      "text/plain": [
       "'김지혜'"
      ]
     },
     "execution_count": 6,
     "metadata": {},
     "output_type": "execute_result"
    }
   ],
   "source": [
    "from faker import Faker\n",
    "fake = Faker('ko-KR')\n",
    "fake.name()"
   ]
  },
  {
   "cell_type": "code",
   "execution_count": 7,
   "metadata": {},
   "outputs": [
    {
     "data": {
      "text/plain": [
       "'충청남도 시흥시 반포대거리 111'"
      ]
     },
     "execution_count": 7,
     "metadata": {},
     "output_type": "execute_result"
    }
   ],
   "source": [
    "fake.address()"
   ]
  },
  {
   "cell_type": "code",
   "execution_count": 10,
   "metadata": {},
   "outputs": [
    {
     "name": "stdout",
     "output_type": "stream",
     "text": [
      "[('문병철', '부산광역시 노원구 논현2로 819 (준호김김읍)'), ('김준혁', '서울특별시 서대문구 양재천가 860'), ('박도윤', '인천광역시 은평구 학동98길 838-92'), ('김민석', '대전광역시 중랑구 삼성75로 453 (하은강이면)'), ('구옥자', '경상남도 예산군 학동로 756'), ('이상철', '부산광역시 성북구 강남대8로 754-9 (준서박면)'), ('김숙자', '대구광역시 영등포구 역삼로 640'), ('서아름', '대전광역시 서구 서초중앙길 61-82 (지아배홍마을)'), ('김영숙', '세종특별자치시 서구 반포대길 241 (지연오마을)'), ('김수진', '인천광역시 북구 영동대가 980-86 (미경최김마을)'), ('이상철', '인천광역시 서대문구 서초대629길 757-5 (현숙김이마을)'), ('박영철', '대전광역시 중구 압구정길 394 (영식이이마을)'), ('이영진', '경상남도 아산시 학동85가 791-3 (승민하강리)'), ('김지은', '광주광역시 북구 테헤란574가 184-43'), ('김성훈', '대구광역시 양천구 반포대3가 502-46 (영환김마을)'), ('유정자', '제주특별자치도 군포시 역삼거리 118-24'), ('엄지우', '서울특별시 북구 테헤란로 504 (서윤고윤동)'), ('이순옥', '인천광역시 북구 가락거리 685'), ('김지영', '제주특별자치도 남양주시 언주5거리 48-24 (영일남조면)'), ('김건우', '인천광역시 강남구 선릉로 572 (지연홍읍)'), ('김재현', '세종특별자치시 강북구 테헤란2길 630-42'), ('황예지', '경상북도 화천군 테헤란거리 923'), ('강승민', '전라북도 파주시 오금길 594-81'), ('류경자', '부산광역시 동대문구 선릉로 지하312'), ('이정남', '경기도 김포시 학동로 916-46'), ('최영환', '세종특별자치시 관악구 논현거리 360 (우진이김읍)'), ('최서윤', '서울특별시 서구 반포대7길 829-91 (영수오마을)'), ('한정호', '충청남도 보령시 역삼로 86-81 (준영이박읍)'), ('황시우', '강원도 의왕시 압구정길 95'), ('양중수', '부산광역시 종로구 삼성40길 294-64')]\n"
     ]
    }
   ],
   "source": [
    "# 이름과 주소를 쌍으로 하는 30건의 테스트 데이터\n",
    "test_data = [(fake.name(), fake.address())for i in range(30)]\n",
    "print(test_data)"
   ]
  },
  {
   "cell_type": "markdown",
   "metadata": {},
   "source": [
    "[('문병철', '부산광역시 노원구 논현2로 819 (준호김김읍)'), ('김준혁', '서울특별시 서대문구 양재천가 860'), ('박도윤', '인천광역시 은평구 학동98길 838-92'), ('김민석', '대전광역시 중랑구 삼성75로 453 (하은강이면)'), ('구옥자', '경상남도 예산군 학동로 756'), ('이상철', '부산광역시 성북구 강남대8로 754-9 (준서박면)'), ('김숙자', '대구광역시 영등포구 역삼로 640'), ('서아름', '대전광역시 서구 서초중앙길 61-82 (지아배홍마을)'), ('김영숙', '세종특별자치시 서구 반포대길 241 (지연오마을)'), ('김수진', '인천광역시 북구 영동대가 980-86 (미경최김마을)'), ('이상철', '인천광역시 서대문구 서초대629길 757-5 (현숙김이마을)'), ('박영철', '대전광역시 중구 압구정길 394 (영식이이마을)'), ('이영진', '경상남도 아산시 학동85가 791-3 (승민하강리)'), ('김지은', '광주광역시 북구 테헤란574가 184-43'), ('김성훈', '대구광역시 양천구 반포대3가 502-46 (영환김마을)'), ('유정자', '제주특별자치도 군포시 역삼거리 118-24'), ('엄지우', '서울특별시 북구 테헤란로 504 (서윤고윤동)'), ('이순옥', '인천광역시 북구 가락거리 685'), ('김지영', '제주특별자치도 남양주시 언주5거리 48-24 (영일남조면)'), ('김건우', '인천광역시 강남구 선릉로 572 (지연홍읍)'), ('김재현', '세종특별자치시 강북구 테헤란2길 630-42'), ('황예지', '경상북도 화천군 테헤란거리 923'), ('강승민', '전라북도 파주시 오금길 594-81'), ('류경자', '부산광역시 동대문구 선릉로 지하312'), ('이정남', '경기도 김포시 학동로 916-46'), ('최영환', '세종특별자치시 관악구 논현거리 360 (우진이김읍)'), ('최서윤', '서울특별시 서구 반포대7길 829-91 (영수오마을)'), ('한정호', '충청남도 보령시 역삼로 86-81 (준영이박읍)'), ('황시우', '강원도 의왕시 압구정길 95'), ('양중수', '부산광역시 종로구 삼성40길 294-64')]"
   ]
  },
  {
   "cell_type": "code",
   "execution_count": 11,
   "metadata": {},
   "outputs": [
    {
     "data": {
      "text/plain": [
       "'21730'"
      ]
     },
     "execution_count": 11,
     "metadata": {},
     "output_type": "execute_result"
    }
   ],
   "source": [
    "fake.postcode()"
   ]
  },
  {
   "cell_type": "code",
   "execution_count": 12,
   "metadata": {},
   "outputs": [
    {
     "data": {
      "text/plain": [
       "'리히텐슈타인'"
      ]
     },
     "execution_count": 12,
     "metadata": {},
     "output_type": "execute_result"
    }
   ],
   "source": [
    "fake.country()"
   ]
  },
  {
   "cell_type": "code",
   "execution_count": 13,
   "metadata": {},
   "outputs": [
    {
     "data": {
      "text/plain": [
       "'(주) 김'"
      ]
     },
     "execution_count": 13,
     "metadata": {},
     "output_type": "execute_result"
    }
   ],
   "source": [
    "fake.company()"
   ]
  },
  {
   "cell_type": "code",
   "execution_count": 16,
   "metadata": {},
   "outputs": [
    {
     "name": "stdout",
     "output_type": "stream",
     "text": [
      "['사회복지관련 관리자', '수의사', '대학 시간강사', '기타 사무원', '기타 스포츠 및 레크레이션 관련 전문가', '종이제품 생산기 조작원', '펄프 및 종이 제조장치 조작원', '유리제조 및 가공기 조작원', '통신서비스판매원', '제품 및 광고 영업원']\n"
     ]
    }
   ],
   "source": [
    "job_data = [(fake.job())for i in range(10)]\n",
    "print(job_data)"
   ]
  },
  {
   "cell_type": "code",
   "execution_count": 18,
   "metadata": {},
   "outputs": [
    {
     "name": "stdout",
     "output_type": "stream",
     "text": [
      "[('064-792-0113', 'junho83@example.com'), ('016-734-6040', 'jeonghyiha@example.com'), ('032-980-5305', 'songjeongsig@example.org'), ('053-397-4718', 'jeongsungim@example.com'), ('070-0509-5888', 'seongminyang@example.net'), ('053-262-1521', 'mi@example.net'), ('064-722-0470', 'yeonghoyang@example.net'), ('055-231-7205', 'ogjagim@example.com'), ('042-939-1332', 'lcoe@example.net'), ('051-532-6747', 'junseobag@example.com')]\n"
     ]
    }
   ],
   "source": [
    "data = [(fake.phone_number(), fake.email())for i in range(10)]\n",
    "print(data)"
   ]
  },
  {
   "cell_type": "code",
   "execution_count": 25,
   "metadata": {},
   "outputs": [
    {
     "data": {
      "text/plain": [
       "'geonu64'"
      ]
     },
     "execution_count": 25,
     "metadata": {},
     "output_type": "execute_result"
    }
   ],
   "source": [
    "fake.user_name()"
   ]
  },
  {
   "cell_type": "markdown",
   "metadata": {},
   "source": [
    "# 파이썬에서 자주 사용하는 외부 라이브러리\n",
    "\n",
    "pandas: 데이터 프레임 형태로 데이터를 처리하고 분석할 수 있는 라이브러리\n",
    "numpy: 고성능 배열 연산 및 수학적 계산을 위한 라이브러리\n",
    "matplotlib: 데이터를 시각화하여 그래프와 차트를 그릴 수 있는 라이브러리\n",
    "seaborn: matplotlib를 기반으로 더 간편하게 고급 시각화를 제공하는 라이브러리\n",
    "scikit-learn: 머신러닝 모델 개발과 평가를 위한 라이브러리, 다양한 알고리즘을 제공\n",
    "tensorflow / pytorch: 딥러닝 모델 설계와 학습을 지원하는 고급 딥러닝 라이브러리\n",
    "requests: HTTP 요청을 쉽게 처리할 수 있는 라이브러리, 웹 데이터 수집에 자주 사용\n",
    "BeautifulSoup: HTML과 XML 데이터를 파싱하여 웹 크롤링 작업을 도와주는 라이브러리\n",
    "Flask / Django: 웹 애플리케이션과 API를 개발할 수 있는 파이썬 웹 프레임워크\n",
    "sqlite3: 간단한 SQL 데이터베이스를 활용할 수 있도록 도와주는 표준 라이브러리"
   ]
  }
 ],
 "metadata": {
  "kernelspec": {
   "display_name": "Python 3",
   "language": "python",
   "name": "python3"
  },
  "language_info": {
   "codemirror_mode": {
    "name": "ipython",
    "version": 3
   },
   "file_extension": ".py",
   "mimetype": "text/x-python",
   "name": "python",
   "nbconvert_exporter": "python",
   "pygments_lexer": "ipython3",
   "version": "3.13.0"
  }
 },
 "nbformat": 4,
 "nbformat_minor": 2
}
