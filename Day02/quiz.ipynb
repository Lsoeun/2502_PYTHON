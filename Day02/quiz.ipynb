{
 "cells": [
  {
   "cell_type": "code",
   "execution_count": 1,
   "metadata": {},
   "outputs": [
    {
     "name": "stdout",
     "output_type": "stream",
     "text": [
      "P\n",
      "Y\n",
      "u\n"
     ]
    }
   ],
   "source": [
    "# 마이너스 인덱스 퀴즈\n",
    "# 마이너스 인덱스를 활용해 P, Y , u 추출하기\n",
    "\n",
    "a = \"Life is too short, You need Python\"\n",
    "\n",
    "print(a[-6])\n",
    "print(a[-15])\n",
    "print(a[-13])\n"
   ]
  },
  {
   "cell_type": "code",
   "execution_count": 7,
   "metadata": {},
   "outputs": [
    {
     "name": "stdout",
     "output_type": "stream",
     "text": [
      "Life\n",
      "short\n",
      "Python\n",
      "Python\n"
     ]
    }
   ],
   "source": [
    "# 문자열 슬라이싱 퀴즈\n",
    "# Life, short, Python 추출하기\n",
    "\n",
    "a = \"Life is too short, You need Python\"\n",
    "print(a[0:4])\n",
    "print(a[12:17])\n",
    "print(a[28:100])\n",
    "print(a[-6:])"
   ]
  }
 ],
 "metadata": {
  "kernelspec": {
   "display_name": "Python 3",
   "language": "python",
   "name": "python3"
  },
  "language_info": {
   "codemirror_mode": {
    "name": "ipython",
    "version": 3
   },
   "file_extension": ".py",
   "mimetype": "text/x-python",
   "name": "python",
   "nbconvert_exporter": "python",
   "pygments_lexer": "ipython3",
   "version": "3.13.1"
  }
 },
 "nbformat": 4,
 "nbformat_minor": 2
}
