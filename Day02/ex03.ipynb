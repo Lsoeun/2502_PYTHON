{
 "cells": [
  {
   "cell_type": "markdown",
   "metadata": {},
   "source": [
    "## 문자열 관련 유용한 함수\n",
    "- len() -> 문자열의 길이 구하기\n",
    "- upper() -> 문자열을 대문자로 변환\n",
    "- lower() -> 문자열을 소문자로 변환\n",
    "- strip() -> 문자열의 양쪽 공백 제거"
   ]
  },
  {
   "cell_type": "code",
   "execution_count": 1,
   "metadata": {},
   "outputs": [
    {
     "name": "stdout",
     "output_type": "stream",
     "text": [
      "12\n"
     ]
    }
   ],
   "source": [
    "# len() -> 문자열 길이 구하기\n",
    "text = \"Hello Python\"\n",
    "length = len(text)\n",
    "print(length)"
   ]
  },
  {
   "cell_type": "code",
   "execution_count": 2,
   "metadata": {},
   "outputs": [
    {
     "name": "stdout",
     "output_type": "stream",
     "text": [
      "HELLO PYTHON\n"
     ]
    }
   ],
   "source": [
    "# upper() -> 문자열을 대문자로 변환\n",
    "text = 'hello python'\n",
    "uppercase = text.upper()\n",
    "print(uppercase)"
   ]
  },
  {
   "cell_type": "code",
   "execution_count": 3,
   "metadata": {},
   "outputs": [
    {
     "name": "stdout",
     "output_type": "stream",
     "text": [
      "hello\n"
     ]
    }
   ],
   "source": [
    "# lower() -> 문자열을 소문자로 변환\n",
    "text = 'HELLO'\n",
    "print(text.lower())"
   ]
  },
  {
   "cell_type": "code",
   "execution_count": 5,
   "metadata": {},
   "outputs": [
    {
     "name": "stdout",
     "output_type": "stream",
     "text": [
      "hello python\n",
      "     hello python      \n"
     ]
    }
   ],
   "source": [
    "# strip() -> 문자열 양쪽 공백 제거\n",
    "text = \"     hello python      \"\n",
    "strip = text.strip()\n",
    "print(strip)\n",
    "print(text)"
   ]
  }
 ],
 "metadata": {
  "kernelspec": {
   "display_name": "Python 3",
   "language": "python",
   "name": "python3"
  },
  "language_info": {
   "codemirror_mode": {
    "name": "ipython",
    "version": 3
   },
   "file_extension": ".py",
   "mimetype": "text/x-python",
   "name": "python",
   "nbconvert_exporter": "python",
   "pygments_lexer": "ipython3",
   "version": "3.13.2"
  }
 },
 "nbformat": 4,
 "nbformat_minor": 2
}
