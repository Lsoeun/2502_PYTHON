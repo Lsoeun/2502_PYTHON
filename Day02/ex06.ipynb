{
 "cells": [
  {
   "cell_type": "markdown",
   "metadata": {},
   "source": [
    "## 불 자료형\n",
    "- 참과 거짓을 나타내는 자료형\n",
    "- True : 참을 의미\n",
    "- False : 거짓을 의미\n",
    "- 첫 문자를 항상 대문자로 작성!!"
   ]
  },
  {
   "cell_type": "code",
   "execution_count": null,
   "metadata": {},
   "outputs": [
    {
     "name": "stdout",
     "output_type": "stream",
     "text": [
      "<class 'bool'>\n",
      "<class 'str'>\n"
     ]
    }
   ],
   "source": [
    "a = True\n",
    "b = False\n",
    "c = \"True\" # 문자열\n",
    "\n",
    "print(type(a))\n",
    "print(type(c))"
   ]
  },
  {
   "cell_type": "code",
   "execution_count": 4,
   "metadata": {},
   "outputs": [
    {
     "name": "stdout",
     "output_type": "stream",
     "text": [
      "True\n",
      "True\n",
      "False\n"
     ]
    }
   ],
   "source": [
    "# 조건식의 리턴값으로 사용되는 불 자료형\n",
    "print(1 == 1)\n",
    "print(2 > 1)\n",
    "print(2 < 1)"
   ]
  },
  {
   "cell_type": "code",
   "execution_count": 5,
   "metadata": {},
   "outputs": [
    {
     "name": "stdout",
     "output_type": "stream",
     "text": [
      "True\n"
     ]
    }
   ],
   "source": [
    "x = 100\n",
    "y = 99\n",
    "\n",
    "result = x > y\n",
    "print(result)"
   ]
  },
  {
   "cell_type": "code",
   "execution_count": null,
   "metadata": {},
   "outputs": [
    {
     "name": "stdout",
     "output_type": "stream",
     "text": [
      "True\n",
      "False\n",
      "True\n",
      "False\n",
      "False\n",
      "True\n",
      "True\n",
      "True\n"
     ]
    }
   ],
   "source": [
    "# 다른 자료형을 불 자료형으로 변환 할 때 -> bool()\n",
    "print(bool('python')) # 비어 있지 않은 문자열을 불 자료형으로 바꾸면 True\n",
    "print(bool('')) # 비어있는 문자열을 불 자료형으로 바꾸면 False\n",
    "\n",
    "print(bool([1, 2, 3])) # 리스트의 요소가 있으면 불 자료형으로 바꾸면 True\n",
    "print(bool([])) # 비어 있는 리스트를 불 자료형으로 바꾸면 False\n",
    "\n",
    "print(bool(0)) # 0을 불 자료형으로 바꾸면 False\n",
    "print(bool(10)) # 0이 아닌 숫자를 불 자료형으로 바꾸면 True\n",
    "print(bool(-1)) # 마이너스 숫자도 불 자료형으로 바꾸면 True\n",
    "print(bool(3.14)) # True"
   ]
  }
 ],
 "metadata": {
  "kernelspec": {
   "display_name": "Python 3",
   "language": "python",
   "name": "python3"
  },
  "language_info": {
   "codemirror_mode": {
    "name": "ipython",
    "version": 3
   },
   "file_extension": ".py",
   "mimetype": "text/x-python",
   "name": "python",
   "nbconvert_exporter": "python",
   "pygments_lexer": "ipython3",
   "version": "3.13.2"
  }
 },
 "nbformat": 4,
 "nbformat_minor": 2
}
