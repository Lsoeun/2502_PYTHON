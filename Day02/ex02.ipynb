{
 "cells": [
  {
   "cell_type": "markdown",
   "metadata": {},
   "source": [
    "# 문자열 자료형\n",
    "- 문자열? 연속된 문자들의 나열\n",
    "- 문자열 자료형은 텍스트를 표현하는데 사용"
   ]
  },
  {
   "cell_type": "code",
   "execution_count": null,
   "metadata": {},
   "outputs": [],
   "source": [
    "# 큰따옴표로 양쪽 둘러싸기\n",
    "\"Hello World\"\n",
    "name = \"Kim\"\n",
    "name = \"Lee\""
   ]
  },
  {
   "cell_type": "code",
   "execution_count": null,
   "metadata": {},
   "outputs": [],
   "source": [
    "# 작은 따옴표로 양쪽 둘러싸기\n",
    "'Python is fun'\n",
    "name = 'Kim'\n",
    "name = 'Lee'"
   ]
  },
  {
   "cell_type": "code",
   "execution_count": null,
   "metadata": {},
   "outputs": [],
   "source": [
    "# 삼중 따옴표로 둘러싸기\n",
    "name = \"\"\"Kim\"\"\"\n",
    "name = '''Lee'''"
   ]
  },
  {
   "cell_type": "markdown",
   "metadata": {},
   "source": [
    "# Python에서 삼중 따옴표(''' 또는 \"\"\")는 두 가지 용도로 사용\n",
    "\n",
    "1. 여러 줄 문자열\n",
    "2. 여러 줄 주석"
   ]
  },
  {
   "cell_type": "code",
   "execution_count": null,
   "metadata": {},
   "outputs": [],
   "source": [
    "# 여러 줄 문자열로 사용\n",
    "text = \"\"\"이것은\n",
    "여러 줄로 이루어진\n",
    "문자열입니다.\"\"\"\n",
    "print(text)"
   ]
  },
  {
   "cell_type": "code",
   "execution_count": null,
   "metadata": {},
   "outputs": [],
   "source": [
    "# 여러 줄 주석으로 사용\n",
    "\"\"\"\n",
    "이 코드는\n",
    "여러 줄 주석처럼\n",
    "사용됩니다.\n",
    "\"\"\"\n",
    "print(\"Hello World\")"
   ]
  },
  {
   "cell_type": "markdown",
   "metadata": {},
   "source": [
    "# 문자열 안에 작은 따옴표나 큰 따옴표를 포함시킬 경우\n",
    "- 문자열에 이미 특정 따옴표가 포함되어 있다면, 다른 종류의 따옴표 사용하여 문자열을 감싼다!"
   ]
  },
  {
   "cell_type": "code",
   "execution_count": null,
   "metadata": {},
   "outputs": [],
   "source": [
    "# 문자열에 작은 따옴표 포함하기\n",
    "food = \"Python's favorite food\"\n",
    "print(food)"
   ]
  },
  {
   "cell_type": "code",
   "execution_count": null,
   "metadata": {},
   "outputs": [],
   "source": [
    "# 문자열에 큰 따옴표 포함하기\n",
    "say = '\"Python is very easy.\" he says.'\n",
    "print(say)"
   ]
  },
  {
   "cell_type": "code",
   "execution_count": null,
   "metadata": {},
   "outputs": [],
   "source": [
    "# 역슬래시를 사용해서 작은따옴표와 큰따옴표를 문자열에 포함하기\n",
    "food = 'Python\\'s favorite food'\n",
    "say = \"\\\"Python is very easy.\\\" he says.\"\n",
    "\n",
    "# 역슬래시를 작은따옴표나 큰따옴표 앞에 삽입하면 역슬래시 뒤의 작은따옴표나 큰따옴표는 문자열을 둘러싸는 기호의 의미로 인식되지 않음"
   ]
  },
  {
   "cell_type": "markdown",
   "metadata": {
    "vscode": {
     "languageId": "bat"
    }
   },
   "source": [
    "# 문자열 연산하기\n",
    "- 파이썬은 문자열을 조작하고 변형할 수 있는 다양한 연산을 제공\n",
    "- 문자열을 합치거나 반복하며 특정 부분을 추출하거나 검색이 가능"
   ]
  },
  {
   "cell_type": "code",
   "execution_count": null,
   "metadata": {},
   "outputs": [],
   "source": [
    "# 문자열 더해서 연결하기(문자열 합치기)\n",
    "head = \"Python\"\n",
    "tail = \" is fun!\"\n",
    "print(head + tail)\n",
    "\n",
    "first_name = \"gildong\"\n",
    "last_name = \"Hong\"\n",
    "print(first_name + last_name)"
   ]
  },
  {
   "cell_type": "code",
   "execution_count": null,
   "metadata": {},
   "outputs": [],
   "source": [
    "# 문자열 반복하기(문자열 곱하기)\n",
    "a = \"python\"\n",
    "print(a * 2)\n",
    "\n",
    "hello = \"안녕하세요\"\n",
    "print(hello * 3)"
   ]
  },
  {
   "cell_type": "code",
   "execution_count": null,
   "metadata": {},
   "outputs": [],
   "source": [
    "# 문자열 길이 구하기\n",
    "# 문자열의 길이는 len() 함수를 사용해서 구함\n",
    "a = \"Life is too short\"\n",
    "print(len(a))"
   ]
  },
  {
   "cell_type": "markdown",
   "metadata": {},
   "source": [
    "# 문자열 인덱싱과 슬라이싱\n",
    "- 인덱싱(indexing)이란 무엇인가를 ‘가리킨다’, 슬라이싱(slicing)은 무엇인가를 ‘잘라 낸다’라는 의미"
   ]
  },
  {
   "cell_type": "markdown",
   "metadata": {},
   "source": [
    "# 문자열 인덱스\n",
    "- 문자열의 각 문자는 고유한 번호를 가짐\n",
    "- 이를 인덱스(index) 라고 함\n",
    "- 인덱스는 항상 0부터 시작\n",
    "\n",
    "# 문자열 인덱싱\n",
    "- 문자열을 담은 변수명[원하는 인덱스] "
   ]
  },
  {
   "cell_type": "code",
   "execution_count": null,
   "metadata": {},
   "outputs": [],
   "source": [
    "s = \"hello\" # 0 1 2 3 4 의 인덱스를 가짐\n",
    "# 인덱스 값을 사용해 문자열에서 특정 위치의 문자를 추출할 수 있음"
   ]
  },
  {
   "cell_type": "code",
   "execution_count": null,
   "metadata": {},
   "outputs": [],
   "source": [
    "# 문자열 인덱싱\n",
    "a = \"Life is too short, You need Python\"\n",
    "print(a[3])"
   ]
  },
  {
   "cell_type": "code",
   "execution_count": null,
   "metadata": {},
   "outputs": [],
   "source": [
    "# 문자열 인덱싱 퀴즈\n",
    "a = \"Life is too short, You need Python\"\n",
    "# 여기서 L과 s, Y를 추출해보세요\n",
    "\n",
    "print(a[0])\n",
    "print(a[6])\n",
    "print(a[19])"
   ]
  },
  {
   "cell_type": "code",
   "execution_count": null,
   "metadata": {},
   "outputs": [],
   "source": [
    "# 마이너스 인덱스\n",
    "# 마이너스 인덱스는 문자열 뒤에서부터 번호를 부여하는 방식\n",
    "# 뒤에서 첫번째 문자는 -1로 시작\n",
    "\n",
    "a = \"Life is too short, You need Python\"\n",
    "print(a[-0]) # 0과 -0은 똑같기 때문에 의미 없음\n",
    "print(a[-1])\n",
    "print(a[-2])\n",
    "print(a[-5])"
   ]
  },
  {
   "cell_type": "code",
   "execution_count": null,
   "metadata": {},
   "outputs": [],
   "source": [
    "# 마이너스 인덱스 퀴즈\n",
    "# 마이너스 인덱스를 활용해 P, Y , u 추출하기\n",
    "a = \"Life is too short, You need Python\"\n",
    "\n",
    "print(a[-6])\n",
    "print(a[-15])\n",
    "print(a[-13])"
   ]
  },
  {
   "cell_type": "markdown",
   "metadata": {},
   "source": [
    "# 문자열 슬라이싱\n",
    "- 문자열의 일부를 원하는 만큼 잘라내는 방법법\n",
    "- 한 문자 이상으로 구성된 단어나 문장을 추출할 때 유용\n",
    "- 시작 인덱스와 종료 인덱스를 지정하여 추출하고자 하는 단어나 문장의 범위 지정\n",
    "- 지정한 범위의 문자를 모두 추출하되, 종료 인덱스에 해당하는 문자는 포함되지 않음\n",
    "\n",
    "- 문자열을 담은 변수명[시작인덱스:종료인덱스:증감폭]\n",
    "- 시작 인덱스 : 슬라이싱을 시작할 위치 지정. 생략 가능하며 생략하면 기본 값은 0 (생략하면 문자열의 첫 글자부터 시작)\n",
    "- 종료 인덱스 : 슬라이싱을 종료할 위치 지정. 종료 인덱스 자체는 포함되지 않고, 바로 앞 인덱스까지 추출. 생략이 가능하며 생략하면 문자열의 끝까지 슬라이싱\n",
    "- 증감폭 : 인덱스의 증가 또는 감소 값을 지정. 생략 가능하며 생략하면 기본 값은 1씩 증가"
   ]
  },
  {
   "cell_type": "code",
   "execution_count": null,
   "metadata": {},
   "outputs": [],
   "source": [
    "a = \"Life is too short, You need Python\"\n",
    "print(a[0:3])\n",
    "print(a[0:4])\n",
    "print(a[0:5])"
   ]
  },
  {
   "cell_type": "code",
   "execution_count": 31,
   "metadata": {},
   "outputs": [
    {
     "name": "stdout",
     "output_type": "stream",
     "text": [
      "is\n",
      "short\n",
      "You need Python\n",
      "Li\n",
      "Life is too short, You need Python\n",
      "f sto\n"
     ]
    }
   ],
   "source": [
    "a = \"Life is too short, You need Python\"\n",
    "\n",
    "print(a[5:7])\n",
    "print(a[12:17])\n",
    "print(a[19:])\n",
    "print(a[:2])\n",
    "print(a[:]) # 문자열의 처음부터 끝까지 뽑아냄\n",
    "print(a[2:11:2])"
   ]
  },
  {
   "cell_type": "code",
   "execution_count": 35,
   "metadata": {},
   "outputs": [
    {
     "name": "stdout",
     "output_type": "stream",
     "text": [
      "Life\n",
      "short\n",
      "Python\n",
      "Python\n"
     ]
    }
   ],
   "source": [
    "# 문자열 슬라이싱 퀴즈\n",
    "# Life, short, Python 추출하기\n",
    "a = \"Life is too short, You need Python\"\n",
    "\n",
    "print(a[0:4])\n",
    "print(a[12:17])\n",
    "print(a[-6:])\n",
    "print(a[28:34])"
   ]
  }
 ],
 "metadata": {
  "kernelspec": {
   "display_name": "Python 3",
   "language": "python",
   "name": "python3"
  },
  "language_info": {
   "codemirror_mode": {
    "name": "ipython",
    "version": 3
   },
   "file_extension": ".py",
   "mimetype": "text/x-python",
   "name": "python",
   "nbconvert_exporter": "python",
   "pygments_lexer": "ipython3",
   "version": "3.13.0"
  }
 },
 "nbformat": 4,
 "nbformat_minor": 2
}
