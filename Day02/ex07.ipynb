{
 "cells": [
  {
   "cell_type": "markdown",
   "metadata": {},
   "source": [
    "## 연산자\n",
    "- 수학적 계산, 데이터 처리 등 다양한 작업을 수행하는데 사용되는 기호"
   ]
  },
  {
   "cell_type": "code",
   "execution_count": 1,
   "metadata": {},
   "outputs": [
    {
     "name": "stdout",
     "output_type": "stream",
     "text": [
      "13\n",
      "7\n",
      "30\n",
      "3.3333333333333335\n",
      "3\n",
      "1\n",
      "1000\n"
     ]
    }
   ],
   "source": [
    "# 산술 연산자\n",
    "# 기본적인 수학적 계산에 활용\n",
    "\n",
    "a = 10\n",
    "b = 3\n",
    "\n",
    "print(a + b) # 덧셈\n",
    "print(a - b) # 뺄셈\n",
    "print(a * b) # 곱셈\n",
    "print(a / b) # 나눗셈(결과는 실수로 나옴)\n",
    "print(a // b) # 나눗셈(결과는 몫)\n",
    "print(a % b) # 나눗셈의 나머지\n",
    "print(a ** b) # 거듭제곱"
   ]
  },
  {
   "cell_type": "code",
   "execution_count": 2,
   "metadata": {},
   "outputs": [
    {
     "name": "stdout",
     "output_type": "stream",
     "text": [
      "False\n",
      "True\n",
      "False\n",
      "True\n",
      "False\n",
      "True\n"
     ]
    }
   ],
   "source": [
    "# 비교 연산자\n",
    "# 두 값을 비교하고 그 결과로 True 또는 False를 반환\n",
    "# 관계 연산자라고도 부름(두 값의 관계를 판단하는 역할을 하기 때문)\n",
    "\n",
    "x = 5\n",
    "y = 10\n",
    "\n",
    "print(x == y) # 같음\n",
    "print(x != y) # 다름\n",
    "print(x > y) # 크다\n",
    "print(x < y) # 작다\n",
    "print(x >= y) # 크거나 같다\n",
    "print(x <= y) # 작거나 같다"
   ]
  },
  {
   "cell_type": "code",
   "execution_count": 3,
   "metadata": {},
   "outputs": [
    {
     "name": "stdout",
     "output_type": "stream",
     "text": [
      "False\n",
      "True\n",
      "False\n"
     ]
    }
   ],
   "source": [
    "# 논리 연산자\n",
    "# 논리적인 연산을 수행하여 참인지 거짓인지 판단\n",
    "# and = 두 조건이 모두 참일 때 참(하나라도 거짓이면 거짓)\n",
    "# or = 두 조건 중 하나라도 참이면 참(둘다 거짓이어야지만 거짓)\n",
    "# not = 두 조건을 반전(True -> False, False -> True)\n",
    "\n",
    "a = True\n",
    "b = False\n",
    "\n",
    "print(a and b)\n",
    "print(a or b)\n",
    "print(not a)"
   ]
  },
  {
   "cell_type": "code",
   "execution_count": 4,
   "metadata": {},
   "outputs": [
    {
     "name": "stdout",
     "output_type": "stream",
     "text": [
      "True\n"
     ]
    }
   ],
   "source": [
    "snowing = True\n",
    "cold = True\n",
    "\n",
    "winter = snowing and cold\n",
    "print(winter)"
   ]
  },
  {
   "cell_type": "code",
   "execution_count": 6,
   "metadata": {},
   "outputs": [
    {
     "name": "stdout",
     "output_type": "stream",
     "text": [
      "0\n",
      "1\n"
     ]
    }
   ],
   "source": [
    "snowing = 1\n",
    "cold = 0\n",
    "\n",
    "winter = snowing & cold\n",
    "print(winter)\n",
    "\n",
    "winter2 = snowing | cold\n",
    "print(winter2)"
   ]
  },
  {
   "cell_type": "code",
   "execution_count": 10,
   "metadata": {},
   "outputs": [
    {
     "name": "stdout",
     "output_type": "stream",
     "text": [
      "False\n",
      "True\n",
      "False\n",
      "True\n"
     ]
    }
   ],
   "source": [
    "# 변수의 논리 값을 반대로 뒤집는 not\n",
    "# 변수 자체의 값은 변하지 않음\n",
    "\n",
    "is_False = False\n",
    "print(is_False)\n",
    "print(not is_False)\n",
    "print(is_False)\n",
    "\n",
    "is_True = not is_False\n",
    "print(is_True)"
   ]
  },
  {
   "cell_type": "code",
   "execution_count": null,
   "metadata": {},
   "outputs": [],
   "source": [
    "# 대입 연산자\n",
    "# 변수에 값을 할당할 때 사용\n",
    "# 복합대입 연산자도 존재\n",
    "\n",
    "num = 100"
   ]
  },
  {
   "cell_type": "code",
   "execution_count": 14,
   "metadata": {},
   "outputs": [
    {
     "name": "stdout",
     "output_type": "stream",
     "text": [
      "10\n",
      "15\n",
      "12\n",
      "24\n",
      "6.0\n"
     ]
    }
   ],
   "source": [
    "x = 10\n",
    "print(x) # x를 10으로 초기화\n",
    "\n",
    "x += 5 # x = x + 5\n",
    "print(x)\n",
    "\n",
    "x -= 3 # x = x - 3\n",
    "print(x)\n",
    "\n",
    "x *= 2 # x = x * 2\n",
    "print(x)\n",
    "\n",
    "x /= 4 # x = x / 4\n",
    "print(x)"
   ]
  },
  {
   "cell_type": "code",
   "execution_count": 15,
   "metadata": {},
   "outputs": [
    {
     "name": "stdout",
     "output_type": "stream",
     "text": [
      "100\n",
      "23\n",
      "0\n"
     ]
    }
   ],
   "source": [
    "num1 = 77\n",
    "num2 = 23\n",
    "num3 = num1 + num2\n",
    "num1 += num2 # num1 = num1 + num2\n",
    "num3 -= num1 # num3 = num3 - num1\n",
    "\n",
    "print(num1)\n",
    "print(num2)\n",
    "print(num3)"
   ]
  },
  {
   "cell_type": "code",
   "execution_count": 16,
   "metadata": {},
   "outputs": [
    {
     "name": "stdout",
     "output_type": "stream",
     "text": [
      "True\n",
      "True\n"
     ]
    }
   ],
   "source": [
    "# 멤버십 연산자\n",
    "# 특정 값이 포함되어 있는지 검사\n",
    "# in , not in\n",
    "\n",
    "fruit = [\"apple\", \"banana\", \"cherry\"]\n",
    "print(\"apple\" in fruit)\n",
    "print(\"grape\" not in fruit)"
   ]
  },
  {
   "cell_type": "code",
   "execution_count": null,
   "metadata": {},
   "outputs": [
    {
     "name": "stdout",
     "output_type": "stream",
     "text": [
      "21\n"
     ]
    }
   ],
   "source": [
    "# 조건 연산자 또는 조건부 표현식\n",
    "# 조건에 따라 결과를 선택할 수 있는 연산자\n",
    "# 조건의 결과가 참인 경우와 거짓인 경우에 따라 다른 결과 값을 선택\n",
    "\n",
    "x = 21\n",
    "y = 20\n",
    "\n",
    "max = x if x > y else y\n",
    "# 만약 x가 y보다 크면 max에 값 x를 할당하라, 그렇지 않다면 max에 값 y를 할당하라\n",
    "# 만약 조건식이 참이면 x를 max에 할당하라, 조건식이 거짓이면 y를 max에 할당하라\n",
    "print(max)"
   ]
  },
  {
   "cell_type": "code",
   "execution_count": 18,
   "metadata": {},
   "outputs": [
    {
     "name": "stdout",
     "output_type": "stream",
     "text": [
      "2700.0\n"
     ]
    }
   ],
   "source": [
    "age = 23\n",
    "is_student = True\n",
    "\n",
    "adult_price = 3000\n",
    "child_price = 2000\n",
    "\n",
    "discount = (age > 20) and is_student\n",
    "result = adult_price * 0.9 if discount else child_price\n",
    "print(result)"
   ]
  }
 ],
 "metadata": {
  "kernelspec": {
   "display_name": "Python 3",
   "language": "python",
   "name": "python3"
  },
  "language_info": {
   "codemirror_mode": {
    "name": "ipython",
    "version": 3
   },
   "file_extension": ".py",
   "mimetype": "text/x-python",
   "name": "python",
   "nbconvert_exporter": "python",
   "pygments_lexer": "ipython3",
   "version": "3.13.2"
  }
 },
 "nbformat": 4,
 "nbformat_minor": 2
}
