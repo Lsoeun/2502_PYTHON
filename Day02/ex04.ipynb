{
 "cells": [
  {
   "cell_type": "markdown",
   "metadata": {},
   "source": [
    "# 집합 자료형 (셋 또는 세트)\n",
    "- 집합 자료형은 set 키워드를 사용해 만들 수 있음\n",
    "- 집합 자료형 set은 중복을 허용하지 않고, 순서가 없음\n",
    "- 중복을 허용하지 않는 특징 때문에 데이터의 중복을 제거하기 위한 필터로 종종 사용\n",
    "- set의 기본 형태 -> 변수명 = {요소1, 요소2, 요소3}\n",
    "- set()함수를 통한 생성 -> set(set으로 바꾸고 싶은 자료형)"
   ]
  },
  {
   "cell_type": "code",
   "execution_count": null,
   "metadata": {},
   "outputs": [],
   "source": [
    "s1 = {1, 2, 3}\n",
    "s2 = {'가', '나', '다'}"
   ]
  },
  {
   "cell_type": "code",
   "execution_count": null,
   "metadata": {},
   "outputs": [
    {
     "name": "stdout",
     "output_type": "stream",
     "text": [
      "{'o', 'e', 'l', 'h'}\n"
     ]
    }
   ],
   "source": [
    "s3 = set(\"hello\")\n",
    "print(s3)\n",
    "\n",
    "# set은 중복된 값을 허용하지 않는다.\n",
    "# set은 순서가 없다.\n",
    "# set은 인덱스도 없다.\n",
    "# set은 인덱싱, 슬라이싱이 불가하다."
   ]
  },
  {
   "cell_type": "code",
   "execution_count": 2,
   "metadata": {},
   "outputs": [
    {
     "name": "stdout",
     "output_type": "stream",
     "text": [
      "{1, 2, 3}\n"
     ]
    }
   ],
   "source": [
    "s4 = set([1, 2, 3, 1, 2, 3])\n",
    "print(s4)"
   ]
  },
  {
   "cell_type": "markdown",
   "metadata": {},
   "source": [
    "## 교집합, 합집합, 차집합 구하기\n",
    "- set 자료형을 정말 유용하게 사용하는 경우는 교집합, 합집합, 차집합 구하는 경우!"
   ]
  },
  {
   "cell_type": "code",
   "execution_count": 7,
   "metadata": {},
   "outputs": [
    {
     "name": "stdout",
     "output_type": "stream",
     "text": [
      "{4, 5, 6, 7}\n",
      "{4, 5, 6, 7, 8, 9, 10}\n"
     ]
    }
   ],
   "source": [
    "# 교집합 구하기\n",
    "# & 를 이용하면 교집합을 간단히 구할 수 있음\n",
    "s1 = {1, 2, 3, 4, 5, 6, 7}\n",
    "s2 = {4, 5, 6, 7, 8, 9, 10}\n",
    "\n",
    "print(s1 & s2)\n",
    "print(s1 and s2)"
   ]
  },
  {
   "cell_type": "code",
   "execution_count": 6,
   "metadata": {},
   "outputs": [
    {
     "name": "stdout",
     "output_type": "stream",
     "text": [
      "{1, 2, 3, 4, 5, 6, 7, 8, 9, 10}\n",
      "{1, 2, 3, 4, 5, 6, 7}\n"
     ]
    }
   ],
   "source": [
    "# 합집합 구하기\n",
    "# | 를 사용하면 합집합을 구할 수 있음\n",
    "# 이때, 중복해서 포함된 값은 1개씩만 포함됨!\n",
    "s1 = {1, 2, 3, 4, 5, 6, 7}\n",
    "s2 = {4, 5, 6, 7, 8, 9, 10}\n",
    "\n",
    "print(s1 | s2)\n",
    "print(s1 or s2)"
   ]
  },
  {
   "cell_type": "code",
   "execution_count": 5,
   "metadata": {},
   "outputs": [
    {
     "name": "stdout",
     "output_type": "stream",
     "text": [
      "{1, 2, 3}\n",
      "{8, 9, 10}\n"
     ]
    }
   ],
   "source": [
    "# 차집합 구하기\n",
    "# -(빼기)를 사용하면 차집합을 구할 수 있음\n",
    "s1 = {1, 2, 3, 4, 5, 6, 7}\n",
    "s2 = {4, 5, 6, 7, 8, 9, 10}\n",
    "\n",
    "print(s1 - s2)\n",
    "print(s2 - s1)"
   ]
  }
 ],
 "metadata": {
  "kernelspec": {
   "display_name": "Python 3",
   "language": "python",
   "name": "python3"
  },
  "language_info": {
   "codemirror_mode": {
    "name": "ipython",
    "version": 3
   },
   "file_extension": ".py",
   "mimetype": "text/x-python",
   "name": "python",
   "nbconvert_exporter": "python",
   "pygments_lexer": "ipython3",
   "version": "3.13.2"
  }
 },
 "nbformat": 4,
 "nbformat_minor": 2
}
