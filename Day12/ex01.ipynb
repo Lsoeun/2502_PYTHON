{
 "cells": [
  {
   "cell_type": "markdown",
   "metadata": {},
   "source": [
    "# 모듈\n",
    "- 함수나 변수 또는 클래스를 모아 놓은 파이썬 파일\n",
    "- 다른 파이썬 프로그램에서 불러와 사용 가능한 파이썬 파일\n",
    "- 파이썬으로 프로그래밍을 할때는 많은 모듈을 사용함 \n",
    "- 다른 사람들이 만들어 놓은 모듈을 사용하거나 우리가 직접 만들어서 사용할 수도 있음"
   ]
  },
  {
   "cell_type": "markdown",
   "metadata": {},
   "source": [
    "# 모듈 불러오는 법\n",
    "- import 사용하고 싶은 파일 명 (확장자는 제외)\n",
    "- import는 현재 디렉토리에 있는 파일을 불러올 때 사용"
   ]
  },
  {
   "cell_type": "code",
   "execution_count": 2,
   "metadata": {},
   "outputs": [
    {
     "name": "stdout",
     "output_type": "stream",
     "text": [
      "7\n",
      "2\n"
     ]
    }
   ],
   "source": [
    "import mod1\n",
    "\n",
    "print(mod1.add(3, 4))\n",
    "print(mod1.sub(4, 2))"
   ]
  },
  {
   "cell_type": "code",
   "execution_count": 1,
   "metadata": {},
   "outputs": [
    {
     "name": "stdout",
     "output_type": "stream",
     "text": [
      "6 hours = 360 min\n",
      "12 mins = 720 sec\n",
      "3 hours = 10800 sec\n"
     ]
    }
   ],
   "source": [
    "import ex01\n",
    "\n",
    "min = ex01.hour_to_min(6)\n",
    "print(\"6 hours =\", min, \"min\")\n",
    "\n",
    "sec = ex01.min_to_sec(12)\n",
    "print(\"12 mins =\", sec, \"sec\")\n",
    "\n",
    "sec = ex01.hour_to_sec(3)\n",
    "print(\"3 hours =\", sec, \"sec\")"
   ]
  },
  {
   "cell_type": "markdown",
   "metadata": {},
   "source": [
    "# 모듈 파일 전체가 아닌 특정 함수만 필요한 경우\n",
    "- 사용하는 함수보다 사용하지 않는 함수가 더 많은 경우에는 파일 전체를 불러오면 프로그램 실행 속도를 느리게 만들 수 있음\n",
    "- 이런 경우에는 from 키워드를 사용해 필요한 함수만 선택적으로 가져올 수 있음\n",
    "- from 키워드를 사용하여 필요한 함수만 선택적으로 가져오는 방법\n",
    "- from 파일명 import 함수명 (확장자는 제외)\n",
    "- from 파일명 import 변수 를 통해 특정 변수만 가지고 오는 것도 가능"
   ]
  },
  {
   "cell_type": "code",
   "execution_count": 2,
   "metadata": {},
   "outputs": [
    {
     "name": "stdout",
     "output_type": "stream",
     "text": [
      "7 hours = 420 min\n",
      "13 mins = 780 sec\n"
     ]
    }
   ],
   "source": [
    "from ex01 import hour_to_min\n",
    "from ex01 import min_to_sec\n",
    "\n",
    "min = hour_to_min(7)\n",
    "print(\"7 hours =\", min, \"min\")\n",
    "\n",
    "sec = min_to_sec(13)\n",
    "print(\"13 mins =\", sec, \"sec\")"
   ]
  },
  {
   "cell_type": "markdown",
   "metadata": {},
   "source": [
    "# 모듈 내의 모든 함수와 변수를 사용하고 싶은 경우\n",
    "- from 키워드 뒤에 애스터리스크(*) 를 사용\n",
    "- from 파일명 import *\n",
    "- 애스터리스크(*)를 사용하여 모든 함수와 변수를 가져오면, 파일명 없이 바로 함수 사용 가능 "
   ]
  },
  {
   "cell_type": "code",
   "execution_count": 3,
   "metadata": {},
   "outputs": [
    {
     "name": "stdout",
     "output_type": "stream",
     "text": [
      "6 hours = 360 min\n",
      "13 mins = 780 sec\n",
      "3 hous = 10800 sec\n"
     ]
    }
   ],
   "source": [
    "from ex01 import *\n",
    "\n",
    "min = hour_to_min(6)\n",
    "print(\"6 hours =\", min, \"min\")\n",
    "\n",
    "sec = min_to_sec(13)\n",
    "print(\"13 mins =\", sec, \"sec\")\n",
    "\n",
    "sec = hour_to_sec(3)\n",
    "print(\"3 hous =\", sec, \"sec\")"
   ]
  },
  {
   "cell_type": "code",
   "execution_count": 11,
   "metadata": {},
   "outputs": [
    {
     "name": "stdout",
     "output_type": "stream",
     "text": [
      "3.141592\n",
      "12.566368\n",
      "7.5415920000000005\n"
     ]
    }
   ],
   "source": [
    "# 클래스와 변수, 함수를 포함한 모듈\n",
    "import ex07\n",
    "\n",
    "print(ex07.PI)\n",
    "\n",
    "a = ex07.Math()\n",
    "print(a.solv(2))\n",
    "\n",
    "print(ex07.add(ex07.PI, 4.4))"
   ]
  },
  {
   "cell_type": "code",
   "execution_count": 10,
   "metadata": {},
   "outputs": [
    {
     "name": "stdout",
     "output_type": "stream",
     "text": [
      "7\n"
     ]
    }
   ],
   "source": [
    "# 다른 패키지에 있는 모듈 사용하기\n",
    "\n",
    "import sys\n",
    "sys.path.append(r\"C:\\Users\\SoJung\\2412_PYTHON\")\n",
    "# 주로 사용자가 직접 만든 모듈이나 특정 위치에 저장된 사용자 정의 코드를 불러오기 위해 사용\n",
    "\n",
    "import Day12_1.mod3\n",
    "\n",
    "print(Day12_1.mod3.add(3, 4))"
   ]
  },
  {
   "cell_type": "code",
   "execution_count": 11,
   "metadata": {},
   "outputs": [
    {
     "name": "stdout",
     "output_type": "stream",
     "text": [
      "90\n",
      "80\n",
      "200\n",
      "영양소 종류가 잘못 입력되었습니다.\n"
     ]
    }
   ],
   "source": [
    "# 다른 패키지에 있는 모듈 사용하기\n",
    "\n",
    "import sys\n",
    "sys.path.append(r\"C:\\Users\\SoJung\\2412_PYTHON\")\n",
    "\n",
    "from Day12_1.cal import *\n",
    "\n",
    "fat_calories = calculate_calories(1, 10)\n",
    "print(fat_calories)\n",
    "\n",
    "protein_calories = calculate_calories(2, 20)\n",
    "print(protein_calories)\n",
    "\n",
    "carbon_calories = calculate_calories(3, 50)\n",
    "print(carbon_calories)\n",
    "\n",
    "other_calories = calculate_calories(10, 7)\n",
    "print(other_calories)"
   ]
  }
 ],
 "metadata": {
  "kernelspec": {
   "display_name": "Python 3",
   "language": "python",
   "name": "python3"
  },
  "language_info": {
   "codemirror_mode": {
    "name": "ipython",
    "version": 3
   },
   "file_extension": ".py",
   "mimetype": "text/x-python",
   "name": "python",
   "nbconvert_exporter": "python",
   "pygments_lexer": "ipython3",
   "version": "3.13.0"
  }
 },
 "nbformat": 4,
 "nbformat_minor": 2
}
