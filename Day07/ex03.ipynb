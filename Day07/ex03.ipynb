{
 "cells": [
  {
   "cell_type": "markdown",
   "metadata": {
    "vscode": {
     "languageId": "plaintext"
    }
   },
   "source": [
    "# 람다 함수\n",
    "- 이름 없는 함수\n",
    "- 이름이 없이 간단하게 사용하는 함수 = 익명함수\n",
    "- 일반 함수와는 다르게 이름 없이 한 줄로 표현\n",
    "\n",
    "# 람다 함수 사용 이유\n",
    "- 코드의 간결함\n",
    "- 메모리의 절약\n",
    "\n",
    "# 람다 함수의 형식\n",
    "lambda 매개변수 : 식\n",
    "lambda x : x + 1"
   ]
  },
  {
   "cell_type": "code",
   "execution_count": 1,
   "metadata": {},
   "outputs": [
    {
     "name": "stdout",
     "output_type": "stream",
     "text": [
      "8\n",
      "8\n"
     ]
    }
   ],
   "source": [
    "# 일반 함수와 람다 함수의 비교\n",
    "\n",
    "# 일반 함수\n",
    "def add(a, b):\n",
    "    return a + b\n",
    "\n",
    "print(add(3, 5))\n",
    "\n",
    "# 람다 함수\n",
    "add_lambda = lambda a, b : a + b\n",
    "print(add_lambda(3, 5))\n",
    "\n",
    "# 람다 함수는 결과 부분을 return키워드 없이 자동으로 return해줌\n",
    "# 함수 이름을 지정하지 않음\n",
    "# 주로 간단한 작업에 사용. 일회용으로 사용할 경우에 적합"
   ]
  },
  {
   "cell_type": "code",
   "execution_count": 11,
   "metadata": {},
   "outputs": [],
   "source": [
    "# 일반 함수\n",
    "def multiply(a, b):\n",
    "  return a * b\n",
    "\n",
    "def plus(a, b):\n",
    "  return a + b\n",
    "\n",
    "\n",
    "# 람다 함수\n",
    "multiply_lambda = lambda a, b : a * b\n",
    "plus_lambda = lambda a, b : a + b\n"
   ]
  },
  {
   "cell_type": "code",
   "execution_count": 10,
   "metadata": {},
   "outputs": [
    {
     "name": "stdout",
     "output_type": "stream",
     "text": [
      "6은 짝수입니다.\n",
      "7은 홀수입니다.\n",
      "6은 짝수입니다.\n",
      "7은 홀수입니다.\n"
     ]
    }
   ],
   "source": [
    "# 일반 함수\n",
    "def number(num):\n",
    "    if num % 2 == 0:\n",
    "         return f\"{num}은 짝수입니다.\"\n",
    "    else:\n",
    "        return f\"{num}은 홀수입니다.\"\n",
    "\n",
    "print(number(6))\n",
    "print(number(7))\n",
    "\n",
    "# 람다 함수\n",
    "number_lambda = lambda num: f\"{num}은 짝수입니다.\" if num % 2 == 0 else f\"{num}은 홀수입니다.\"\n",
    "print(number_lambda(6))\n",
    "print(number_lambda(7))"
   ]
  },
  {
   "cell_type": "code",
   "execution_count": 20,
   "metadata": {},
   "outputs": [
    {
     "name": "stdout",
     "output_type": "stream",
     "text": [
      "4\n",
      "5\n",
      "30\n"
     ]
    }
   ],
   "source": [
    "# 람다 함수 정의와 동시에 사용\n",
    "print((lambda x : x + 1)(3))\n",
    "\n",
    "# 정의와 동시에 변수에 담기 가능. 변수에 담아서 호출\n",
    "func =(lambda x : x + 1)\n",
    "print(func(4))\n",
    "\n",
    "add = lambda x, y : x + y\n",
    "print(add(10, 20))"
   ]
  },
  {
   "cell_type": "markdown",
   "metadata": {},
   "source": [
    "# 람다 함수의 다양한 사용\n",
    "- 리스트에서 값 변환\n",
    "- 조건부 연산\n",
    "- 조건 체크하기\n",
    "- 리스트 정렬"
   ]
  },
  {
   "cell_type": "code",
   "execution_count": 21,
   "metadata": {},
   "outputs": [
    {
     "name": "stdout",
     "output_type": "stream",
     "text": [
      "[1, 4, 9, 16]\n"
     ]
    }
   ],
   "source": [
    "# 리스트에서 값 변환\n",
    "numbers = [1, 2, 3, 4]\n",
    "squared = list(map(lambda x: x ** 2, numbers))\n",
    "print(squared)  "
   ]
  },
  {
   "cell_type": "code",
   "execution_count": 22,
   "metadata": {},
   "outputs": [
    {
     "name": "stdout",
     "output_type": "stream",
     "text": [
      "[0, 2, 0, 4, 0]\n"
     ]
    }
   ],
   "source": [
    "# 조건부 연산\n",
    "# 짝수는 그대로 두고 홀수는 0으로 바꾸기\n",
    "numbers = [1, 2, 3, 4, 5]\n",
    "processed = list(map(lambda x: x if x % 2 == 0 else 0, numbers))\n",
    "print(processed) "
   ]
  },
  {
   "cell_type": "code",
   "execution_count": 23,
   "metadata": {},
   "outputs": [
    {
     "name": "stdout",
     "output_type": "stream",
     "text": [
      "Even\n",
      "Odd\n"
     ]
    }
   ],
   "source": [
    "# 조건부 연산\n",
    "check_even = lambda x: \"Even\" if x % 2 == 0 else \"Odd\"\n",
    "print(check_even(4))  # Even\n",
    "print(check_even(7))  # Odd"
   ]
  },
  {
   "cell_type": "code",
   "execution_count": 24,
   "metadata": {},
   "outputs": [
    {
     "name": "stdout",
     "output_type": "stream",
     "text": [
      "True\n",
      "False\n"
     ]
    }
   ],
   "source": [
    "# 조건 체크하기\n",
    "numbers = [1, 2, 3, 4, 5]\n",
    "any_even = any(map(lambda x: x % 2 == 0, numbers))\n",
    "print(any_even)  \n",
    "\n",
    "all_even = all(map(lambda x: x % 2 == 0, numbers))\n",
    "print(all_even)  "
   ]
  },
  {
   "cell_type": "code",
   "execution_count": 6,
   "metadata": {},
   "outputs": [
    {
     "name": "stdout",
     "output_type": "stream",
     "text": [
      "[(2, 0), (3, 1), (1, 2), (5, 7)]\n"
     ]
    }
   ],
   "source": [
    "# 튜플 리스트 정렬\n",
    "data = [(1, 2), (3, 1), (5, 7), (2, 0)]\n",
    "sorted_data = sorted(data, key=lambda x: x[1])\n",
    "print(sorted_data)  "
   ]
  },
  {
   "cell_type": "code",
   "execution_count": 7,
   "metadata": {},
   "outputs": [
    {
     "name": "stdout",
     "output_type": "stream",
     "text": [
      "['date', 'apple', 'banana', 'cherry']\n"
     ]
    }
   ],
   "source": [
    "# 문자열 리스트 정렬\n",
    "words = [\"apple\", \"banana\", \"cherry\", \"date\"]\n",
    "sorted_by_length = sorted(words, key=lambda x: len(x))\n",
    "print(sorted_by_length) "
   ]
  },
  {
   "cell_type": "code",
   "execution_count": 4,
   "metadata": {},
   "outputs": [
    {
     "name": "stdout",
     "output_type": "stream",
     "text": [
      "[{'name': 'Alice', 'age': 22}, {'name': 'Bob', 'age': 23}, {'name': 'John', 'age': 25}]\n"
     ]
    }
   ],
   "source": [
    "# 딕셔너리 리스트 정렬\n",
    "students = [\n",
    "    {\"name\": \"John\", \"age\": 25},\n",
    "    {\"name\": \"Alice\", \"age\": 22},\n",
    "    {\"name\": \"Bob\", \"age\": 23}\n",
    "]\n",
    "sorted_students = sorted(students, key=lambda x: x[\"age\"])\n",
    "print(sorted_students)"
   ]
  },
  {
   "cell_type": "markdown",
   "metadata": {},
   "source": [
    "# map(), reduce(), filter()와 람다 함수\n",
    "\n",
    "# map()\n",
    "- map(함수, 시퀀스)\n",
    "- 함수와 반복 가능한 객체를 인자로 받아, 해당 함수가 적용된 결과로 구성된 새로운 이터레이터를 반환\n",
    "- 이터레이터(iterator)는 반복 가능한 객체로, 순차적으로 값을 하나씩 반환하는 객체\n",
    "\n",
    "# reduce()\n",
    "- reduce(함수, 시퀀스)\n",
    "- 시퀀스의 첫 두 원소를 가져와 지정된 함수를 적용한 후, 결과를 다음 원소와 함께 다시 함수에 전달\n",
    "- 이 과정을 반복하여, 최종적으로 하나의 결과값으로 축약\n",
    "\n",
    "# filter()\n",
    "- filter(함수, 시퀀스)\n",
    "- 주어진 조건을 만족하는 값만 필터링\n",
    "- 시퀀스에 들어있는 원소들을 함수에 적용 시켜 결과가 참인 값들로 새로운 이터레이터를 만들어 줌\n",
    "\n",
    "# 시퀀스(sequence): 순서가 있는 데이터 집합으로, 인덱스를 사용해 각 원소에 접근할 수 있는 반복 가능한 객체 (리스트, 튜플, 문자열 등)"
   ]
  },
  {
   "cell_type": "code",
   "execution_count": 2,
   "metadata": {},
   "outputs": [
    {
     "data": {
      "text/plain": [
       "[0, 2, 4, 6, 8]"
      ]
     },
     "execution_count": 2,
     "metadata": {},
     "output_type": "execute_result"
    }
   ],
   "source": [
    "# map() 예제\n",
    "list(map(lambda x: x * 2, range(5))) "
   ]
  },
  {
   "cell_type": "code",
   "execution_count": 31,
   "metadata": {},
   "outputs": [
    {
     "data": {
      "text/plain": [
       "10"
      ]
     },
     "execution_count": 31,
     "metadata": {},
     "output_type": "execute_result"
    }
   ],
   "source": [
    "# reduce() 예제\n",
    "from functools import reduce \n",
    "reduce(lambda x, y: x + y, [0, 1, 2, 3, 4])"
   ]
  },
  {
   "cell_type": "code",
   "execution_count": 32,
   "metadata": {},
   "outputs": [
    {
     "name": "stdout",
     "output_type": "stream",
     "text": [
      "24\n"
     ]
    }
   ],
   "source": [
    "# reduce() 예제\n",
    "from functools import reduce\n",
    "\n",
    "numbers = [1, 2, 3, 4]\n",
    "product = reduce(lambda x, y: x * y, numbers)\n",
    "print(product)  "
   ]
  },
  {
   "cell_type": "code",
   "execution_count": 34,
   "metadata": {},
   "outputs": [
    {
     "data": {
      "text/plain": [
       "'edcba'"
      ]
     },
     "execution_count": 34,
     "metadata": {},
     "output_type": "execute_result"
    }
   ],
   "source": [
    "# reduce() 예제\n",
    "from functools import reduce \n",
    "reduce(lambda x, y: y + x, 'abcde')\n",
    "# lambda x, y: y + x는 두 문자열을 뒤집어서 연결하는 역할"
   ]
  },
  {
   "cell_type": "code",
   "execution_count": 37,
   "metadata": {},
   "outputs": [
    {
     "data": {
      "text/plain": [
       "[0, 1, 2, 3, 4]"
      ]
     },
     "execution_count": 37,
     "metadata": {},
     "output_type": "execute_result"
    }
   ],
   "source": [
    "# filter() 예제\n",
    "list(filter(lambda x: x < 5, range(10)))"
   ]
  },
  {
   "cell_type": "code",
   "execution_count": 3,
   "metadata": {},
   "outputs": [
    {
     "data": {
      "text/plain": [
       "[1, 3, 5, 7, 9]"
      ]
     },
     "execution_count": 3,
     "metadata": {},
     "output_type": "execute_result"
    }
   ],
   "source": [
    "# filter() 예제\n",
    "list(filter(lambda x: x % 2, range(10)))\n",
    "\n",
    "# 숫자 x가 홀수이면 x % 2는 1(True)을 반환하고, 짝수이면 x % 2는 0(False)을 반환"
   ]
  },
  {
   "cell_type": "markdown",
   "metadata": {},
   "source": [
    "# 재귀함수\n",
    "- 하나의 함수는 실행되는 동안 다른 함수를 호출할 수 있음\n",
    "- 심지어 실행되는 함수 자신을 다시 호출할 수도 있음\n",
    "- 재귀 함수는 자기 자신을 호출하는 함수"
   ]
  },
  {
   "cell_type": "code",
   "execution_count": 39,
   "metadata": {},
   "outputs": [
    {
     "name": "stdout",
     "output_type": "stream",
     "text": [
      "3\n",
      "2\n",
      "1\n",
      "발사!\n"
     ]
    }
   ],
   "source": [
    "def countdown(n):\n",
    "    if n <= 0:\n",
    "        print('발사!')\n",
    "    else:\n",
    "        print(n)\n",
    "        countdown(n-1)\n",
    "        \n",
    "countdown(3)"
   ]
  },
  {
   "cell_type": "markdown",
   "metadata": {},
   "source": [
    "# 기저 조건과 무한 재귀\n",
    "- 재귀 함수의 실행이 멈추려면 재귀 호출 과정에서 언젠가는 더 이상 자신을 호출하지 않아야 함\n",
    "- 그렇지 않으면 무한 재귀에 빠짐\n",
    "- 더 이상 재귀 호출이 발생하지 않도록 하는 경우를 기저 조건이라 함\n",
    "- countdown() 함수의 기저 조건은 n = 0인 것"
   ]
  },
  {
   "cell_type": "code",
   "execution_count": null,
   "metadata": {},
   "outputs": [],
   "source": [
    "# 기저 조건을 가지지 않는 재귀함수\n",
    "# 재귀 호출이 무한정 반복\n",
    "def count(n):\n",
    "    print(n)\n",
    "    count(n+1)"
   ]
  },
  {
   "cell_type": "code",
   "execution_count": 40,
   "metadata": {},
   "outputs": [
    {
     "name": "stdout",
     "output_type": "stream",
     "text": [
      "Hello, world! 5\n",
      "Hello, world! 4\n",
      "Hello, world! 3\n",
      "Hello, world! 2\n",
      "Hello, world! 1\n"
     ]
    }
   ],
   "source": [
    "def hello(count):\n",
    "  if count == 0:# 종료 조건을 만듦. count가 0이면 다시 hello 함수를 호출하지 않고 끝냄\n",
    "    return\n",
    "\n",
    "  print('Hello, world!', count)\n",
    "\n",
    "  count -= 1 # count를 1 감소시킨 뒤\n",
    "  hello(count) # 다시 hello에 넣음\n",
    "\n",
    "hello(5) # hello 함수 호출"
   ]
  }
 ],
 "metadata": {
  "kernelspec": {
   "display_name": "Python 3",
   "language": "python",
   "name": "python3"
  },
  "language_info": {
   "codemirror_mode": {
    "name": "ipython",
    "version": 3
   },
   "file_extension": ".py",
   "mimetype": "text/x-python",
   "name": "python",
   "nbconvert_exporter": "python",
   "pygments_lexer": "ipython3",
   "version": "3.13.0"
  }
 },
 "nbformat": 4,
 "nbformat_minor": 2
}
