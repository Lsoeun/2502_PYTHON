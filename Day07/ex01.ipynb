{
 "cells": [
  {
   "cell_type": "markdown",
   "metadata": {},
   "source": [
    "# 콜백 함수\n",
    " - 함수를 매개변수로 전달하여 필요할 때 호출하도록 하는 개념\n",
    " - 어떤 함수가 실행되는 도중 필요한 시점에 미리 정의된 다른 함수를 실행하도록 하는 역할\n",
    " - 다른 함수에 매개변수로 전달되어, 그 함수 내부에서 실행되는 함수!"
   ]
  },
  {
   "cell_type": "code",
   "execution_count": 1,
   "metadata": {},
   "outputs": [
    {
     "name": "stdout",
     "output_type": "stream",
     "text": [
      "5\n",
      "-1\n",
      "6\n",
      "0.6666666666666666\n"
     ]
    }
   ],
   "source": [
    "# 콜백 함수\n",
    "def calculator(x, y, operation): # operation은 콜백 함수를 나타내는 매개변수\n",
    "  return operation(x, y)\n",
    "\n",
    "def plus(x, y):\n",
    "  return x + y\n",
    "\n",
    "def minus(x, y):\n",
    "  return x - y\n",
    "\n",
    "def multiple(x, y):\n",
    "  return x * y\n",
    "\n",
    "def divide(x, y):\n",
    "  return x / y\n",
    "\n",
    "# 함수 호출\n",
    "plus_result = calculator(2, 3, plus)\n",
    "minus_result = calculator(2, 3, minus)\n",
    "multiple_result = calculator(2, 3, multiple)\n",
    "divide_result = calculator(2, 3, divide)\n",
    "\n",
    "print(plus_result)\n",
    "print(minus_result)\n",
    "print(multiple_result)\n",
    "print(divide_result) # /를 통한 나눗셈의 결과는 실수로 출력\n",
    "\n",
    "# 선언된 calculator()함수는 매개변수로 전달받은 operation 변수에 담긴 함수를 내부에서 다시 호출하고 있음\n",
    "# 모두 calculator()함수를 공통적으로 호출하고 있지만, 함수의 매개변수로 각각 다른 함수를 전달"
   ]
  },
  {
   "cell_type": "markdown",
   "metadata": {},
   "source": [
    "# 콜백 함수와 비동기\n",
    "- 콜백 함수는 비동기적인 작업을 처리할 때 매우 유용\n",
    "- 동기 호출은 함수를 호출하면 결과를 바로 받아오지만, 비동기 호출은 함수를 호출한 뒤 다른 작업을 진행하다가, 작업이 완료되었을 때 결과를 나중에 받아오는 방식"
   ]
  },
  {
   "cell_type": "markdown",
   "metadata": {},
   "source": [
    "# 프로그래밍에서 비동기란?\n",
    "동기 작업:\n",
    "프로그램이 어떤 작업을 할 때, 그 작업이 끝날 때까지 기다린 후에야 다음 작업을 합니다.\n",
    "\n",
    "비동기 작업:\n",
    "프로그램이 어떤 작업을 요청한 뒤, 결과를 기다리지 않고 다른 작업을 계속합니다.\n",
    "나중에 그 작업이 끝났다는 신호가 오면, 그때 결과를 처리합니다."
   ]
  },
  {
   "cell_type": "code",
   "execution_count": 3,
   "metadata": {},
   "outputs": [
    {
     "name": "stdout",
     "output_type": "stream",
     "text": [
      "타이머가 시작됩니다.\n",
      "3 초 뒤 요청하신 함수가 호출됩니다.\n",
      "요청하신 함수가 호출되었습니다.\n",
      "타이머가 종료됩니다\n"
     ]
    }
   ],
   "source": [
    "import time # time 모듈 사용\n",
    "\n",
    "# 함수 선언\n",
    "def timer(second, callback):\n",
    "  print('타이머가 시작됩니다.')\n",
    "  print(second,'초 뒤 요청하신 함수가 호출됩니다.')\n",
    "  \n",
    "  time.sleep(second) # 매개변수 값 만큼 코드 실행을 멈추기\n",
    "  callback() # 전달받은 함수 호출\n",
    "  print('타이머가 종료됩니다')\n",
    "  \n",
    "def callback():\n",
    "  print('요청하신 함수가 호출되었습니다.')\n",
    "  \n",
    "# 함수 호출\n",
    "timer(3, callback)\n",
    "  \n",
    "  "
   ]
  }
 ],
 "metadata": {
  "kernelspec": {
   "display_name": "Python 3",
   "language": "python",
   "name": "python3"
  },
  "language_info": {
   "codemirror_mode": {
    "name": "ipython",
    "version": 3
   },
   "file_extension": ".py",
   "mimetype": "text/x-python",
   "name": "python",
   "nbconvert_exporter": "python",
   "pygments_lexer": "ipython3",
   "version": "3.13.0"
  }
 },
 "nbformat": 4,
 "nbformat_minor": 2
}
