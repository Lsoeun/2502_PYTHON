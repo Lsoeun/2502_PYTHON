{
 "cells": [
  {
   "cell_type": "markdown",
   "metadata": {},
   "source": [
    "# NumPy란?\n",
    "- NumPy(Numerical Python)는 다차원 배열의 연산 기능을 모아 놓은 꾸러미이며, 수치 연산을 위한 다양한 기능을 제공하는 파이썬 라이브러리\n",
    "- 다차원 배열의 연산 기능과 함께 데이터를 효율적으로 저장하고 빠르게 연산할 수 있도록 설계되어 있음\n",
    "- 대규모 데이터를 효율적으로 저장하고 빠르게 계산할 수 있으며, 반복 연산이나 행렬 연산이 많은 데이터 분석, 과학적 계산, 등에서 성능을 크게 향상시킬 수 있음"
   ]
  },
  {
   "cell_type": "code",
   "execution_count": 2,
   "metadata": {},
   "outputs": [
    {
     "name": "stdout",
     "output_type": "stream",
     "text": [
      "Collecting numpy\n",
      "  Downloading numpy-2.2.1-cp313-cp313-win_amd64.whl.metadata (60 kB)\n",
      "Downloading numpy-2.2.1-cp313-cp313-win_amd64.whl (12.6 MB)\n",
      "   ---------------------------------------- 0.0/12.6 MB ? eta -:--:--\n",
      "   ------- -------------------------------- 2.4/12.6 MB 13.5 MB/s eta 0:00:01\n",
      "   ------------------ --------------------- 5.8/12.6 MB 13.1 MB/s eta 0:00:01\n",
      "   ---------------------------------------  12.6/12.6 MB 20.5 MB/s eta 0:00:01\n",
      "   ---------------------------------------- 12.6/12.6 MB 18.5 MB/s eta 0:00:00\n",
      "Installing collected packages: numpy\n",
      "Successfully installed numpy-2.2.1\n"
     ]
    },
    {
     "name": "stderr",
     "output_type": "stream",
     "text": [
      "\n",
      "[notice] A new release of pip is available: 24.2 -> 24.3.1\n",
      "[notice] To update, run: python.exe -m pip install --upgrade pip\n"
     ]
    }
   ],
   "source": [
    "# NumPy 패키지 설치\n",
    "! pip install numpy"
   ]
  },
  {
   "cell_type": "code",
   "execution_count": 3,
   "metadata": {},
   "outputs": [
    {
     "name": "stdout",
     "output_type": "stream",
     "text": [
      "2.2.1\n"
     ]
    }
   ],
   "source": [
    "# 설치된 NumPy 버전을 출력\n",
    "import numpy\n",
    "print(numpy.__version__)"
   ]
  },
  {
   "cell_type": "markdown",
   "metadata": {},
   "source": [
    "# 배열이란?\n",
    "- NumPy는 기본적인 자료구조로 배열(array)을 사용\n",
    "- 배열은 데이터를 효율적으로 처리하기 위한 자료구조\n",
    "- 연속적으로 데이터를 담을 수 있는 객체이며, array라고 씀\n",
    "- 파이썬에서는 고성능 배열 작업을 위해 NumPy 라이브러리를 사용하는 것이 일반적\n",
    "\n",
    "# 배열의 주요 특징\n",
    "- 같은 종류의 데이터만 담을 수 있다.\n",
    "- 차원을 갖는다.(1차원, 2차원, 3차원 등)\n",
    "- 빠르고 간단하게 연산을 처리할 수 있다.(모든 요소에 한번에 연산을 적용 가능)"
   ]
  },
  {
   "cell_type": "code",
   "execution_count": 7,
   "metadata": {},
   "outputs": [
    {
     "data": {
      "text/plain": [
       "array([1, 2, 3])"
      ]
     },
     "execution_count": 7,
     "metadata": {},
     "output_type": "execute_result"
    }
   ],
   "source": [
    "# np.array(요소가 나열된 형태의 객체) -> 리스트, 튜플 range 등의 형태의 객체를 사용해서 배열을 만들 수 있음\n",
    "# 리스트로 배열 만들기\n",
    "import numpy as np\n",
    "\n",
    "list1 = [1, 2, 3]\n",
    "\n",
    "arr1 = np.array(list1)\n",
    "\n",
    "arr1"
   ]
  },
  {
   "cell_type": "code",
   "execution_count": 8,
   "metadata": {},
   "outputs": [
    {
     "data": {
      "text/plain": [
       "array([0., 0., 0., 0., 0.])"
      ]
     },
     "execution_count": 8,
     "metadata": {},
     "output_type": "execute_result"
    }
   ],
   "source": [
    "# np.zeros(배열의 모양) -> np.zeros()를 사용하여 0으로 초기화된 배열을 만들 수 있음\n",
    "# 배열의 차원을 나타내기 위한 정수나 튜플형을 인자로 사용\n",
    "# 5개의 0으로 채워진 배열 만들기\n",
    "np.zeros(5)"
   ]
  },
  {
   "cell_type": "code",
   "execution_count": 9,
   "metadata": {},
   "outputs": [
    {
     "data": {
      "text/plain": [
       "array([[0., 0., 0.],\n",
       "       [0., 0., 0.]])"
      ]
     },
     "execution_count": 9,
     "metadata": {},
     "output_type": "execute_result"
    }
   ],
   "source": [
    "# (2, 4) 튜플을 사용해 0으로 초기화된 2차원 배열 만들기\n",
    "np.zeros((2, 3))"
   ]
  },
  {
   "cell_type": "code",
   "execution_count": 10,
   "metadata": {},
   "outputs": [
    {
     "data": {
      "text/plain": [
       "array([1., 1., 1., 1., 1., 1., 1.])"
      ]
     },
     "execution_count": 10,
     "metadata": {},
     "output_type": "execute_result"
    }
   ],
   "source": [
    "# np.ones(배열의 모양) -> 1로 초기화된 배열 생성하기\n",
    "# 7개의 1로 채워진 배열 만들기\n",
    "np.ones(7)"
   ]
  },
  {
   "cell_type": "code",
   "execution_count": 11,
   "metadata": {},
   "outputs": [
    {
     "data": {
      "text/plain": [
       "array([0, 1, 2, 3, 4, 5, 6, 7, 8, 9])"
      ]
     },
     "execution_count": 11,
     "metadata": {},
     "output_type": "execute_result"
    }
   ],
   "source": [
    "# np.arange([시작 번호], 끝 번호, [건너 뛰는 수]) -> 연속된 숫자를 채워서 배열 만들기\n",
    "# range()와 마찬가지로 끝 번호 미만의 숫자까지 생성\n",
    "# np.arange 사용하기\n",
    "np.arange(10) "
   ]
  },
  {
   "cell_type": "code",
   "execution_count": 12,
   "metadata": {},
   "outputs": [
    {
     "data": {
      "text/plain": [
       "array([20, 22, 24, 26, 28])"
      ]
     },
     "execution_count": 12,
     "metadata": {},
     "output_type": "execute_result"
    }
   ],
   "source": [
    "np.arange(20, 30, 2)"
   ]
  },
  {
   "cell_type": "code",
   "execution_count": 14,
   "metadata": {},
   "outputs": [
    {
     "data": {
      "text/plain": [
       "array([[0.62006808, 0.50580302, 0.62413664],\n",
       "       [0.95419989, 0.07433548, 0.86890375]])"
      ]
     },
     "execution_count": 14,
     "metadata": {},
     "output_type": "execute_result"
    }
   ],
   "source": [
    "# np.random.rand(배열의 모양) -> 정해진 숫자가 아닌 랜덤값으로 배열 만들기\n",
    "# 랜덤값 배열 만들기\n",
    "np.random.rand(2, 3)"
   ]
  },
  {
   "cell_type": "markdown",
   "metadata": {},
   "source": [
    "# 배열의 차원 변경하기\n",
    "- 1차원 배열을 만들고, 차원을 변형할 수 있음\n",
    "- reshape()을 사용하여 차원 변형이 가능\n",
    "- array.reshape(변형할 모양)"
   ]
  },
  {
   "cell_type": "code",
   "execution_count": 16,
   "metadata": {},
   "outputs": [
    {
     "data": {
      "text/plain": [
       "array([[ 0,  1,  2,  3],\n",
       "       [ 4,  5,  6,  7],\n",
       "       [ 8,  9, 10, 11],\n",
       "       [12, 13, 14, 15]])"
      ]
     },
     "execution_count": 16,
     "metadata": {},
     "output_type": "execute_result"
    }
   ],
   "source": [
    "# 16개의 값이 들어 있는 배열을 (4,4) 형태의 2차원 배열로 변형하기\n",
    "arr2 = np.arange(16)\n",
    "arr2.reshape(4, 4)"
   ]
  },
  {
   "cell_type": "code",
   "execution_count": 18,
   "metadata": {},
   "outputs": [
    {
     "data": {
      "text/plain": [
       "array([[[ 0,  1,  2,  3],\n",
       "        [ 4,  5,  6,  7]],\n",
       "\n",
       "       [[ 8,  9, 10, 11],\n",
       "        [12, 13, 14, 15]]])"
      ]
     },
     "execution_count": 18,
     "metadata": {},
     "output_type": "execute_result"
    }
   ],
   "source": [
    "# 16개의 값이 들어 있는 배열을 (2, 2, 4) 형태의 배열로 변형하기\n",
    "arr2 = np.arange(16)\n",
    "arr2.reshape(2, 2, 4)"
   ]
  },
  {
   "cell_type": "markdown",
   "metadata": {},
   "source": [
    "# 배열의 형태 및 데이터 타입 확인하기\n",
    "- 배열은 같은 종류의 데이터만 담을 수 있으며 차원을 가지는 특징이 있음\n",
    "- 배열 안에 담긴 데이터 타입이 무엇인지, 그리고 어떤 차원과 형태를 가지는지 살펴보는 방법도 존재\n",
    "- 또한, 배열 안에 담긴 데이터 타입을 다른 타입으로 변환도 가능\n",
    "- shape -> 배열의 형태 확인\n",
    "- dtype() -> 배열의 데이터 타입 확인\n",
    "- astype() -> 배열의 데이터 타입 변경"
   ]
  },
  {
   "cell_type": "code",
   "execution_count": 29,
   "metadata": {},
   "outputs": [
    {
     "data": {
      "text/plain": [
       "array([0, 1, 2, 3, 4, 5, 6, 7, 8, 9])"
      ]
     },
     "execution_count": 29,
     "metadata": {},
     "output_type": "execute_result"
    }
   ],
   "source": [
    "# 0부터 9까지 숫자가 담긴 배열 생성\n",
    "arr = np.arange(10)\n",
    "arr"
   ]
  },
  {
   "cell_type": "code",
   "execution_count": 30,
   "metadata": {},
   "outputs": [
    {
     "data": {
      "text/plain": [
       "(10,)"
      ]
     },
     "execution_count": 30,
     "metadata": {},
     "output_type": "execute_result"
    }
   ],
   "source": [
    "# 배열의 형태 알아보기\n",
    "arr.shape\n",
    "\n",
    "# 10개의 값을 가지는 1차원 배열의 형태임을 확인 가능"
   ]
  },
  {
   "cell_type": "code",
   "execution_count": 31,
   "metadata": {},
   "outputs": [
    {
     "data": {
      "text/plain": [
       "dtype('int64')"
      ]
     },
     "execution_count": 31,
     "metadata": {},
     "output_type": "execute_result"
    }
   ],
   "source": [
    "# 배열에 포함된 데이터의 자료형 알아보기\n",
    "arr.dtype\n",
    "\n",
    "# 모든 데이터 타입이 int64로 정수형의 데이터가 들어있음"
   ]
  },
  {
   "cell_type": "code",
   "execution_count": 34,
   "metadata": {},
   "outputs": [
    {
     "data": {
      "text/plain": [
       "array([0., 1., 2., 3., 4., 5., 6., 7., 8., 9.])"
      ]
     },
     "execution_count": 34,
     "metadata": {},
     "output_type": "execute_result"
    }
   ],
   "source": [
    "# 배열에 들어 있는 데이터를 실수로 변환하기\n",
    "arr.astype(float)\n",
    "\n",
    "# 각각의 데이터가 소수점이 붙어 있는 실수형으로 변환되어 출력"
   ]
  }
 ],
 "metadata": {
  "kernelspec": {
   "display_name": "Python 3",
   "language": "python",
   "name": "python3"
  },
  "language_info": {
   "codemirror_mode": {
    "name": "ipython",
    "version": 3
   },
   "file_extension": ".py",
   "mimetype": "text/x-python",
   "name": "python",
   "nbconvert_exporter": "python",
   "pygments_lexer": "ipython3",
   "version": "3.13.0"
  }
 },
 "nbformat": 4,
 "nbformat_minor": 2
}
