{
 "cells": [
  {
   "cell_type": "markdown",
   "metadata": {},
   "source": [
    "# 배열의 값 선택하기\n",
    "- 배열도 리스트와 마찬가지로 인덱스를 사용하여 원하는 값을 선택할 수 있음\n",
    "- 마이너스 인덱스와 슬라이싱을 사용한 범위 지정 역시 가능\n",
    "- 배열의 인덱스를 활용하여 새로운 값을 할당할 수도 있음"
   ]
  },
  {
   "cell_type": "code",
   "execution_count": 19,
   "metadata": {},
   "outputs": [
    {
     "name": "stdout",
     "output_type": "stream",
     "text": [
      "5\n",
      "15\n",
      "[5 6 7]\n"
     ]
    }
   ],
   "source": [
    "# 배열 인덱스 사용하여 원하는 값 선택하기\n",
    "# 0부터 15까지의 숫자가 담긴 arr라는 배열을 생성\n",
    "import numpy as np\n",
    "arr = np.arange(16)\n",
    "\n",
    "# 5번 인덱스에 저장된 값을 출력\n",
    "print(arr[5])\n",
    "\n",
    "# 마이너스 인덱스를 사용하여 가장 마지막에 위치한 인덱스 값을 출력\n",
    "print(arr[-1])\n",
    "\n",
    "# 슬라이싱을 활용하여 5번 인덱스부터 7번 인덱스에 저장된 값을 추출\n",
    "print(arr[5:8])"
   ]
  },
  {
   "cell_type": "code",
   "execution_count": 10,
   "metadata": {},
   "outputs": [
    {
     "data": {
      "text/plain": [
       "array([  0,   1,   2,   3,   4, 100,   6,   7,   8,   9,  10,  11,  12,\n",
       "        13,  14,  15])"
      ]
     },
     "execution_count": 10,
     "metadata": {},
     "output_type": "execute_result"
    }
   ],
   "source": [
    "# 1차원 배열의 인덱스를 활용해 새로운 값 할당하기\n",
    "arr[5] = 100\n",
    "arr"
   ]
  },
  {
   "cell_type": "code",
   "execution_count": 11,
   "metadata": {},
   "outputs": [
    {
     "data": {
      "text/plain": [
       "array([  0,   1,   2,   3,   4, 100, 200, 201,   8,   9,  10,  11,  12,\n",
       "        13,  14,  15])"
      ]
     },
     "execution_count": 11,
     "metadata": {},
     "output_type": "execute_result"
    }
   ],
   "source": [
    "# 슬라이싱을 활용해 여러 값 할당하기\n",
    "arr[6:8] = [200, 201]\n",
    "arr"
   ]
  },
  {
   "cell_type": "code",
   "execution_count": 12,
   "metadata": {},
   "outputs": [
    {
     "data": {
      "text/plain": [
       "array([[ 0,  1,  2,  3],\n",
       "       [ 4,  5,  6,  7],\n",
       "       [ 8,  9, 10, 11],\n",
       "       [12, 13, 14, 15]])"
      ]
     },
     "execution_count": 12,
     "metadata": {},
     "output_type": "execute_result"
    }
   ],
   "source": [
    "# 다차원 배열의 인덱스를 활용해 새로운 값 할당하기\n",
    "# 다차원 배열 생성\n",
    "arr2 = np.arange(16).reshape(4, 4)\n",
    "arr2"
   ]
  },
  {
   "cell_type": "code",
   "execution_count": 22,
   "metadata": {},
   "outputs": [
    {
     "name": "stdout",
     "output_type": "stream",
     "text": [
      "[4 5 6 7]\n",
      "5\n",
      "6\n"
     ]
    }
   ],
   "source": [
    "print(arr2[1])\n",
    "print(arr2[1][1])\n",
    "print(arr2[1, 2]) # arr2[1][2]와 동일"
   ]
  },
  {
   "cell_type": "code",
   "execution_count": 23,
   "metadata": {},
   "outputs": [
    {
     "data": {
      "text/plain": [
       "array([[  0,   1,   2,   3],\n",
       "       [  4,   5, 100,   7],\n",
       "       [  8,   9,  10,  11],\n",
       "       [ 12,  13,  14,  15]])"
      ]
     },
     "execution_count": 23,
     "metadata": {},
     "output_type": "execute_result"
    }
   ],
   "source": [
    "arr2[1, 2] = 100 # 새로운 값 할당\n",
    "arr2"
   ]
  },
  {
   "cell_type": "code",
   "execution_count": 25,
   "metadata": {},
   "outputs": [
    {
     "data": {
      "text/plain": [
       "array([[  0,   1,   2,   3],\n",
       "       [  4,   5, 100,   7]])"
      ]
     },
     "execution_count": 25,
     "metadata": {},
     "output_type": "execute_result"
    }
   ],
   "source": [
    "# 다차원 배열에서 슬라이싱 활용하기\n",
    "arr2[0:2]"
   ]
  },
  {
   "cell_type": "code",
   "execution_count": 26,
   "metadata": {},
   "outputs": [
    {
     "data": {
      "text/plain": [
       "array([[  2,   3],\n",
       "       [100,   7]])"
      ]
     },
     "execution_count": 26,
     "metadata": {},
     "output_type": "execute_result"
    }
   ],
   "source": [
    "arr2[0:2, 2:4]"
   ]
  },
  {
   "cell_type": "markdown",
   "metadata": {},
   "source": [
    "# 불리언 인덱스\n",
    "- 배열에서 읽어오고 싶은 값이 위치한 곳에는 True를, 그렇지 않은 위치에는 False를 넣은 불리언 배열을 만들어서 값을 선택하는 방법을 불리언 인덱스라고 함\n",
    "- 조건에 만족하는 인덱스에만 True 값을 담고, 그렇지 않은 곳에는 False를 담은 배열을 만들어 활용할 수 있음\n",
    "- 불리언 배열을 인덱스로 사용하면 True에 위치한 값만 반환하게 됨\n",
    "- 불리언 인덱스는 특정 조건을 만족하는 값을 선택(필터링) 할 때 많이 사용됨"
   ]
  },
  {
   "cell_type": "code",
   "execution_count": 33,
   "metadata": {},
   "outputs": [
    {
     "data": {
      "text/plain": [
       "array([80, 90, 70, 65, 85, 95, 90, 80, 75, 80])"
      ]
     },
     "execution_count": 33,
     "metadata": {},
     "output_type": "execute_result"
    }
   ],
   "source": [
    "# 점수를 담은 배열 생성하기\n",
    "scores = [80, 90, 70, 65, 85, 95, 90, 80, 75, 80]\n",
    "score_arr = np.array(scores)\n",
    "score_arr"
   ]
  },
  {
   "cell_type": "code",
   "execution_count": 34,
   "metadata": {},
   "outputs": [
    {
     "data": {
      "text/plain": [
       "array([False,  True, False, False, False,  True,  True, False, False,\n",
       "       False])"
      ]
     },
     "execution_count": 34,
     "metadata": {},
     "output_type": "execute_result"
    }
   ],
   "source": [
    "# 불리언 배열 만들기\n",
    "score_arr >= 90"
   ]
  },
  {
   "cell_type": "code",
   "execution_count": 35,
   "metadata": {},
   "outputs": [
    {
     "data": {
      "text/plain": [
       "array([90, 95, 90])"
      ]
     },
     "execution_count": 35,
     "metadata": {},
     "output_type": "execute_result"
    }
   ],
   "source": [
    "# 불리언 인덱스 활용하기 -> True에 위치한 값만 반환\n",
    "score_arr[score_arr >= 90]"
   ]
  },
  {
   "cell_type": "code",
   "execution_count": 36,
   "metadata": {},
   "outputs": [
    {
     "data": {
      "text/plain": [
       "array([ 80, 999,  70,  65,  85, 999, 999,  80,  75,  80])"
      ]
     },
     "execution_count": 36,
     "metadata": {},
     "output_type": "execute_result"
    }
   ],
   "source": [
    "# 불리언 인덱스 활용해 값 선택하고 변경하기 -> True에 위치한 값만 변경됨\n",
    "score_arr[score_arr >= 90] = 999\n",
    "score_arr"
   ]
  }
 ],
 "metadata": {
  "kernelspec": {
   "display_name": "Python 3",
   "language": "python",
   "name": "python3"
  },
  "language_info": {
   "codemirror_mode": {
    "name": "ipython",
    "version": 3
   },
   "file_extension": ".py",
   "mimetype": "text/x-python",
   "name": "python",
   "nbconvert_exporter": "python",
   "pygments_lexer": "ipython3",
   "version": "3.13.0"
  }
 },
 "nbformat": 4,
 "nbformat_minor": 2
}
